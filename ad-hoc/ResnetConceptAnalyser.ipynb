{
 "cells": [
  {
   "cell_type": "code",
   "execution_count": 24,
   "id": "initial_id",
   "metadata": {
    "collapsed": true,
    "ExecuteTime": {
     "end_time": "2025-03-06T09:36:18.890109500Z",
     "start_time": "2025-03-06T09:36:18.882584100Z"
    }
   },
   "outputs": [],
   "source": [
    "import os\n",
    "import pickle\n",
    "import torch\n",
    "import torch.nn as nn\n",
    "import torchvision.models as models\n",
    "from src.NeuralModels import ConceptNetwork\n",
    "from src.DataLoader import CaltechBirdsDataset \n",
    "\n",
    "device = 'cuda' if torch.cuda.is_available() else 'cpu'\n",
    "results_dir = os.path.join(os.getcwd(), os.pardir, 'results')"
   ]
  },
  {
   "cell_type": "code",
   "execution_count": 25,
   "outputs": [],
   "source": [
    "phases = ['Train', 'Test']\n",
    "image_datasets = {x:CaltechBirdsDataset(train=(x=='Train'), bounding=True) for x in phases}\n",
    "dataloaders    = {x: torch.utils.data.DataLoader(image_datasets[x], batch_size=8, shuffle=False, num_workers=1) for x in phases}\n",
    "dataset_sizes  = {x: len(image_datasets[x]) for x in phases}"
   ],
   "metadata": {
    "collapsed": false,
    "ExecuteTime": {
     "end_time": "2025-03-06T09:36:20.163987400Z",
     "start_time": "2025-03-06T09:36:20.145576400Z"
    }
   },
   "id": "b72a4a9fb5daa934"
  },
  {
   "cell_type": "code",
   "execution_count": 16,
   "outputs": [],
   "source": [
    "concept_names = {'one_hot': 200}\n",
    "for name in image_datasets['Train'].concept_names:\n",
    "    concept_names[name] =  len(image_datasets['Train'].attributes.loc[(image_datasets['Train'].attributes['concept_name']==name)])"
   ],
   "metadata": {
    "collapsed": false,
    "ExecuteTime": {
     "end_time": "2025-03-06T09:29:42.794792200Z",
     "start_time": "2025-03-06T09:29:42.784809200Z"
    }
   },
   "id": "2491cff948e147b0"
  },
  {
   "cell_type": "code",
   "execution_count": 37,
   "outputs": [],
   "source": [
    "results_dict = dict()\n",
    "for results_file in os.listdir(results_dir):\n",
    "    file_type     = results_file[-11:-4]\n",
    "    concept_name  = results_file[8:-11]\n",
    "    if file_type == 'results':\n",
    "        with open(os.path.join(results_dir,results_file), 'rb') as file:\n",
    "            results = pickle.load(file)\n",
    "            results_dict[concept_name] = results\n"
   ],
   "metadata": {
    "collapsed": false,
    "ExecuteTime": {
     "end_time": "2025-03-06T09:42:36.237574800Z",
     "start_time": "2025-03-06T09:42:36.227064900Z"
    }
   },
   "id": "5fc9b67a6faa3e1a"
  },
  {
   "cell_type": "code",
   "execution_count": 52,
   "outputs": [
    {
     "name": "stdout",
     "output_type": "stream",
     "text": [
      "has_back_color 0.51\n",
      "has_back_pattern 0.49\n",
      "has_belly_color 0.57\n",
      "has_belly_pattern 0.67\n",
      "has_bill_color 0.46\n",
      "has_bill_length 0.73\n",
      "has_bill_shape 0.58\n",
      "has_breast_color 0.55\n",
      "has_breast_pattern 0.64\n",
      "has_crown_color 0.6\n",
      "has_eye_color 0.85\n",
      "has_forehead_color 0.58\n",
      "has_head_pattern 0.33\n",
      "has_leg_color 0.41\n",
      "has_nape_color 0.57\n",
      "has_primary_color 0.56\n",
      "has_shape 0.59\n",
      "has_size 0.6\n",
      "has_tail_pattern 0.44\n",
      "has_tail_shape 0.32\n",
      "has_throat_color 0.59\n",
      "has_underparts_color 0.55\n",
      "has_under_tail_color 0.45\n",
      "has_upperparts_color 0.51\n",
      "has_upper_tail_color 0.4\n",
      "has_wing_color 0.55\n",
      "has_wing_pattern 0.52\n",
      "has_wing_shape 0.14\n",
      "one_hot 0.74\n",
      "['has_back_color', 'has_belly_color', 'has_belly_pattern', 'has_bill_length', 'has_bill_shape', 'has_breast_color', 'has_breast_pattern', 'has_crown_color', 'has_eye_color', 'has_forehead_color', 'has_nape_color', 'has_primary_color', 'has_shape', 'has_size', 'has_throat_color', 'has_underparts_color', 'has_upperparts_color', 'has_wing_color', 'has_wing_pattern', 'one_hot']\n"
     ]
    }
   ],
   "source": [
    "threshold = 0.50\n",
    "concept_list = []\n",
    "for concept_name, results in results_dict.items():\n",
    "    labels, preds = results['labels'], results['predictions']\n",
    "    count, correct = 0, 0\n",
    "    for i, label in enumerate(labels):\n",
    "        if concept_name == 'one_hot' or label != 0:\n",
    "            count +=1\n",
    "            if preds[i] == label: correct += 1   \n",
    "    accuracy = round(correct / count,2)\n",
    "    print(concept_name, accuracy)\n",
    "    if accuracy >= threshold:\n",
    "        concept_list.append(concept_name)\n",
    "print(concept_list)\n"
   ],
   "metadata": {
    "collapsed": false,
    "ExecuteTime": {
     "end_time": "2025-03-06T10:03:15.654965900Z",
     "start_time": "2025-03-06T10:03:15.615544600Z"
    }
   },
   "id": "af258b66effe1d31"
  },
  {
   "cell_type": "code",
   "execution_count": 30,
   "outputs": [
    {
     "data": {
      "text/plain": "{'labels': [0,\n  0,\n  0,\n  0,\n  0,\n  0,\n  0,\n  0,\n  0,\n  0,\n  0,\n  0,\n  0,\n  0,\n  0,\n  0,\n  0,\n  0,\n  0,\n  0,\n  0,\n  0,\n  0,\n  0,\n  0,\n  0,\n  0,\n  0,\n  0,\n  0,\n  1,\n  1,\n  1,\n  1,\n  1,\n  1,\n  1,\n  1,\n  1,\n  1,\n  1,\n  1,\n  1,\n  1,\n  1,\n  1,\n  1,\n  1,\n  1,\n  1,\n  1,\n  1,\n  1,\n  1,\n  1,\n  1,\n  1,\n  1,\n  1,\n  1,\n  2,\n  2,\n  2,\n  2,\n  2,\n  2,\n  2,\n  2,\n  2,\n  2,\n  2,\n  2,\n  2,\n  2,\n  2,\n  2,\n  2,\n  2,\n  2,\n  2,\n  2,\n  2,\n  2,\n  2,\n  2,\n  2,\n  2,\n  2,\n  3,\n  3,\n  3,\n  3,\n  3,\n  3,\n  3,\n  3,\n  3,\n  3,\n  3,\n  3,\n  3,\n  3,\n  3,\n  3,\n  3,\n  3,\n  3,\n  3,\n  3,\n  3,\n  3,\n  3,\n  3,\n  3,\n  3,\n  3,\n  3,\n  3,\n  4,\n  4,\n  4,\n  4,\n  4,\n  4,\n  4,\n  4,\n  4,\n  4,\n  4,\n  4,\n  4,\n  4,\n  5,\n  5,\n  5,\n  5,\n  5,\n  5,\n  5,\n  5,\n  5,\n  5,\n  5,\n  6,\n  6,\n  6,\n  6,\n  6,\n  6,\n  6,\n  6,\n  6,\n  6,\n  6,\n  6,\n  6,\n  6,\n  6,\n  6,\n  6,\n  6,\n  6,\n  6,\n  6,\n  6,\n  6,\n  7,\n  7,\n  7,\n  7,\n  7,\n  7,\n  7,\n  7,\n  7,\n  7,\n  7,\n  7,\n  7,\n  7,\n  7,\n  7,\n  7,\n  7,\n  8,\n  8,\n  8,\n  8,\n  8,\n  8,\n  8,\n  8,\n  8,\n  8,\n  8,\n  8,\n  8,\n  8,\n  8,\n  8,\n  8,\n  8,\n  8,\n  8,\n  8,\n  8,\n  8,\n  8,\n  8,\n  8,\n  8,\n  8,\n  8,\n  9,\n  9,\n  9,\n  9,\n  9,\n  9,\n  9,\n  9,\n  9,\n  9,\n  9,\n  9,\n  9,\n  9,\n  9,\n  9,\n  9,\n  9,\n  9,\n  9,\n  9,\n  9,\n  9,\n  9,\n  9,\n  9,\n  9,\n  9,\n  9,\n  9,\n  10,\n  10,\n  10,\n  10,\n  10,\n  10,\n  10,\n  10,\n  10,\n  10,\n  10,\n  10,\n  10,\n  10,\n  10,\n  10,\n  10,\n  10,\n  10,\n  10,\n  10,\n  10,\n  10,\n  10,\n  10,\n  10,\n  10,\n  10,\n  10,\n  10,\n  11,\n  11,\n  11,\n  11,\n  11,\n  11,\n  11,\n  11,\n  11,\n  11,\n  11,\n  11,\n  11,\n  11,\n  11,\n  11,\n  11,\n  11,\n  11,\n  11,\n  11,\n  11,\n  11,\n  11,\n  11,\n  11,\n  12,\n  12,\n  12,\n  12,\n  12,\n  12,\n  12,\n  12,\n  12,\n  12,\n  12,\n  12,\n  12,\n  12,\n  12,\n  12,\n  12,\n  12,\n  12,\n  12,\n  12,\n  12,\n  12,\n  12,\n  12,\n  12,\n  12,\n  12,\n  12,\n  12,\n  13,\n  13,\n  13,\n  13,\n  13,\n  13,\n  13,\n  13,\n  13,\n  13,\n  13,\n  13,\n  13,\n  13,\n  13,\n  13,\n  13,\n  13,\n  13,\n  13,\n  13,\n  13,\n  13,\n  13,\n  13,\n  13,\n  13,\n  13,\n  13,\n  13,\n  14,\n  14,\n  14,\n  14,\n  14,\n  14,\n  14,\n  14,\n  14,\n  14,\n  14,\n  14,\n  14,\n  14,\n  14,\n  14,\n  14,\n  14,\n  14,\n  14,\n  14,\n  14,\n  14,\n  14,\n  14,\n  14,\n  14,\n  14,\n  15,\n  15,\n  15,\n  15,\n  15,\n  15,\n  15,\n  15,\n  15,\n  15,\n  15,\n  15,\n  15,\n  15,\n  15,\n  15,\n  15,\n  15,\n  15,\n  15,\n  15,\n  15,\n  15,\n  15,\n  15,\n  15,\n  15,\n  15,\n  16,\n  16,\n  16,\n  16,\n  16,\n  16,\n  16,\n  16,\n  16,\n  16,\n  16,\n  16,\n  16,\n  16,\n  16,\n  16,\n  16,\n  16,\n  16,\n  16,\n  16,\n  16,\n  16,\n  16,\n  16,\n  16,\n  16,\n  17,\n  17,\n  17,\n  17,\n  17,\n  17,\n  17,\n  17,\n  17,\n  17,\n  17,\n  17,\n  17,\n  17,\n  17,\n  18,\n  18,\n  18,\n  18,\n  18,\n  18,\n  18,\n  18,\n  18,\n  18,\n  18,\n  18,\n  18,\n  18,\n  18,\n  18,\n  18,\n  18,\n  18,\n  18,\n  18,\n  18,\n  18,\n  18,\n  18,\n  18,\n  18,\n  18,\n  18,\n  19,\n  19,\n  19,\n  19,\n  19,\n  19,\n  19,\n  19,\n  19,\n  19,\n  19,\n  19,\n  19,\n  19,\n  19,\n  19,\n  19,\n  19,\n  19,\n  19,\n  19,\n  19,\n  19,\n  19,\n  19,\n  19,\n  19,\n  19,\n  19,\n  20,\n  20,\n  20,\n  20,\n  20,\n  20,\n  20,\n  20,\n  20,\n  20,\n  20,\n  20,\n  20,\n  20,\n  20,\n  20,\n  20,\n  20,\n  20,\n  20,\n  20,\n  20,\n  20,\n  20,\n  20,\n  20,\n  20,\n  20,\n  20,\n  20,\n  21,\n  21,\n  21,\n  21,\n  21,\n  21,\n  21,\n  21,\n  21,\n  21,\n  21,\n  21,\n  21,\n  21,\n  21,\n  21,\n  21,\n  21,\n  21,\n  21,\n  21,\n  21,\n  21,\n  21,\n  21,\n  21,\n  22,\n  22,\n  22,\n  22,\n  22,\n  22,\n  22,\n  22,\n  22,\n  22,\n  22,\n  22,\n  22,\n  22,\n  22,\n  22,\n  22,\n  22,\n  22,\n  22,\n  22,\n  22,\n  22,\n  22,\n  22,\n  22,\n  22,\n  22,\n  22,\n  23,\n  23,\n  23,\n  23,\n  23,\n  23,\n  23,\n  23,\n  23,\n  23,\n  23,\n  23,\n  23,\n  23,\n  23,\n  23,\n  23,\n  23,\n  23,\n  23,\n  23,\n  23,\n  24,\n  24,\n  24,\n  24,\n  24,\n  24,\n  24,\n  24,\n  24,\n  24,\n  24,\n  24,\n  24,\n  24,\n  24,\n  24,\n  24,\n  24,\n  24,\n  24,\n  24,\n  24,\n  24,\n  24,\n  24,\n  24,\n  24,\n  24,\n  24,\n  24,\n  25,\n  25,\n  25,\n  25,\n  25,\n  25,\n  25,\n  25,\n  25,\n  25,\n  25,\n  25,\n  25,\n  25,\n  25,\n  25,\n  25,\n  25,\n  25,\n  25,\n  25,\n  25,\n  25,\n  25,\n  25,\n  25,\n  25,\n  25,\n  25,\n  25,\n  26,\n  26,\n  26,\n  26,\n  26,\n  26,\n  26,\n  26,\n  26,\n  26,\n  26,\n  26,\n  26,\n  26,\n  26,\n  26,\n  26,\n  26,\n  26,\n  26,\n  26,\n  26,\n  26,\n  26,\n  26,\n  26,\n  26,\n  26,\n  26,\n  26,\n  27,\n  27,\n  27,\n  27,\n  27,\n  27,\n  27,\n  27,\n  27,\n  27,\n  27,\n  27,\n  27,\n  27,\n  27,\n  27,\n  27,\n  27,\n  27,\n  27,\n  27,\n  27,\n  27,\n  27,\n  27,\n  27,\n  27,\n  27,\n  27,\n  28,\n  28,\n  28,\n  28,\n  28,\n  28,\n  28,\n  28,\n  28,\n  28,\n  28,\n  28,\n  28,\n  28,\n  28,\n  28,\n  28,\n  28,\n  28,\n  28,\n  28,\n  28,\n  28,\n  28,\n  28,\n  28,\n  28,\n  28,\n  28,\n  28,\n  29,\n  29,\n  29,\n  29,\n  29,\n  29,\n  29,\n  29,\n  29,\n  29,\n  29,\n  29,\n  29,\n  29,\n  29,\n  29,\n  29,\n  29,\n  29,\n  29,\n  29,\n  29,\n  29,\n  29,\n  29,\n  29,\n  29,\n  29,\n  29,\n  29,\n  30,\n  30,\n  30,\n  30,\n  30,\n  30,\n  30,\n  30,\n  30,\n  30,\n  30,\n  30,\n  30,\n  30,\n  30,\n  30,\n  30,\n  30,\n  30,\n  30,\n  30,\n  30,\n  30,\n  30,\n  30,\n  30,\n  30,\n  30,\n  30,\n  30,\n  31,\n  31,\n  31,\n  31,\n  31,\n  31,\n  31,\n  31,\n  31,\n  31,\n  31,\n  31,\n  31,\n  31,\n  31,\n  31,\n  31,\n  31,\n  31,\n  31,\n  31,\n  31,\n  31,\n  32,\n  32,\n  32,\n  32,\n  32,\n  32,\n  32,\n  32,\n  32,\n  32,\n  32,\n  32,\n  32,\n  32,\n  32,\n  32,\n  32,\n  32,\n  32,\n  32,\n  32,\n  32,\n  32,\n  32,\n  32,\n  32,\n  32,\n  32,\n  32,\n  33,\n  33,\n  33,\n  33,\n  33,\n  33,\n  33,\n  33,\n  33,\n  33,\n  33,\n  33,\n  33,\n  33,\n  33,\n  33,\n  33,\n  33,\n  33,\n  33,\n  33,\n  33,\n  33,\n  33,\n  33,\n  33,\n  33,\n  33,\n  33,\n  34,\n  34,\n  34,\n  34,\n  34,\n  34,\n  34,\n  34,\n  34,\n  34,\n  34,\n  34,\n  34,\n  34,\n  34,\n  34,\n  34,\n  34,\n  34,\n  34,\n  34,\n  34,\n  34,\n  34,\n  34,\n  34,\n  34,\n  34,\n  34,\n  34,\n  35,\n  35,\n  35,\n  35,\n  35,\n  35,\n  35,\n  35,\n  35,\n  35,\n  35,\n  35,\n  35,\n  35,\n  35,\n  35,\n  35,\n  35,\n  35,\n  35,\n  35,\n  35,\n  35,\n  35,\n  35,\n  35,\n  35,\n  35,\n  35,\n  35,\n  36,\n  36,\n  36,\n  36,\n  36,\n  36,\n  36,\n  36,\n  36,\n  36,\n  36,\n  36,\n  36,\n  36,\n  36,\n  36,\n  36,\n  36,\n  36,\n  36,\n  36,\n  36,\n  36,\n  36,\n  36,\n  36,\n  36,\n  36,\n  ...],\n 'predictions': [0,\n  0,\n  0,\n  2,\n  0,\n  62,\n  0,\n  0,\n  0,\n  0,\n  0,\n  0,\n  2,\n  2,\n  0,\n  0,\n  0,\n  2,\n  0,\n  0,\n  2,\n  2,\n  0,\n  24,\n  2,\n  2,\n  43,\n  0,\n  0,\n  0,\n  70,\n  1,\n  1,\n  1,\n  1,\n  58,\n  1,\n  1,\n  1,\n  1,\n  1,\n  83,\n  45,\n  58,\n  1,\n  1,\n  1,\n  65,\n  2,\n  58,\n  100,\n  0,\n  1,\n  83,\n  1,\n  1,\n  58,\n  1,\n  1,\n  65,\n  83,\n  2,\n  2,\n  2,\n  2,\n  2,\n  2,\n  4,\n  2,\n  58,\n  2,\n  2,\n  2,\n  57,\n  2,\n  2,\n  0,\n  0,\n  0,\n  0,\n  2,\n  2,\n  2,\n  2,\n  2,\n  2,\n  2,\n  2,\n  3,\n  3,\n  3,\n  3,\n  3,\n  3,\n  31,\n  3,\n  3,\n  3,\n  3,\n  3,\n  3,\n  3,\n  3,\n  3,\n  29,\n  3,\n  3,\n  3,\n  3,\n  3,\n  106,\n  106,\n  21,\n  29,\n  3,\n  3,\n  3,\n  3,\n  4,\n  4,\n  150,\n  4,\n  4,\n  4,\n  4,\n  4,\n  4,\n  4,\n  24,\n  4,\n  4,\n  4,\n  5,\n  5,\n  5,\n  5,\n  5,\n  5,\n  5,\n  107,\n  5,\n  5,\n  5,\n  6,\n  6,\n  6,\n  6,\n  6,\n  6,\n  6,\n  4,\n  6,\n  4,\n  6,\n  6,\n  49,\n  6,\n  6,\n  6,\n  6,\n  6,\n  6,\n  6,\n  6,\n  6,\n  150,\n  7,\n  49,\n  7,\n  6,\n  7,\n  4,\n  7,\n  22,\n  7,\n  7,\n  7,\n  22,\n  7,\n  7,\n  4,\n  49,\n  49,\n  7,\n  8,\n  26,\n  8,\n  8,\n  29,\n  3,\n  10,\n  48,\n  133,\n  26,\n  10,\n  22,\n  8,\n  106,\n  28,\n  8,\n  26,\n  28,\n  8,\n  26,\n  26,\n  8,\n  8,\n  8,\n  10,\n  8,\n  8,\n  8,\n  8,\n  9,\n  25,\n  9,\n  9,\n  9,\n  9,\n  9,\n  9,\n  9,\n  9,\n  9,\n  9,\n  9,\n  9,\n  9,\n  9,\n  9,\n  9,\n  9,\n  9,\n  9,\n  9,\n  9,\n  9,\n  9,\n  9,\n  9,\n  9,\n  9,\n  9,\n  25,\n  3,\n  10,\n  92,\n  133,\n  26,\n  10,\n  20,\n  26,\n  10,\n  11,\n  10,\n  10,\n  10,\n  10,\n  10,\n  26,\n  3,\n  25,\n  26,\n  8,\n  3,\n  10,\n  10,\n  48,\n  4,\n  8,\n  10,\n  28,\n  10,\n  11,\n  11,\n  11,\n  11,\n  11,\n  11,\n  11,\n  29,\n  11,\n  11,\n  11,\n  11,\n  11,\n  11,\n  11,\n  11,\n  11,\n  11,\n  11,\n  11,\n  11,\n  11,\n  11,\n  11,\n  11,\n  11,\n  12,\n  90,\n  12,\n  12,\n  12,\n  12,\n  29,\n  11,\n  12,\n  12,\n  12,\n  12,\n  12,\n  12,\n  12,\n  12,\n  12,\n  12,\n  12,\n  12,\n  12,\n  12,\n  12,\n  12,\n  12,\n  12,\n  12,\n  12,\n  12,\n  12,\n  13,\n  13,\n  13,\n  13,\n  13,\n  13,\n  13,\n  53,\n  13,\n  13,\n  13,\n  13,\n  13,\n  13,\n  13,\n  13,\n  13,\n  13,\n  13,\n  13,\n  13,\n  13,\n  13,\n  13,\n  13,\n  13,\n  13,\n  13,\n  13,\n  13,\n  14,\n  14,\n  14,\n  14,\n  14,\n  14,\n  14,\n  14,\n  14,\n  14,\n  14,\n  14,\n  14,\n  14,\n  14,\n  14,\n  53,\n  14,\n  14,\n  14,\n  14,\n  14,\n  14,\n  14,\n  14,\n  14,\n  14,\n  14,\n  15,\n  15,\n  15,\n  15,\n  15,\n  15,\n  15,\n  15,\n  171,\n  15,\n  15,\n  15,\n  15,\n  15,\n  15,\n  15,\n  15,\n  15,\n  15,\n  15,\n  171,\n  15,\n  96,\n  15,\n  15,\n  15,\n  171,\n  15,\n  139,\n  16,\n  16,\n  16,\n  16,\n  16,\n  16,\n  16,\n  139,\n  16,\n  16,\n  139,\n  16,\n  16,\n  55,\n  16,\n  16,\n  139,\n  55,\n  16,\n  16,\n  16,\n  139,\n  16,\n  16,\n  16,\n  16,\n  17,\n  17,\n  17,\n  17,\n  17,\n  17,\n  17,\n  17,\n  17,\n  17,\n  17,\n  17,\n  17,\n  17,\n  17,\n  18,\n  18,\n  18,\n  18,\n  18,\n  18,\n  18,\n  18,\n  18,\n  13,\n  18,\n  18,\n  18,\n  18,\n  18,\n  18,\n  18,\n  18,\n  18,\n  18,\n  18,\n  18,\n  154,\n  3,\n  18,\n  18,\n  141,\n  18,\n  18,\n  19,\n  19,\n  7,\n  19,\n  19,\n  19,\n  199,\n  19,\n  19,\n  19,\n  156,\n  19,\n  19,\n  19,\n  160,\n  19,\n  19,\n  19,\n  19,\n  19,\n  19,\n  19,\n  199,\n  19,\n  19,\n  19,\n  19,\n  19,\n  167,\n  20,\n  20,\n  20,\n  20,\n  20,\n  20,\n  20,\n  20,\n  20,\n  20,\n  20,\n  20,\n  20,\n  20,\n  20,\n  20,\n  20,\n  20,\n  20,\n  20,\n  20,\n  20,\n  20,\n  20,\n  20,\n  20,\n  148,\n  20,\n  20,\n  20,\n  21,\n  21,\n  21,\n  91,\n  104,\n  104,\n  21,\n  21,\n  21,\n  104,\n  104,\n  104,\n  21,\n  104,\n  91,\n  21,\n  104,\n  21,\n  104,\n  21,\n  21,\n  104,\n  21,\n  104,\n  21,\n  104,\n  198,\n  22,\n  24,\n  22,\n  22,\n  0,\n  22,\n  22,\n  22,\n  57,\n  23,\n  22,\n  22,\n  24,\n  22,\n  22,\n  22,\n  22,\n  23,\n  48,\n  3,\n  7,\n  22,\n  24,\n  22,\n  24,\n  22,\n  22,\n  107,\n  70,\n  23,\n  23,\n  23,\n  23,\n  23,\n  23,\n  23,\n  23,\n  22,\n  23,\n  23,\n  23,\n  23,\n  23,\n  23,\n  23,\n  23,\n  23,\n  2,\n  23,\n  23,\n  7,\n  49,\n  22,\n  24,\n  24,\n  133,\n  24,\n  23,\n  24,\n  24,\n  24,\n  22,\n  24,\n  22,\n  24,\n  86,\n  22,\n  22,\n  91,\n  24,\n  24,\n  24,\n  23,\n  22,\n  23,\n  85,\n  22,\n  24,\n  22,\n  49,\n  25,\n  25,\n  25,\n  25,\n  25,\n  26,\n  25,\n  25,\n  25,\n  25,\n  25,\n  25,\n  26,\n  25,\n  25,\n  12,\n  25,\n  25,\n  133,\n  25,\n  25,\n  25,\n  3,\n  25,\n  25,\n  25,\n  3,\n  25,\n  25,\n  25,\n  26,\n  18,\n  26,\n  3,\n  3,\n  26,\n  25,\n  3,\n  26,\n  48,\n  48,\n  28,\n  48,\n  92,\n  48,\n  90,\n  3,\n  25,\n  28,\n  26,\n  25,\n  60,\n  29,\n  3,\n  90,\n  29,\n  26,\n  29,\n  26,\n  3,\n  27,\n  27,\n  186,\n  193,\n  27,\n  197,\n  27,\n  27,\n  27,\n  27,\n  27,\n  27,\n  27,\n  27,\n  27,\n  27,\n  27,\n  27,\n  27,\n  109,\n  27,\n  193,\n  27,\n  27,\n  27,\n  27,\n  27,\n  27,\n  27,\n  28,\n  28,\n  28,\n  29,\n  28,\n  26,\n  28,\n  28,\n  106,\n  107,\n  28,\n  3,\n  29,\n  28,\n  106,\n  29,\n  106,\n  26,\n  106,\n  29,\n  28,\n  28,\n  26,\n  28,\n  28,\n  26,\n  28,\n  29,\n  28,\n  106,\n  25,\n  29,\n  29,\n  48,\n  25,\n  28,\n  107,\n  29,\n  3,\n  26,\n  28,\n  29,\n  22,\n  8,\n  28,\n  9,\n  106,\n  107,\n  29,\n  106,\n  29,\n  107,\n  3,\n  8,\n  22,\n  106,\n  3,\n  23,\n  28,\n  28,\n  32,\n  32,\n  30,\n  30,\n  32,\n  75,\n  32,\n  32,\n  30,\n  32,\n  31,\n  30,\n  32,\n  155,\n  30,\n  30,\n  30,\n  32,\n  32,\n  30,\n  30,\n  42,\n  30,\n  30,\n  30,\n  30,\n  30,\n  153,\n  30,\n  32,\n  31,\n  31,\n  3,\n  187,\n  31,\n  31,\n  0,\n  31,\n  31,\n  31,\n  31,\n  40,\n  31,\n  31,\n  150,\n  20,\n  31,\n  31,\n  31,\n  3,\n  31,\n  31,\n  30,\n  31,\n  32,\n  32,\n  32,\n  32,\n  32,\n  32,\n  32,\n  155,\n  131,\n  32,\n  153,\n  32,\n  31,\n  32,\n  184,\n  32,\n  32,\n  48,\n  32,\n  32,\n  31,\n  32,\n  144,\n  32,\n  32,\n  32,\n  32,\n  31,\n  33,\n  33,\n  187,\n  7,\n  33,\n  33,\n  33,\n  33,\n  33,\n  33,\n  33,\n  33,\n  33,\n  33,\n  33,\n  33,\n  33,\n  33,\n  33,\n  33,\n  33,\n  33,\n  33,\n  33,\n  33,\n  33,\n  33,\n  33,\n  33,\n  34,\n  34,\n  34,\n  34,\n  34,\n  34,\n  34,\n  34,\n  34,\n  34,\n  34,\n  34,\n  34,\n  34,\n  34,\n  34,\n  34,\n  34,\n  34,\n  34,\n  34,\n  34,\n  34,\n  34,\n  34,\n  34,\n  34,\n  34,\n  34,\n  34,\n  35,\n  35,\n  35,\n  35,\n  35,\n  35,\n  35,\n  35,\n  35,\n  35,\n  35,\n  35,\n  35,\n  35,\n  35,\n  35,\n  35,\n  35,\n  35,\n  35,\n  35,\n  35,\n  35,\n  35,\n  35,\n  35,\n  35,\n  35,\n  35,\n  35,\n  127,\n  36,\n  36,\n  36,\n  36,\n  42,\n  36,\n  36,\n  36,\n  153,\n  36,\n  36,\n  36,\n  36,\n  36,\n  36,\n  101,\n  36,\n  36,\n  101,\n  36,\n  36,\n  36,\n  38,\n  36,\n  36,\n  42,\n  42,\n  ...]}"
     },
     "execution_count": 30,
     "metadata": {},
     "output_type": "execute_result"
    }
   ],
   "source": [
    "        labels, preds = results['labels'], results['predictions']\n",
    "        "
   ],
   "metadata": {
    "collapsed": false,
    "ExecuteTime": {
     "end_time": "2025-03-06T09:37:29.128971200Z",
     "start_time": "2025-03-06T09:37:29.125459800Z"
    }
   },
   "id": "278cc2139204195c"
  },
  {
   "cell_type": "code",
   "execution_count": 34,
   "outputs": [],
   "source": [
    "all_labels, all_preds = [], []\n",
    "correct, count = 0,0\n",
    "for data_dict, inputs in dataloaders['Test']:\n",
    "    inputs = inputs.to(device)\n",
    "    labels = data_dict[concept_name]\n",
    "    all_labels += [label.item() for label in labels]\n",
    "    labels = labels.to(device)\n",
    "    \n",
    "    with torch.set_grad_enabled(False):\n",
    "        outputs = model_ft(inputs)[concept_name]\n",
    "        values, preds = torch.max(outputs, 1)\n",
    "        all_preds += [pred.item() for pred in preds]\n",
    "    count += len(labels)\n",
    "    correct +=  torch.sum(preds == labels).item()\n",
    "    \n",
    "    \n"
   ],
   "metadata": {
    "collapsed": false,
    "ExecuteTime": {
     "end_time": "2025-03-05T17:01:40.874521300Z",
     "start_time": "2025-03-05T17:01:13.663820100Z"
    }
   },
   "id": "42d33e8e45f969b2"
  },
  {
   "cell_type": "code",
   "execution_count": 35,
   "outputs": [
    {
     "data": {
      "text/plain": "[0, 0, 0, 0, 0, 0, 0, 0, 0, 0, 0, 0, 0, 0, 0]"
     },
     "execution_count": 35,
     "metadata": {},
     "output_type": "execute_result"
    }
   ],
   "source": [
    "all_labels[:15]"
   ],
   "metadata": {
    "collapsed": false,
    "ExecuteTime": {
     "end_time": "2025-03-05T17:01:40.884376700Z",
     "start_time": "2025-03-05T17:01:40.875524Z"
    }
   },
   "id": "329a50ce3de1c1f3"
  },
  {
   "cell_type": "code",
   "execution_count": 36,
   "outputs": [
    {
     "data": {
      "text/plain": "[185, 89, 91, 31, 27, 141, 75, 24, 184, 13, 115, 15, 12, 184, 91]"
     },
     "execution_count": 36,
     "metadata": {},
     "output_type": "execute_result"
    }
   ],
   "source": [
    "all_preds[:15]"
   ],
   "metadata": {
    "collapsed": false,
    "ExecuteTime": {
     "end_time": "2025-03-05T17:01:40.893905100Z",
     "start_time": "2025-03-05T17:01:40.880373500Z"
    }
   },
   "id": "605f17aa55702eae"
  },
  {
   "cell_type": "code",
   "execution_count": null,
   "outputs": [],
   "source": [],
   "metadata": {
    "collapsed": false
   },
   "id": "d257a753584f1361"
  }
 ],
 "metadata": {
  "kernelspec": {
   "display_name": "Python 3",
   "language": "python",
   "name": "python3"
  },
  "language_info": {
   "codemirror_mode": {
    "name": "ipython",
    "version": 2
   },
   "file_extension": ".py",
   "mimetype": "text/x-python",
   "name": "python",
   "nbconvert_exporter": "python",
   "pygments_lexer": "ipython2",
   "version": "2.7.6"
  }
 },
 "nbformat": 4,
 "nbformat_minor": 5
}
