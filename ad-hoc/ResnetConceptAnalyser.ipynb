{
 "cells": [
  {
   "cell_type": "code",
   "execution_count": 1,
   "id": "initial_id",
   "metadata": {
    "collapsed": true,
    "ExecuteTime": {
     "end_time": "2025-03-05T14:26:45.400846100Z",
     "start_time": "2025-03-05T14:26:40.475711100Z"
    }
   },
   "outputs": [],
   "source": [
    "import os\n",
    "import torch\n",
    "import torch.nn as nn\n",
    "import torchvision.models as models\n",
    "from src.NeuralModels import ConceptNetwork\n",
    "from src.DataLoader import CaltechBirdsDataset \n",
    "\n",
    "device = 'cuda' if torch.cuda.is_available() else 'cpu'"
   ]
  },
  {
   "cell_type": "code",
   "execution_count": 2,
   "outputs": [],
   "source": [
    "phases = ['Train', 'Test']\n",
    "image_datasets = {x:CaltechBirdsDataset(train=(x=='Train'), bounding=True) for x in phases}\n",
    "dataloaders    = {x: torch.utils.data.DataLoader(image_datasets[x], batch_size=8, shuffle=False, num_workers=1) for x in phases}\n",
    "dataset_sizes  = {x: len(image_datasets[x]) for x in phases}"
   ],
   "metadata": {
    "collapsed": false,
    "ExecuteTime": {
     "end_time": "2025-03-05T14:26:53.343647300Z",
     "start_time": "2025-03-05T14:26:53.272763200Z"
    }
   },
   "id": "b72a4a9fb5daa934"
  },
  {
   "cell_type": "code",
   "execution_count": 3,
   "outputs": [],
   "source": [
    "concept_names = {'one_hot': 200}\n",
    "for name in image_datasets['Train'].concept_names:\n",
    "    concept_names[name] =  len(image_datasets['Train'].attributes.loc[(image_datasets['Train'].attributes['concept_name']==name)])"
   ],
   "metadata": {
    "collapsed": false,
    "ExecuteTime": {
     "end_time": "2025-03-05T14:26:54.401669Z",
     "start_time": "2025-03-05T14:26:54.378548600Z"
    }
   },
   "id": "2491cff948e147b0"
  },
  {
   "cell_type": "code",
   "execution_count": 19,
   "outputs": [
    {
     "name": "stdout",
     "output_type": "stream",
     "text": [
      "concept_name 0.5407317915084571\n"
     ]
    }
   ],
   "source": [
    "for model_dict in os.listdir(os.path.join(os.getcwd(), os.pardir, 'results')):\n",
    "    correct, count = 0, 0\n",
    "    concept_name = model_dict[7:-4]\n",
    "    concept_set= {concept_name: concept_names[concept_name]}\n",
    "    model_ft = ConceptNetwork(concept_names=concept_set, freeze=False)\n",
    "    model_ft.load_state_dict(torch.load(os.path.join(os.getcwd(), os.pardir, 'results',model_dict), weights_only=True))\n",
    "    model_ft.to(device)\n",
    "    for data_dict, inputs in dataloaders['Test']:\n",
    "        inputs = inputs.to(device)\n",
    "        labels = data_dict[concept_name]\n",
    "        labels = labels.to(device)\n",
    "        \n",
    "        with torch.set_grad_enabled(False):\n",
    "            outputs = model_ft(inputs)[concept_name]\n",
    "            values, preds = torch.max(outputs, 1)\n",
    "        count += len(labels)\n",
    "        correct +=  torch.sum(preds == labels).item()\n",
    "        \n",
    "    \n",
    "    print(concept_name, round(correct / count,2))"
   ],
   "metadata": {
    "collapsed": false,
    "ExecuteTime": {
     "end_time": "2025-03-05T14:49:43.079800Z",
     "start_time": "2025-03-05T14:49:15.546944300Z"
    }
   },
   "id": "5fc9b67a6faa3e1a"
  },
  {
   "cell_type": "code",
   "execution_count": null,
   "outputs": [],
   "source": [],
   "metadata": {
    "collapsed": false
   },
   "id": "42d33e8e45f969b2"
  }
 ],
 "metadata": {
  "kernelspec": {
   "display_name": "Python 3",
   "language": "python",
   "name": "python3"
  },
  "language_info": {
   "codemirror_mode": {
    "name": "ipython",
    "version": 2
   },
   "file_extension": ".py",
   "mimetype": "text/x-python",
   "name": "python",
   "nbconvert_exporter": "python",
   "pygments_lexer": "ipython2",
   "version": "2.7.6"
  }
 },
 "nbformat": 4,
 "nbformat_minor": 5
}
