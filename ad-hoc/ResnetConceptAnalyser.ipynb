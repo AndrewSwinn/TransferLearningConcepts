{
 "cells": [
  {
   "cell_type": "code",
   "execution_count": 11,
   "id": "initial_id",
   "metadata": {
    "collapsed": true,
    "ExecuteTime": {
     "end_time": "2025-03-05T14:06:41.638317400Z",
     "start_time": "2025-03-05T14:06:41.635796600Z"
    }
   },
   "outputs": [],
   "source": [
    "import os\n",
    "import torch\n",
    "import torch.nn as nn\n",
    "import torchvision.models as models\n",
    "from src.NeuralModels import ConceptNetwork\n",
    "from src.DataLoader import CaltechBirdsDataset \n",
    "\n",
    "device = 'cuda' if torch.cuda.is_available() else 'cpu'"
   ]
  },
  {
   "cell_type": "code",
   "execution_count": 12,
   "outputs": [],
   "source": [
    "phases = ['Train', 'Test']\n",
    "image_datasets = {x:CaltechBirdsDataset(train=(x=='Train'), bounding=True) for x in phases}\n",
    "dataloaders    = {x: torch.utils.data.DataLoader(image_datasets[x], batch_size=8, shuffle=False, num_workers=1) for x in phases}\n",
    "dataset_sizes  = {x: len(image_datasets[x]) for x in phases}"
   ],
   "metadata": {
    "collapsed": false,
    "ExecuteTime": {
     "end_time": "2025-03-05T14:06:44.737730700Z",
     "start_time": "2025-03-05T14:06:44.716187700Z"
    }
   },
   "id": "b72a4a9fb5daa934"
  },
  {
   "cell_type": "code",
   "execution_count": 13,
   "outputs": [],
   "source": [
    "concept_names = {'one_hot': 200}\n",
    "for name in image_datasets['Train'].concept_names:\n",
    "    concept_names[name] =  len(image_datasets['Train'].attributes.loc[(image_datasets['Train'].attributes['concept_name']==name)])"
   ],
   "metadata": {
    "collapsed": false,
    "ExecuteTime": {
     "end_time": "2025-03-05T14:06:44.880684200Z",
     "start_time": "2025-03-05T14:06:44.878172100Z"
    }
   },
   "id": "2491cff948e147b0"
  },
  {
   "cell_type": "code",
   "execution_count": 18,
   "outputs": [
    {
     "name": "stdout",
     "output_type": "stream",
     "text": [
      "{'has_underparts_color': 16}\n",
      "{'one_hot': 200}\n"
     ]
    }
   ],
   "source": [
    "for model_dict in os.listdir(os.path.join(os.getcwd(), os.pardir, 'results')):\n",
    "    concept_name = model_dict[7:-4]\n",
    "    concept_spec = {concept_name: concept_names[concept_name]}\n",
    "    model_ft = ConceptNetwork(concept_names=concept_spec, freeze=False)\n",
    "    print(concept_spec)"
   ],
   "metadata": {
    "collapsed": false,
    "ExecuteTime": {
     "end_time": "2025-03-05T14:10:51.517849Z",
     "start_time": "2025-03-05T14:10:51.254039300Z"
    }
   },
   "id": "5fc9b67a6faa3e1a"
  },
  {
   "cell_type": "code",
   "execution_count": null,
   "outputs": [],
   "source": [],
   "metadata": {
    "collapsed": false
   },
   "id": "42d33e8e45f969b2"
  }
 ],
 "metadata": {
  "kernelspec": {
   "display_name": "Python 3",
   "language": "python",
   "name": "python3"
  },
  "language_info": {
   "codemirror_mode": {
    "name": "ipython",
    "version": 2
   },
   "file_extension": ".py",
   "mimetype": "text/x-python",
   "name": "python",
   "nbconvert_exporter": "python",
   "pygments_lexer": "ipython2",
   "version": "2.7.6"
  }
 },
 "nbformat": 4,
 "nbformat_minor": 5
}
