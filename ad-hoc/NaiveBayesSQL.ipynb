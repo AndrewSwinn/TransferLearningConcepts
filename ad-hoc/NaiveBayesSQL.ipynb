{
 "cells": [
  {
   "cell_type": "code",
   "id": "initial_id",
   "metadata": {
    "collapsed": true,
    "ExecuteTime": {
     "end_time": "2025-03-26T09:56:29.298843Z",
     "start_time": "2025-03-26T09:56:29.291452Z"
    }
   },
   "source": [
    "import os.path\n",
    "import sqlite3\n",
    "import socket\n",
    "import numpy as np\n",
    "\n",
    "\n",
    "from torch.utils.data import Dataset\n",
    "\n",
    "if socket.gethostname() == 'LTSSL-sKTPpP5Xl':\n",
    "    data_dir = 'C:\\\\Users\\\\ams90\\\\PycharmProjects\\\\ConceptsBirds\\\\data'\n",
    "elif socket.gethostname() == 'LAPTOP-NA88OLS1':\n",
    "    data_dir = 'D:\\\\data\\\\caltecBirds\\\\CUB_200_2011'\n",
    "elif socket.gethostname() == 'andrew-ubuntu':\n",
    "    data_dir ='/home/andrew/Data/CUB_200_2011'\n",
    "else:\n",
    "    data_dir = '/home/bwc/ams90/datasets/caltecBirds/CUB_200_2011'\n"
   ],
   "outputs": [],
   "execution_count": 14
  },
  {
   "cell_type": "code",
   "source": [
    "conn = sqlite3.connect(database=os.path.join(data_dir, 'birds.db'))\n",
    "conn.create_function(\"log\", 1, np.log)\n",
    "conn.create_function(\"exp\", 1, np.exp)\n",
    "cursor = conn.cursor()"
   ],
   "metadata": {
    "collapsed": false,
    "ExecuteTime": {
     "end_time": "2025-03-26T09:56:30.756471Z",
     "start_time": "2025-03-26T09:56:30.728743Z"
    }
   },
   "id": "f8250e7e317bd75d",
   "outputs": [],
   "execution_count": 15
  },
  {
   "cell_type": "code",
   "source": [
    "classes      = {class_id: class_name     for (class_id, class_name)     in cursor.execute(\"select class_id, class_name from classes\").fetchall()}\n",
    "concepts     = {concept_id: concept_name for (concept_id, concept_name) in cursor.execute(\"select concept_id,concept_name from concepts\").fetchall()}\n",
    "attributes   = {attribute_id: attribute_id for (attribute_id, ) in cursor.execute(\"select attribute_id from attributes\").fetchall()}\n",
    "class_counts = {class_id: prior for (class_id, prior) in cursor.execute(\"select class_id, class_prior from nb_class_counts where trainset = 1\").fetchall()}\n"
   ],
   "metadata": {
    "collapsed": false,
    "ExecuteTime": {
     "end_time": "2025-03-26T09:56:31.699751Z",
     "start_time": "2025-03-26T09:56:31.682632Z"
    }
   },
   "id": "bfb5f82e378cef64",
   "outputs": [],
   "execution_count": 16
  },
  {
   "cell_type": "code",
   "source": [
    "count, correct, unknown, wrong = 0, 0, 0, 0\n",
    "loop = conn.cursor()\n",
    "\n",
    "count, correct = 0, [0,0,0]\n",
    "for image_id, class_id in loop.execute(\"select image_id, class_id from images where trainset = 1\").fetchall():\n",
    "    \n",
    "    present_attribute_ids = [row[0] for row in cursor.execute(\"select attribute_id from image_attributes where present = 1 and image_id = ?\", (image_id,)).fetchall()]\n",
    "    \n",
    "    class_log_probabilities = [row for row in cursor.execute(\"\"\"select  sum(p.naive_test_probability),\n",
    "                                                                        sum(p.naive_train_probability),\n",
    "                                                                        sum(p.probability)\n",
    "                                                                 from   class_attribute_probabilities p,\n",
    "                                                                       image_attributes ia\n",
    "                                                                 where  p.attribute_id = ia.attribute_id\n",
    "                                                                 and    ia.present     = 1 \n",
    "                                                                 and    ia.image_id    = ?\n",
    "                                                                 group by p.class_id\n",
    "                                                                 order by p.class_id \"\"\", (image_id,)).fetchall()]\n",
    "    \n",
    "    class_probabilities = np.exp(class_log_probabilities)\n",
    "    class_probabilities = [[field for field in row] for row in class_probabilities]\n",
    "    class_probabilities = [[row[column] for row in class_probabilities] for column in range(3)]\n",
    "    \n",
    "\n",
    "    for classifier in range(3):\n",
    "    \n",
    "        total_prob = sum(class_probabilities[classifier])       \n",
    "        if total_prob > 0:\n",
    "            norm_probabilities  = [probability / total_prob for probability in class_probabilities[classifier]]\n",
    "            max_prob = max(norm_probabilities)\n",
    "            pred_class_id = norm_probabilities.index(max_prob) + 1\n",
    "            if pred_class_id == class_id: correct[classifier] += 1\n",
    "       \n",
    "    \n",
    "    count += 1\n",
    "\n",
    "print(image_id, class_id, correct, [round(corr/count,4) for corr in correct])\n",
    "    \n",
    "\n",
    "loop.close()\n",
    "\n",
    "\n"
   ],
   "metadata": {
    "collapsed": false,
    "ExecuteTime": {
     "end_time": "2025-03-26T09:57:23.101412Z",
     "start_time": "2025-03-26T09:56:32.312032Z"
    }
   },
   "id": "3faacc24f8105406",
   "outputs": [
    {
     "name": "stdout",
     "output_type": "stream",
     "text": [
      "11787 200 [1786, 4229, 3800] [0.298, 0.7055, 0.634]\n"
     ]
    }
   ],
   "execution_count": 17
  },
  {
   "cell_type": "code",
   "source": [
    "\n",
    "cursor = conn.cursor()\n",
    "\n",
    "class_attribute_probabilities = cursor.execute(\n",
    "    \"\"\" select cls.class_id,\n",
    "               cls.class_name,\n",
    "               cap.attribute_id,\n",
    "               exp(cap.probability),\n",
    "               exp(cap.naive_train_probability),\n",
    "               exp(naive_test_probability)\n",
    "         from  classes cls,\n",
    "               class_attribute_probabilities cap\n",
    "         where  cls.class_id = 1\n",
    "         and    cap.attribute_id in (194, 195)\n",
    "         and   cls.class_id = cap.class_id\n",
    "\n",
    "    \"\"\").fetchall()\n",
    "\n",
    "for record in class_attribute_probabilities:\n",
    "    print(record)\n",
    "\n",
    "cursor.close()\n"
   ],
   "metadata": {
    "collapsed": false,
    "ExecuteTime": {
     "end_time": "2025-03-26T09:57:23.111402Z",
     "start_time": "2025-03-26T09:57:23.101412Z"
    }
   },
   "id": "48ca458799b6e1bb",
   "outputs": [
    {
     "name": "stdout",
     "output_type": "stream",
     "text": [
      "(1, '001.Black_footed_Albatross', 194, 0.18181818181799997, 0.16666666666666669, 0.13333333333333333)\n",
      "(1, '001.Black_footed_Albatross', 195, 0.05303030303029999, 0.06666666666666667, 0.03333333333333333)\n"
     ]
    }
   ],
   "execution_count": 18
  },
  {
   "metadata": {},
   "cell_type": "code",
   "outputs": [],
   "execution_count": null,
   "source": "",
   "id": "83ac53279e6abc8f"
  }
 ],
 "metadata": {
  "kernelspec": {
   "display_name": "Python 3",
   "language": "python",
   "name": "python3"
  },
  "language_info": {
   "codemirror_mode": {
    "name": "ipython",
    "version": 2
   },
   "file_extension": ".py",
   "mimetype": "text/x-python",
   "name": "python",
   "nbconvert_exporter": "python",
   "pygments_lexer": "ipython2",
   "version": "2.7.6"
  }
 },
 "nbformat": 4,
 "nbformat_minor": 5
}
