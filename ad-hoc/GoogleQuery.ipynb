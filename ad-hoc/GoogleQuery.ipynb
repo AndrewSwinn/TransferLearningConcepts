{
 "cells": [
  {
   "metadata": {
    "ExecuteTime": {
     "end_time": "2025-03-27T18:16:02.431606Z",
     "start_time": "2025-03-27T18:16:02.427081Z"
    }
   },
   "cell_type": "code",
   "source": [
    "import os\n",
    "import requests\n",
    "import configparser\n",
    "from urllib.parse import urljoin\n",
    "#from googlesearch import search\n",
    "#from googleapiclient.discovery import build\n",
    "config = configparser.ConfigParser()\n",
    "config.read(os.path.join(os.getcwd(), os.pardir, 'config.ini'))\n",
    "api_key  = config.get('keys', 'api_key')\n",
    "cse_id   = config.get('keys', 'cse_id')\n",
    "data_dir = config.get('directories', 'data')\n"
   ],
   "id": "d4d07b86766118d2",
   "outputs": [],
   "execution_count": 40
  },
  {
   "metadata": {
    "ExecuteTime": {
     "end_time": "2025-03-27T18:16:05.162799Z",
     "start_time": "2025-03-27T18:16:05.157382Z"
    }
   },
   "cell_type": "code",
   "source": "data_dir",
   "id": "4e803a538e02b911",
   "outputs": [
    {
     "data": {
      "text/plain": [
       "'/home/andrew/Data/CUB_200_2011'"
      ]
     },
     "execution_count": 41,
     "metadata": {},
     "output_type": "execute_result"
    }
   ],
   "execution_count": 41
  },
  {
   "metadata": {},
   "cell_type": "code",
   "source": "z = requests.get('https://www.bbc.co.uk')\n",
   "id": "8ac7e25a6289a2f6",
   "outputs": [],
   "execution_count": null
  },
  {
   "metadata": {},
   "cell_type": "code",
   "source": [
    "query = \"get a free google API Key\"\n",
    " \n",
    "for j in search(query, tld=\"co.in\", num=5, stop=5, pause=2):\n",
    "    print(j)"
   ],
   "id": "ec76a75fd04b8b6e",
   "outputs": [],
   "execution_count": null
  },
  {
   "metadata": {},
   "cell_type": "code",
   "source": [
    "def google_image_search(query, num_images=10):\n",
    "    # Build the Google Custom Search API client\n",
    "    service = build(\"customsearch\", \"v1\", developerKey=api_key)\n",
    "\n",
    "    # Make a request to search for images\n",
    "    res = service.cse().list(\n",
    "        q=query, \n",
    "        cx=csi_id, \n",
    "        searchType='image', \n",
    "        num=num_images\n",
    "    ).execute()\n",
    "\n",
    "    # Retrieve image URLs\n",
    "    image_urls = []\n",
    "    if 'items' in res:\n",
    "        for item in res['items']:\n",
    "            image_urls.append(item['link'])\n",
    "\n",
    "    return image_urls"
   ],
   "id": "f706a6de0c309153",
   "outputs": [],
   "execution_count": null
  },
  {
   "metadata": {},
   "cell_type": "code",
   "source": [
    "def download_image(image_url, folder_path):\n",
    "    try:\n",
    "        # Make a request to the image URL\n",
    "        response = requests.get(image_url)\n",
    "        # Get the image file name from the URL\n",
    "        img_name = image_url.split(\"/\")[-1]\n",
    "        img_path = os.path.join(folder_path, img_name)\n",
    "\n",
    "        # Write the image to the specified folder\n",
    "        with open(img_path, 'wb') as f:\n",
    "            f.write(response.content)\n",
    "        print(f\"Downloaded {img_name}\")\n",
    "    except Exception as e:\n",
    "        print(f\"Failed to download {image_url}. Error: {e}\")\n"
   ],
   "id": "662d833151febdb0",
   "outputs": [],
   "execution_count": null
  },
  {
   "metadata": {
    "collapsed": true
   },
   "cell_type": "code",
   "source": [
    "queries = [\"cat\", \"dog\", \"nature\"]  # Example queries\n",
    "download_folder = \"downloaded_images\"\n",
    "\n",
    "# Create the folder if it doesn't exist\n",
    "if not os.path.exists(download_folder):\n",
    "    os.makedirs(download_folder)\n",
    "\n",
    "# For each query, search and download the images\n",
    "for query in queries:\n",
    "    print(f\"Searching for images of '{query}'...\")\n",
    "    image_urls = google_image_search(query)\n",
    "    for image_url in image_urls:\n",
    "        download_image(image_url, download_folder)\n",
    "\n",
    "\n"
   ],
   "id": "initial_id",
   "outputs": [],
   "execution_count": null
  },
  {
   "metadata": {},
   "cell_type": "code",
   "source": "",
   "id": "f1189c01141e4b8e",
   "outputs": [],
   "execution_count": null
  }
 ],
 "metadata": {
  "kernelspec": {
   "display_name": "Python 3",
   "language": "python",
   "name": "python3"
  },
  "language_info": {
   "codemirror_mode": {
    "name": "ipython",
    "version": 2
   },
   "file_extension": ".py",
   "mimetype": "text/x-python",
   "name": "python",
   "nbconvert_exporter": "python",
   "pygments_lexer": "ipython2",
   "version": "2.7.6"
  }
 },
 "nbformat": 4,
 "nbformat_minor": 5
}
