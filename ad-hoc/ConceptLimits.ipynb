{
 "cells": [
  {
   "cell_type": "code",
   "execution_count": 1,
   "id": "initial_id",
   "metadata": {
    "collapsed": true,
    "ExecuteTime": {
     "end_time": "2025-03-18T12:31:25.911257Z",
     "start_time": "2025-03-18T12:31:24.741382700Z"
    }
   },
   "outputs": [],
   "source": [
    "import os\n",
    "import math\n",
    "import pandas as pd\n",
    "import numpy as np\n",
    "\n",
    "data_dir = 'D:\\\\data\\\\caltecBirds\\\\CUB_200_2011'"
   ]
  },
  {
   "cell_type": "code",
   "execution_count": 2,
   "outputs": [],
   "source": [
    "# Load class and attribute data from the supplied text files\n",
    "\n",
    "train_test_split = pd.read_csv(os.path.join(data_dir, 'train_test_split.txt'),   sep=\" \", index_col=[0], names=['image_id', 'trainset'])\n",
    "image_file_names = pd.read_csv(os.path.join(data_dir, 'images.txt'),             sep=\" \", index_col=[0], names=['image_id', 'file_name'])\n",
    "class_labels     = pd.read_csv(os.path.join(data_dir, 'image_class_labels.txt'), sep=\" \", index_col=[0], names=['image_id', 'class_id'])\n",
    "image_attribute_labels = pd.read_csv(os.path.join(data_dir, 'attributes', 'image_attribute_labels.txt'), sep=\" \", \n",
    "                                     names = ['image_id', 'attribute_id', 'present', 'certainty_id', 'time', 'd1', 'd2'])\n",
    "image_attribute_labels = image_attribute_labels.merge(train_test_split, on='image_id', how='left' )\n",
    "image_attribute_labels = image_attribute_labels.merge(class_labels, on='image_id', how='left' )\n",
    "\n",
    "expert_probabilities = pd.read_csv(os.path.join(data_dir, 'attributes', 'class_attribute_labels_continuous.txt'), sep=\" \",   names=[i for i in range(1, 313)]).transpose() / 100\n",
    "\n",
    "test_attribute_labels  = image_attribute_labels.loc[image_attribute_labels['trainset']==1].copy()\n",
    "test_attribute_probabilities = test_attribute_labels.pivot_table(index='attribute_id', columns='class_id')['present']\n",
    "\n"
   ],
   "metadata": {
    "collapsed": false,
    "ExecuteTime": {
     "end_time": "2025-03-18T12:31:46.186044400Z",
     "start_time": "2025-03-18T12:31:43.452521200Z"
    }
   },
   "id": "9acb0a5e288906ce"
  },
  {
   "cell_type": "code",
   "execution_count": 3,
   "outputs": [
    {
     "data": {
      "text/plain": "          1         2         3         4         5         6         7    \\\n0    0.000000  0.029197  0.014599  0.000000  0.598540  0.262774  0.036496   \n1    0.044118  0.044118  0.029412  0.014706  0.573529  0.272059  0.000000   \n2    0.000000  0.039735  0.033113  0.000000  0.708609  0.145695  0.052980   \n3    0.000000  0.014599  0.102190  0.000000  0.000000  0.000000  0.087591   \n4    0.000000  0.000000  0.032258  0.000000  0.010753  0.000000  0.000000   \n..        ...       ...       ...       ...       ...       ...       ...   \n195  0.027027  0.128378  0.000000  0.000000  0.000000  0.000000  0.763514   \n196  0.183007  0.117647  0.000000  0.032680  0.000000  0.000000  0.607843   \n197  0.107595  0.367089  0.000000  0.075949  0.006329  0.000000  0.436709   \n198  0.000000  0.020690  0.000000  0.020690  0.000000  0.000000  0.882759   \n199  0.000000  0.082803  0.000000  0.000000  0.000000  0.000000  0.828025   \n\n          8         9         10   ...       303       304       305  \\\n0    0.058394  0.000000  0.016393  ...  0.000000  0.000000  0.212766   \n1    0.022059  0.000000  0.000000  ...  0.000000  0.022556  0.022556   \n2    0.019868  0.000000  0.000000  ...  0.022059  0.000000  0.389706   \n3    0.255474  0.540146  0.058394  ...  0.000000  0.000000  0.885714   \n4    0.322581  0.634409  0.000000  ...  0.000000  0.000000  0.827273   \n..        ...       ...       ...  ...       ...       ...       ...   \n195  0.081081  0.000000  0.000000  ...  0.000000  0.000000  0.000000   \n196  0.058824  0.000000  0.000000  ...  0.000000  0.000000  0.354430   \n197  0.006329  0.000000  0.000000  ...  0.000000  0.000000  0.143750   \n198  0.075862  0.000000  0.000000  ...  0.000000  0.013245  0.039735   \n199  0.089172  0.000000  0.000000  ...  0.000000  0.000000  0.104294   \n\n          306       307       308       309       310       311       312  \n0    0.113475  0.021277  0.319149  0.535714  0.053571  0.214286  0.196429  \n1    0.947368  0.000000  0.000000  0.771429  0.038095  0.104762  0.085714  \n2    0.029412  0.000000  0.161765  0.710280  0.009346  0.074766  0.205607  \n3    0.000000  0.000000  0.021429  0.841270  0.023810  0.031746  0.103175  \n4    0.054545  0.000000  0.045455  0.884615  0.000000  0.038462  0.076923  \n..        ...       ...       ...       ...       ...       ...       ...  \n195  0.019737  0.000000  0.296053  0.143791  0.228758  0.562092  0.065359  \n196  0.044304  0.000000  0.227848  0.167832  0.251748  0.321678  0.258741  \n197  0.131250  0.000000  0.418750  0.187919  0.442953  0.187919  0.181208  \n198  0.000000  0.000000  0.192053  0.124138  0.344828  0.331034  0.200000  \n199  0.349693  0.000000  0.380368  0.564885  0.030534  0.106870  0.297710  \n\n[200 rows x 312 columns]",
      "text/html": "<div>\n<style scoped>\n    .dataframe tbody tr th:only-of-type {\n        vertical-align: middle;\n    }\n\n    .dataframe tbody tr th {\n        vertical-align: top;\n    }\n\n    .dataframe thead th {\n        text-align: right;\n    }\n</style>\n<table border=\"1\" class=\"dataframe\">\n  <thead>\n    <tr style=\"text-align: right;\">\n      <th></th>\n      <th>1</th>\n      <th>2</th>\n      <th>3</th>\n      <th>4</th>\n      <th>5</th>\n      <th>6</th>\n      <th>7</th>\n      <th>8</th>\n      <th>9</th>\n      <th>10</th>\n      <th>...</th>\n      <th>303</th>\n      <th>304</th>\n      <th>305</th>\n      <th>306</th>\n      <th>307</th>\n      <th>308</th>\n      <th>309</th>\n      <th>310</th>\n      <th>311</th>\n      <th>312</th>\n    </tr>\n  </thead>\n  <tbody>\n    <tr>\n      <th>0</th>\n      <td>0.000000</td>\n      <td>0.029197</td>\n      <td>0.014599</td>\n      <td>0.000000</td>\n      <td>0.598540</td>\n      <td>0.262774</td>\n      <td>0.036496</td>\n      <td>0.058394</td>\n      <td>0.000000</td>\n      <td>0.016393</td>\n      <td>...</td>\n      <td>0.000000</td>\n      <td>0.000000</td>\n      <td>0.212766</td>\n      <td>0.113475</td>\n      <td>0.021277</td>\n      <td>0.319149</td>\n      <td>0.535714</td>\n      <td>0.053571</td>\n      <td>0.214286</td>\n      <td>0.196429</td>\n    </tr>\n    <tr>\n      <th>1</th>\n      <td>0.044118</td>\n      <td>0.044118</td>\n      <td>0.029412</td>\n      <td>0.014706</td>\n      <td>0.573529</td>\n      <td>0.272059</td>\n      <td>0.000000</td>\n      <td>0.022059</td>\n      <td>0.000000</td>\n      <td>0.000000</td>\n      <td>...</td>\n      <td>0.000000</td>\n      <td>0.022556</td>\n      <td>0.022556</td>\n      <td>0.947368</td>\n      <td>0.000000</td>\n      <td>0.000000</td>\n      <td>0.771429</td>\n      <td>0.038095</td>\n      <td>0.104762</td>\n      <td>0.085714</td>\n    </tr>\n    <tr>\n      <th>2</th>\n      <td>0.000000</td>\n      <td>0.039735</td>\n      <td>0.033113</td>\n      <td>0.000000</td>\n      <td>0.708609</td>\n      <td>0.145695</td>\n      <td>0.052980</td>\n      <td>0.019868</td>\n      <td>0.000000</td>\n      <td>0.000000</td>\n      <td>...</td>\n      <td>0.022059</td>\n      <td>0.000000</td>\n      <td>0.389706</td>\n      <td>0.029412</td>\n      <td>0.000000</td>\n      <td>0.161765</td>\n      <td>0.710280</td>\n      <td>0.009346</td>\n      <td>0.074766</td>\n      <td>0.205607</td>\n    </tr>\n    <tr>\n      <th>3</th>\n      <td>0.000000</td>\n      <td>0.014599</td>\n      <td>0.102190</td>\n      <td>0.000000</td>\n      <td>0.000000</td>\n      <td>0.000000</td>\n      <td>0.087591</td>\n      <td>0.255474</td>\n      <td>0.540146</td>\n      <td>0.058394</td>\n      <td>...</td>\n      <td>0.000000</td>\n      <td>0.000000</td>\n      <td>0.885714</td>\n      <td>0.000000</td>\n      <td>0.000000</td>\n      <td>0.021429</td>\n      <td>0.841270</td>\n      <td>0.023810</td>\n      <td>0.031746</td>\n      <td>0.103175</td>\n    </tr>\n    <tr>\n      <th>4</th>\n      <td>0.000000</td>\n      <td>0.000000</td>\n      <td>0.032258</td>\n      <td>0.000000</td>\n      <td>0.010753</td>\n      <td>0.000000</td>\n      <td>0.000000</td>\n      <td>0.322581</td>\n      <td>0.634409</td>\n      <td>0.000000</td>\n      <td>...</td>\n      <td>0.000000</td>\n      <td>0.000000</td>\n      <td>0.827273</td>\n      <td>0.054545</td>\n      <td>0.000000</td>\n      <td>0.045455</td>\n      <td>0.884615</td>\n      <td>0.000000</td>\n      <td>0.038462</td>\n      <td>0.076923</td>\n    </tr>\n    <tr>\n      <th>...</th>\n      <td>...</td>\n      <td>...</td>\n      <td>...</td>\n      <td>...</td>\n      <td>...</td>\n      <td>...</td>\n      <td>...</td>\n      <td>...</td>\n      <td>...</td>\n      <td>...</td>\n      <td>...</td>\n      <td>...</td>\n      <td>...</td>\n      <td>...</td>\n      <td>...</td>\n      <td>...</td>\n      <td>...</td>\n      <td>...</td>\n      <td>...</td>\n      <td>...</td>\n      <td>...</td>\n    </tr>\n    <tr>\n      <th>195</th>\n      <td>0.027027</td>\n      <td>0.128378</td>\n      <td>0.000000</td>\n      <td>0.000000</td>\n      <td>0.000000</td>\n      <td>0.000000</td>\n      <td>0.763514</td>\n      <td>0.081081</td>\n      <td>0.000000</td>\n      <td>0.000000</td>\n      <td>...</td>\n      <td>0.000000</td>\n      <td>0.000000</td>\n      <td>0.000000</td>\n      <td>0.019737</td>\n      <td>0.000000</td>\n      <td>0.296053</td>\n      <td>0.143791</td>\n      <td>0.228758</td>\n      <td>0.562092</td>\n      <td>0.065359</td>\n    </tr>\n    <tr>\n      <th>196</th>\n      <td>0.183007</td>\n      <td>0.117647</td>\n      <td>0.000000</td>\n      <td>0.032680</td>\n      <td>0.000000</td>\n      <td>0.000000</td>\n      <td>0.607843</td>\n      <td>0.058824</td>\n      <td>0.000000</td>\n      <td>0.000000</td>\n      <td>...</td>\n      <td>0.000000</td>\n      <td>0.000000</td>\n      <td>0.354430</td>\n      <td>0.044304</td>\n      <td>0.000000</td>\n      <td>0.227848</td>\n      <td>0.167832</td>\n      <td>0.251748</td>\n      <td>0.321678</td>\n      <td>0.258741</td>\n    </tr>\n    <tr>\n      <th>197</th>\n      <td>0.107595</td>\n      <td>0.367089</td>\n      <td>0.000000</td>\n      <td>0.075949</td>\n      <td>0.006329</td>\n      <td>0.000000</td>\n      <td>0.436709</td>\n      <td>0.006329</td>\n      <td>0.000000</td>\n      <td>0.000000</td>\n      <td>...</td>\n      <td>0.000000</td>\n      <td>0.000000</td>\n      <td>0.143750</td>\n      <td>0.131250</td>\n      <td>0.000000</td>\n      <td>0.418750</td>\n      <td>0.187919</td>\n      <td>0.442953</td>\n      <td>0.187919</td>\n      <td>0.181208</td>\n    </tr>\n    <tr>\n      <th>198</th>\n      <td>0.000000</td>\n      <td>0.020690</td>\n      <td>0.000000</td>\n      <td>0.020690</td>\n      <td>0.000000</td>\n      <td>0.000000</td>\n      <td>0.882759</td>\n      <td>0.075862</td>\n      <td>0.000000</td>\n      <td>0.000000</td>\n      <td>...</td>\n      <td>0.000000</td>\n      <td>0.013245</td>\n      <td>0.039735</td>\n      <td>0.000000</td>\n      <td>0.000000</td>\n      <td>0.192053</td>\n      <td>0.124138</td>\n      <td>0.344828</td>\n      <td>0.331034</td>\n      <td>0.200000</td>\n    </tr>\n    <tr>\n      <th>199</th>\n      <td>0.000000</td>\n      <td>0.082803</td>\n      <td>0.000000</td>\n      <td>0.000000</td>\n      <td>0.000000</td>\n      <td>0.000000</td>\n      <td>0.828025</td>\n      <td>0.089172</td>\n      <td>0.000000</td>\n      <td>0.000000</td>\n      <td>...</td>\n      <td>0.000000</td>\n      <td>0.000000</td>\n      <td>0.104294</td>\n      <td>0.349693</td>\n      <td>0.000000</td>\n      <td>0.380368</td>\n      <td>0.564885</td>\n      <td>0.030534</td>\n      <td>0.106870</td>\n      <td>0.297710</td>\n    </tr>\n  </tbody>\n</table>\n<p>200 rows × 312 columns</p>\n</div>"
     },
     "execution_count": 3,
     "metadata": {},
     "output_type": "execute_result"
    }
   ],
   "source": [
    "# Class attribute probabilities based on human knowledge\n",
    "\n",
    "expert_probabilities.transpose()"
   ],
   "metadata": {
    "collapsed": false,
    "ExecuteTime": {
     "end_time": "2025-03-18T12:31:47.089739300Z",
     "start_time": "2025-03-18T12:31:47.009684800Z"
    }
   },
   "id": "1782410322e69b64"
  },
  {
   "cell_type": "code",
   "execution_count": 21,
   "outputs": [
    {
     "name": "stdout",
     "output_type": "stream",
     "text": [
      "2 2 2.5304853416518483e-282\n",
      "5 5 1.1611854551113887e-306\n",
      "6 6 7.4468025257733e-273\n",
      "7 7 5.703494440879241e-296\n",
      "8 8 3.0569042439255225e-259\n",
      "10 10 2.7452302523616686e-290\n",
      "12 12 1.334940725050326e-309\n",
      "20 20 6.831564403944704e-291\n",
      "29 29 4.39322487765804e-234\n",
      "33 33 2.78173226e-315\n",
      "45 45 3.432178490518353e-288\n",
      "46 46 3.3559218184254544e-249\n",
      "52 52 2.4289745752412616e-306\n",
      "53 53 1.67276e-319\n",
      "59 59 2.7424136e-317\n",
      "61 61 1.861804469788136e-303\n",
      "72 72 2.8553850747236e-310\n",
      "77 77 5.47845e-319\n",
      "78 78 2.4332724258707283e-236\n",
      "81 81 9.007989249624015e-202\n",
      "84 84 3.695499561354425e-215\n",
      "85 85 4.37972182329054e-303\n",
      "93 93 2.1895686266934464e-297\n",
      "94 94 1.149228632923591e-292\n",
      "96 96 2.216644686235769e-308\n",
      "101 101 2.301182490707627e-280\n",
      "102 102 6.769669202921401e-297\n",
      "113 113 1.893271217597636e-300\n",
      "122 122 6.912234135038143e-305\n",
      "126 126 2.8e-322\n",
      "127 127 9.53509363286283e-285\n",
      "139 139 1.002237243e-314\n",
      "141 141 5.24965e-319\n",
      "146 146 6.686203594048337e-243\n",
      "150 150 2.0076798145002713e-268\n",
      "159 159 3.992986556684411e-300\n",
      "177 177 2.607743693759796e-268\n",
      "178 178 2.63370731130483e-307\n",
      "180 180 1.1116963079094774e-289\n",
      "183 183 2.702497867163363e-246\n",
      "184 184 2.3194729188000058e-264\n",
      "187 187 9.18456252760608e-200\n",
      "188 188 7.060269751833606e-269\n",
      "190 190 8.89561000556587e-219\n",
      "191 191 2.6702899316056975e-267\n",
      "192 192 1.681945615057363e-163\n",
      "193 193 8.803663325642348e-225\n",
      "196 196 1.0381669535801874e-286\n",
      "198 198 8.150261884321422e-260\n",
      "200 200 1.7374157197208708e-299\n",
      "50\n"
     ]
    }
   ],
   "source": [
    "count = 0\n",
    "for index, present_attribute_ids in expert_probabilities.transpose().iterrows():\n",
    "    class_id = index + 1\n",
    "    for test_index, probabilities in expert_probabilities.transpose().iterrows():\n",
    "        test_class_id = test_index + 1\n",
    "        probability   = 1 \n",
    "        for i, attribute_probability in enumerate(present_attribute_ids):\n",
    "            if attribute_probability != 0:\n",
    "                probability *= attribute_probability * probabilities[i+1]\n",
    "            \n",
    "       \n",
    "        if probability != 0: \n",
    "            print(class_id, test_class_id, probability)\n",
    "            count += 1\n",
    "print(count)"
   ],
   "metadata": {
    "collapsed": false,
    "ExecuteTime": {
     "end_time": "2025-03-18T12:46:19.843297400Z",
     "start_time": "2025-03-18T12:46:03.801109300Z"
    }
   },
   "id": "9089229c3486ea73"
  },
  {
   "cell_type": "code",
   "execution_count": null,
   "outputs": [],
   "source": [],
   "metadata": {
    "collapsed": false
   },
   "id": "3eab5bdd8e1bf7f7"
  }
 ],
 "metadata": {
  "kernelspec": {
   "display_name": "Python 3",
   "language": "python",
   "name": "python3"
  },
  "language_info": {
   "codemirror_mode": {
    "name": "ipython",
    "version": 2
   },
   "file_extension": ".py",
   "mimetype": "text/x-python",
   "name": "python",
   "nbconvert_exporter": "python",
   "pygments_lexer": "ipython2",
   "version": "2.7.6"
  }
 },
 "nbformat": 4,
 "nbformat_minor": 5
}
