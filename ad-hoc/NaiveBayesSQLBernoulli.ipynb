{
 "cells": [
  {
   "cell_type": "code",
   "execution_count": 1,
   "id": "initial_id",
   "metadata": {
    "collapsed": true,
    "ExecuteTime": {
     "end_time": "2025-03-14T14:27:47.169316400Z",
     "start_time": "2025-03-14T14:27:45.584412300Z"
    }
   },
   "outputs": [],
   "source": [
    "import os.path\n",
    "import sqlite3\n",
    "import socket\n",
    "import numpy as np\n",
    "np.seterr(divide='ignore')\n",
    "\n",
    "\n",
    "from torch.utils.data import Dataset\n",
    "\n",
    "if socket.gethostname() == 'LTSSL-sKTPpP5Xl':\n",
    "    data_dir = 'C:\\\\Users\\\\ams90\\\\PycharmProjects\\\\ConceptsBirds\\\\data'\n",
    "elif socket.gethostname() == 'LAPTOP-NA88OLS1':\n",
    "    data_dir = 'D:\\\\data\\\\caltecBirds\\\\CUB_200_2011'\n",
    "else:\n",
    "    data_dir = '/home/bwc/ams90/datasets/caltecBirds/CUB_200_2011'\n"
   ]
  },
  {
   "cell_type": "code",
   "execution_count": 2,
   "outputs": [],
   "source": [
    "conn = sqlite3.connect(database=os.path.join(data_dir, 'birds.db'))\n",
    "conn.create_function(\"log\", 1, np.log)\n",
    "conn.create_function(\"exp\", 1, np.exp)\n",
    "cursor = conn.cursor()"
   ],
   "metadata": {
    "collapsed": false,
    "ExecuteTime": {
     "end_time": "2025-03-14T14:27:49.386641100Z",
     "start_time": "2025-03-14T14:27:49.381130800Z"
    }
   },
   "id": "f8250e7e317bd75d"
  },
  {
   "cell_type": "code",
   "execution_count": 3,
   "outputs": [],
   "source": [
    "classes      = {class_id: class_name     for (class_id, class_name)     in cursor.execute(\"select class_id, class_name from classes\").fetchall()}\n",
    "concepts     = {concept_id: concept_name for (concept_id, concept_name) in cursor.execute(\"select concept_id,concept_name from concepts\").fetchall()}\n",
    "attributes   = {attribute_id: attribute_id for (attribute_id, ) in cursor.execute(\"select attribute_id from attributes\").fetchall()}\n",
    "class_counts = {class_id: count for (class_id, count) in cursor.execute(\"select class_id, count(*) from images where trainset = 1 group by class_id\").fetchall()}\n"
   ],
   "metadata": {
    "collapsed": false,
    "ExecuteTime": {
     "end_time": "2025-03-14T14:27:50.089707300Z",
     "start_time": "2025-03-14T14:27:50.082081Z"
    }
   },
   "id": "bfb5f82e378cef64"
  },
  {
   "cell_type": "code",
   "execution_count": 65,
   "outputs": [
    {
     "name": "stdout",
     "output_type": "stream",
     "text": [
      "2 1 1 1 1.0\n",
      "4 1 1 2 1.0\n",
      "5 1 1 3 1.0\n",
      "7 1 1 4 1.0\n",
      "8 1 1 5 1.0\n",
      "9 1 1 6 1.0\n",
      "11 1 1 7 1.0\n",
      "15 1 1 8 1.0\n",
      "18 1 1 9 1.0\n",
      "20 1 1 10 1.0\n",
      "21 1 1 11 1.0\n",
      "23 1 1 12 1.0\n",
      "30 1 1 13 1.0\n",
      "31 1 1 14 1.0\n",
      "32 1 1 15 1.0\n",
      "35 1 1 16 1.0\n",
      "36 1 1 17 1.0\n",
      "37 1 1 18 1.0\n",
      "40 1 1 19 1.0\n",
      "41 1 1 20 1.0\n",
      "42 1 1 21 1.0\n",
      "43 1 1 22 1.0\n",
      "46 1 1 23 1.0\n",
      "49 1 1 24 1.0\n",
      "51 1 1 25 1.0\n",
      "53 1 1 26 1.0\n",
      "55 1 1 27 1.0\n",
      "56 1 1 28 1.0\n",
      "58 1 1 29 1.0\n",
      "60 1 1 30 1.0\n",
      "62 2 1 30 0.968\n",
      "64 2 1 30 0.938\n",
      "66 2 1 30 0.909\n",
      "67 2 1 30 0.882\n",
      "69 2 1 30 0.857\n",
      "72 2 1 30 0.833\n",
      "73 2 1 30 0.811\n",
      "74 2 1 30 0.789\n",
      "75 2 1 30 0.769\n",
      "77 2 1 30 0.75\n",
      "78 2 1 30 0.732\n",
      "80 2 1 30 0.714\n",
      "81 2 1 30 0.698\n",
      "84 2 1 30 0.682\n",
      "86 2 1 30 0.667\n",
      "89 2 1 30 0.652\n",
      "96 2 1 30 0.638\n",
      "97 2 1 30 0.625\n",
      "99 2 1 30 0.612\n",
      "102 2 1 30 0.6\n",
      "104 2 28 30 0.588\n",
      "105 2 1 30 0.577\n",
      "109 2 1 30 0.566\n",
      "110 2 1 30 0.556\n",
      "111 2 1 30 0.545\n",
      "113 2 1 30 0.536\n",
      "115 2 1 30 0.526\n",
      "116 2 1 30 0.517\n",
      "117 2 1 30 0.508\n",
      "120 2 1 30 0.5\n",
      "121 3 1 30 0.492\n",
      "122 3 1 30 0.484\n",
      "123 3 1 30 0.476\n",
      "124 3 1 30 0.469\n",
      "125 3 1 30 0.462\n",
      "127 3 1 30 0.455\n",
      "128 3 1 30 0.448\n",
      "131 3 1 30 0.441\n",
      "136 3 1 30 0.435\n",
      "137 3 1 30 0.429\n",
      "138 3 1 30 0.423\n",
      "140 3 1 30 0.417\n"
     ]
    },
    {
     "ename": "KeyboardInterrupt",
     "evalue": "",
     "output_type": "error",
     "traceback": [
      "\u001B[1;31m---------------------------------------------------------------------------\u001B[0m",
      "\u001B[1;31mKeyboardInterrupt\u001B[0m                         Traceback (most recent call last)",
      "Cell \u001B[1;32mIn[65], line 10\u001B[0m\n\u001B[0;32m      5\u001B[0m count, correct \u001B[38;5;241m=\u001B[39m \u001B[38;5;241m0\u001B[39m, \u001B[38;5;241m0\u001B[39m\n\u001B[0;32m      6\u001B[0m \u001B[38;5;28;01mfor\u001B[39;00m image_id, class_id \u001B[38;5;129;01min\u001B[39;00m loop\u001B[38;5;241m.\u001B[39mexecute(\u001B[38;5;124m\"\u001B[39m\u001B[38;5;124mselect image_id, class_id from images where trainset = ?\u001B[39m\u001B[38;5;124m\"\u001B[39m, (dataset,))\u001B[38;5;241m.\u001B[39mfetchall():\n\u001B[0;32m      7\u001B[0m     \n\u001B[0;32m      8\u001B[0m    \u001B[38;5;66;03m#present_attribute_ids = [row[0] for row in cursor.execute(\"select attribute_id from image_attributes where present = 1 and image_id = ?\", (image_id,)).fetchall()]\u001B[39;00m\n\u001B[1;32m---> 10\u001B[0m     class_log_probabilities \u001B[38;5;241m=\u001B[39m [row[\u001B[38;5;241m0\u001B[39m] \u001B[38;5;28;01mfor\u001B[39;00m row \u001B[38;5;129;01min\u001B[39;00m cursor\u001B[38;5;241m.\u001B[39mexecute(\u001B[38;5;124m\"\"\"\u001B[39m\u001B[38;5;124mselect sum(ia.present * nbc.log_likelihood  + (1-ia.present) * nbc.log_likelihood_conjugate)\u001B[39m\n\u001B[0;32m     11\u001B[0m \u001B[38;5;124m                                                                 from     nb_attribute_counts nbc,\u001B[39m\n\u001B[0;32m     12\u001B[0m \u001B[38;5;124m                                                                          image_attributes ia\u001B[39m\n\u001B[0;32m     13\u001B[0m \u001B[38;5;124m                                                                 where    nbc.attribute_id = ia.attribute_id\u001B[39m\n\u001B[0;32m     14\u001B[0m \u001B[38;5;124m                                                                 and      nbc.trainset     = ?\u001B[39m\n\u001B[0;32m     15\u001B[0m \u001B[38;5;124m                                                                 and      ia.image_id      = ?\u001B[39m\n\u001B[0;32m     16\u001B[0m \u001B[38;5;124m                                                                 group by nbc.class_id\u001B[39m\n\u001B[0;32m     17\u001B[0m \u001B[38;5;124m                                                                 order by nbc.class_id \u001B[39m\u001B[38;5;124m\"\"\"\u001B[39m, (dataset, image_id,))\u001B[38;5;241m.\u001B[39mfetchall()]\n\u001B[0;32m     19\u001B[0m     class_probabilities \u001B[38;5;241m=\u001B[39m np\u001B[38;5;241m.\u001B[39mexp(class_log_probabilities)\n\u001B[0;32m     20\u001B[0m     class_probabilities \u001B[38;5;241m=\u001B[39m [field \u001B[38;5;28;01mfor\u001B[39;00m field \u001B[38;5;129;01min\u001B[39;00m class_probabilities]\n",
      "\u001B[1;31mKeyboardInterrupt\u001B[0m: "
     ]
    }
   ],
   "source": [
    "count, correct, unknown, wrong = 0, 0, 0, 0\n",
    "loop = conn.cursor()\n",
    "dataset = 1\n",
    "\n",
    "count, correct = 0, 0\n",
    "for image_id, class_id in loop.execute(\"select image_id, class_id from images where trainset = ?\", (dataset,)).fetchall():\n",
    "    \n",
    "   #present_attribute_ids = [row[0] for row in cursor.execute(\"select attribute_id from image_attributes where present = 1 and image_id = ?\", (image_id,)).fetchall()]\n",
    "    \n",
    "    class_log_probabilities = [row[0] for row in cursor.execute(\"\"\"select sum(ia.present * nbc.log_likelihood  + (1-ia.present) * nbc.log_likelihood_conjugate)\n",
    "                                                                 from     nb_attribute_counts nbc,\n",
    "                                                                          image_attributes ia\n",
    "                                                                 where    nbc.attribute_id = ia.attribute_id\n",
    "                                                                 and      nbc.trainset     = ?\n",
    "                                                                 and      ia.image_id      = ?\n",
    "                                                                 group by nbc.class_id\n",
    "                                                                 order by nbc.class_id \"\"\", (dataset, image_id,)).fetchall()]\n",
    "    \n",
    "    class_probabilities = np.exp(class_log_probabilities)\n",
    "    class_probabilities = [field for field in class_probabilities]\n",
    "   \n",
    "\n",
    "    \n",
    "    \n",
    "    total_prob = sum(class_probabilities)       \n",
    "    if total_prob > 0:\n",
    "        norm_probabilities  = [probability / total_prob for probability in class_probabilities]\n",
    "        max_prob = max(norm_probabilities)\n",
    "        pred_class_id = norm_probabilities.index(max_prob) + 1\n",
    "        if pred_class_id == class_id: correct += 1\n",
    "       \n",
    "    \n",
    "    count += 1\n",
    "\n",
    "    print(image_id, class_id, pred_class_id, correct, round(correct/count,3))\n",
    "    \n",
    "\n",
    "loop.close()\n",
    "\n",
    "\n"
   ],
   "metadata": {
    "collapsed": false,
    "ExecuteTime": {
     "end_time": "2025-03-14T14:53:54.403530700Z",
     "start_time": "2025-03-14T14:53:45.228873800Z"
    }
   },
   "id": "3faacc24f8105406"
  },
  {
   "cell_type": "code",
   "execution_count": 67,
   "outputs": [
    {
     "data": {
      "text/plain": "[0.005115838337379157,\n 0.004950811294237894,\n 0.005115838337379157,\n 0.005115838337379157,\n 0.005115838337379157,\n 0.005115838337379157,\n 0.005115838337379157,\n 0.005115838337379157,\n 0.005115838337379157,\n 0.005115838337379157,\n 0.005115838337379157,\n 0.005115838337379157,\n 0.005115838337379157,\n 0.005115838337379157,\n 0.005115838337379157,\n 0.005115838337379157,\n 0.004950811294237894,\n 0.005115838337379157,\n 0.005115838337379157,\n 0.005115838337379157,\n 0.005115838337379157,\n 0.005115838337379157,\n 0.005115838337379157,\n 0.005115838337379157,\n 0.005115838337379157,\n 0.005115838337379157,\n 0.005115838337379157,\n 0.003135513819684,\n 0.005115838337379157,\n 0.004950811294237894,\n 0.004785784251096631,\n 0.004950811294237894,\n 0.004455730164814105,\n 0.005115838337379157,\n 0.005115838337379157,\n 0.005115838337379157,\n 0.005115838337379157,\n 0.005115838337379157,\n 0.004950811294237894,\n 0.004785784251096631,\n 0.005115838337379157,\n 0.005115838337379157,\n 0.005115838337379157,\n 0.005115838337379157,\n 0.005115838337379157,\n 0.005115838337379157,\n 0.005115838337379157,\n 0.005115838337379157,\n 0.004950811294237894,\n 0.005115838337379157,\n 0.005115838337379157,\n 0.005115838337379157,\n 0.004785784251096631,\n 0.005115838337379157,\n 0.005115838337379157,\n 0.005115838337379157,\n 0.005115838337379157,\n 0.004950811294237894,\n 0.004950811294237894,\n 0.004620757207955368,\n 0.004950811294237894,\n 0.005115838337379157,\n 0.005115838337379157,\n 0.005115838337379157,\n 0.005115838337379157,\n 0.004950811294237894,\n 0.004950811294237894,\n 0.004785784251096631,\n 0.004950811294237894,\n 0.004455730164814105,\n 0.004785784251096631,\n 0.004950811294237894,\n 0.005115838337379157,\n 0.005115838337379157,\n 0.005115838337379157,\n 0.005115838337379157,\n 0.005115838337379157,\n 0.005115838337379157,\n 0.005115838337379157,\n 0.005115838337379157,\n 0.004950811294237894,\n 0.005115838337379157,\n 0.005115838337379157,\n 0.004785784251096631,\n 0.005115838337379157,\n 0.004950811294237894,\n 0.005115838337379157,\n 0.004620757207955368,\n 0.004950811294237894,\n 0.004950811294237894,\n 0.005115838337379157,\n 0.005115838337379157,\n 0.004950811294237894,\n 0.005115838337379157,\n 0.005115838337379157,\n 0.004785784251096631,\n 0.004785784251096631,\n 0.004950811294237894,\n 0.005115838337379157,\n 0.003465567905966526,\n 0.004455730164814105,\n 0.005115838337379157,\n 0.005115838337379157,\n 0.004950811294237894,\n 0.005115838337379157,\n 0.005115838337379157,\n 0.00476981389208296,\n 0.005115838337379157,\n 0.004950811294237894,\n 0.004785784251096631,\n 0.004950811294237894,\n 0.005115838337379157,\n 0.005115838337379157,\n 0.005115838337379157,\n 0.005115838337379157,\n 0.005115838337379157,\n 0.005115838337379157,\n 0.005115838337379157,\n 0.005115838337379157,\n 0.005115838337379157,\n 0.005115838337379157,\n 0.005115838337379157,\n 0.005115838337379157,\n 0.005115838337379157,\n 0.005115838337379157,\n 0.0051105148843746005,\n 0.005115838337379157,\n 0.005115838337379157,\n 0.005115838337379157,\n 0.005115838337379157,\n 0.005115838337379157,\n 0.005115838337379157,\n 0.005115838337379157,\n 0.005115838337379157,\n 0.0051105148843746005,\n 0.005115838337379157,\n 0.005115838337379157,\n 0.005115838337379157,\n 0.005115838337379157,\n 0.005115838337379157,\n 0.0045994633959371405,\n 0.004620757207955368,\n 0.005115838337379157,\n 0.005115838337379157,\n 0.004950811294237894,\n 0.005115838337379157,\n 0.004785784251096631,\n 0.005115838337379157,\n 0.004950811294237894,\n 0.004620757207955368,\n 0.005115838337379157,\n 0.005115838337379157,\n 0.005115838337379157,\n 0.004950811294237894,\n 0.004950811294237894,\n 0.005115838337379157,\n 0.005115838337379157,\n 0.005115838337379157,\n 0.005115838337379157,\n 0.005115838337379157,\n 0.005115838337379157,\n 0.005115838337379157,\n 0.004950811294237894,\n 0.004950811294237894,\n 0.005115838337379157,\n 0.005115838337379157,\n 0.005115838337379157,\n 0.005115838337379157,\n 0.005115838337379157,\n 0.005115838337379157,\n 0.004950811294237894,\n 0.005115838337379157,\n 0.005115838337379157,\n 0.005115838337379157,\n 0.004950811294237894,\n 0.005115838337379157,\n 0.005115838337379157,\n 0.005115838337379157,\n 0.005115838337379157,\n 0.005115838337379157,\n 0.005115838337379157,\n 0.005115838337379157,\n 0.005115838337379157,\n 0.004950811294237894,\n 0.005115838337379157,\n 0.005115838337379157,\n 0.005115838337379157,\n 0.005115838337379157,\n 0.005115838337379157,\n 0.0051105148843746005,\n 0.005115838337379157,\n 0.005115838337379157,\n 0.0037956219922490523,\n 0.003300540862825263,\n 0.003300540862825263,\n 0.00494016438822878,\n 0.004455730164814105,\n 0.004620757207955368,\n 0.005115838337379157,\n 0.005115838337379157]"
     },
     "execution_count": 67,
     "metadata": {},
     "output_type": "execute_result"
    }
   ],
   "source": [
    "norm_probabilities"
   ],
   "metadata": {
    "collapsed": false,
    "ExecuteTime": {
     "end_time": "2025-03-14T14:55:21.449834700Z",
     "start_time": "2025-03-14T14:55:21.422275400Z"
    }
   },
   "id": "62809799d75b6709"
  },
  {
   "cell_type": "code",
   "execution_count": 53,
   "outputs": [],
   "source": [
    " alpha = 1\n",
    " z=   cursor.execute(\"\"\"\n",
    "                      select   i.class_id, \n",
    "                               i.trainset, \n",
    "                               ia.attribute_id, \n",
    "                               count(ia.attribute_id),\n",
    "                               log((? +                   sum(ia.present)) / ((2.0 * ?) +  ncc.class_count)) ,\n",
    "                               log((? + ncc.class_count - sum(ia.present)) / ((2.0 * ?) +  ncc.class_count))\n",
    "                      from     images i,\n",
    "                               image_attributes ia,\n",
    "                               nb_class_counts  ncc\n",
    "                      where    i.image_id = ia.image_id\n",
    "                      and      ncc.class_id = i.class_id\n",
    "                      and      ncc.trainset = i.trainset\n",
    "                    \n",
    "                      group by i.class_id, \n",
    "                               i.trainset, \n",
    "                               ia.attribute_id\"\"\", (alpha, alpha, alpha, alpha)).fetchall()"
   ],
   "metadata": {
    "collapsed": false,
    "ExecuteTime": {
     "end_time": "2025-03-14T14:47:44.365622600Z",
     "start_time": "2025-03-14T14:47:41.681493800Z"
    }
   },
   "id": "d8faf0fb53571e10"
  },
  {
   "cell_type": "code",
   "execution_count": 55,
   "outputs": [
    {
     "data": {
      "text/plain": "624.0"
     },
     "execution_count": 55,
     "metadata": {},
     "output_type": "execute_result"
    }
   ],
   "source": [
    "len(z)/200"
   ],
   "metadata": {
    "collapsed": false,
    "ExecuteTime": {
     "end_time": "2025-03-14T14:48:08.333953900Z",
     "start_time": "2025-03-14T14:48:08.328429100Z"
    }
   },
   "id": "1000179f4073ffe"
  },
  {
   "cell_type": "code",
   "execution_count": 28,
   "outputs": [
    {
     "ename": "OperationalError",
     "evalue": "no such column: nbc.class_id",
     "output_type": "error",
     "traceback": [
      "\u001B[1;31m---------------------------------------------------------------------------\u001B[0m",
      "\u001B[1;31mOperationalError\u001B[0m                          Traceback (most recent call last)",
      "Cell \u001B[1;32mIn[28], line 1\u001B[0m\n\u001B[1;32m----> 1\u001B[0m \u001B[43mcursor\u001B[49m\u001B[38;5;241;43m.\u001B[39;49m\u001B[43mexecute\u001B[49m\u001B[43m(\u001B[49m\u001B[38;5;124;43m\"\"\"\u001B[39;49m\u001B[38;5;124;43mselect count(*)\u001B[39;49m\n\u001B[0;32m      2\u001B[0m \u001B[38;5;124;43m                                                                 from     \u001B[39;49m\n\u001B[0;32m      3\u001B[0m \u001B[38;5;124;43m                                                                          image_attributes ia\u001B[39;49m\n\u001B[0;32m      4\u001B[0m \u001B[38;5;124;43m                                                                 \u001B[39;49m\n\u001B[0;32m      5\u001B[0m \u001B[38;5;124;43m                                                                 where      ia.image_id      = ?\u001B[39;49m\n\u001B[0;32m      6\u001B[0m \u001B[38;5;124;43m                                                                 group by nbc.class_id\u001B[39;49m\n\u001B[0;32m      7\u001B[0m \u001B[38;5;124;43m                                                                 order by nbc.class_id \u001B[39;49m\u001B[38;5;124;43m\"\"\"\u001B[39;49m\u001B[43m,\u001B[49m\u001B[43m \u001B[49m\u001B[43m(\u001B[49m\u001B[38;5;241;43m2\u001B[39;49m\u001B[43m,\u001B[49m\u001B[43m)\u001B[49m\u001B[43m)\u001B[49m\u001B[38;5;241m.\u001B[39mfetchall()\n",
      "\u001B[1;31mOperationalError\u001B[0m: no such column: nbc.class_id"
     ]
    }
   ],
   "source": [
    "cursor.execute(\"\"\"select count(*)\n",
    "                                                                 from     \n",
    "                                                                          image_attributes ia\n",
    "                                                                 \n",
    "                                                                 where      ia.image_id      = ?\n",
    "                                                                 group by nbc.class_id\n",
    "                                                                 order by nbc.class_id \"\"\", (2,)).fetchall()"
   ],
   "metadata": {
    "collapsed": false,
    "ExecuteTime": {
     "end_time": "2025-03-14T14:40:14.997750200Z",
     "start_time": "2025-03-14T14:40:14.932349200Z"
    }
   },
   "id": "2e9fabc4897aa32c"
  },
  {
   "cell_type": "code",
   "execution_count": null,
   "outputs": [],
   "source": [],
   "metadata": {
    "collapsed": false
   },
   "id": "10ac619503f4b1ce"
  }
 ],
 "metadata": {
  "kernelspec": {
   "display_name": "Python 3",
   "language": "python",
   "name": "python3"
  },
  "language_info": {
   "codemirror_mode": {
    "name": "ipython",
    "version": 2
   },
   "file_extension": ".py",
   "mimetype": "text/x-python",
   "name": "python",
   "nbconvert_exporter": "python",
   "pygments_lexer": "ipython2",
   "version": "2.7.6"
  }
 },
 "nbformat": 4,
 "nbformat_minor": 5
}
