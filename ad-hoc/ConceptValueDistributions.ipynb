{
 "cells": [
  {
   "cell_type": "code",
   "id": "initial_id",
   "metadata": {
    "collapsed": true,
    "ExecuteTime": {
     "end_time": "2025-03-26T10:12:23.972625Z",
     "start_time": "2025-03-26T10:12:22.443197Z"
    }
   },
   "source": [
    "%matplotlib\n",
    "import os.path\n",
    "import sqlite3\n",
    "import socket\n",
    "import matplotlib.pyplot as plt\n",
    "\n",
    "from torch.utils.data import Dataset\n",
    "\n",
    "if socket.gethostname() == 'LTSSL-sKTPpP5Xl':\n",
    "    data_dir = 'C:\\\\Users\\\\ams90\\\\PycharmProjects\\\\ConceptsBirds\\\\data'\n",
    "elif socket.gethostname() == 'LAPTOP-NA88OLS1':\n",
    "    data_dir = 'D:\\\\data\\\\caltecBirds\\\\CUB_200_2011'\n",
    "else:\n",
    "    data_dir = '/home/bwc/ams90/datasets/caltecBirds/CUB_200_2011'\n"
   ],
   "outputs": [
    {
     "name": "stdout",
     "output_type": "stream",
     "text": [
      "Using matplotlib backend: module://matplotlib_inline.backend_inline\n"
     ]
    }
   ],
   "execution_count": 2
  },
  {
   "cell_type": "code",
   "source": [
    "conn = sqlite3.connect(database=os.path.join(data_dir, 'birds.db'))\n",
    "cursor = conn.cursor()"
   ],
   "metadata": {
    "collapsed": false,
    "ExecuteTime": {
     "end_time": "2025-03-26T10:12:27.228034Z",
     "start_time": "2025-03-26T10:12:27.210911Z"
    }
   },
   "id": "f8250e7e317bd75d",
   "outputs": [],
   "execution_count": 3
  },
  {
   "cell_type": "code",
   "source": [
    "classes  = [(class_id, class_name)     for (class_id, class_name)     in cursor.execute(\"select class_id, class_name from classes\").fetchall()]\n",
    "concepts = [(concept_id, concept_name) for (concept_id, concept_name) in cursor.execute(\"select concept_id,concept_name from concepts\").fetchall()]"
   ],
   "metadata": {
    "collapsed": false,
    "ExecuteTime": {
     "end_time": "2025-03-26T10:12:28.128595Z",
     "start_time": "2025-03-26T10:12:28.111360Z"
    }
   },
   "id": "bfb5f82e378cef64",
   "outputs": [],
   "execution_count": 4
  },
  {
   "cell_type": "code",
   "source": [
    "def concept_value_counts():\n",
    "    cursor = conn.cursor()\n",
    "    sql = (\"\"\"select d.concept_name,\n",
    "                     i.trainset,\n",
    "                     a.value,\n",
    "                     count(a.value)\n",
    "              from   images i, \n",
    "                     classes cc, \n",
    "                     image_attributes ia,\n",
    "                     attributes a,\n",
    "                     concepts d\n",
    "              where i.class_id = cc.class_id \n",
    "              and   i.image_id = ia.image_id \n",
    "              and   a.attribute_id = ia.attribute_id\n",
    "              and   d.concept_id   = a.concept_id\n",
    "              and   ia.present = 1\n",
    "              and   cc.class_id = 3\n",
    "              group by \n",
    "                     i.trainset,\n",
    "                     cc.class_name,\n",
    "                     d.concept_name,\n",
    "                     a.value\n",
    "              order by\n",
    "                     d.concept_name,\n",
    "                     cc.class_name,\n",
    "                     i.trainset\n",
    "                     \"\"\")\n",
    "    cursor.execute(sql)\n",
    "    records = cursor.fetchall()\n",
    "    cursor.close()\n",
    "    return records\n",
    "records = concept_value_counts()"
   ],
   "metadata": {
    "collapsed": false,
    "ExecuteTime": {
     "end_time": "2025-03-26T10:12:29.470710Z",
     "start_time": "2025-03-26T10:12:29.224609Z"
    }
   },
   "id": "48891da91b5b95df",
   "outputs": [],
   "execution_count": 5
  },
  {
   "metadata": {
    "jupyter": {
     "is_executing": true
    },
    "ExecuteTime": {
     "start_time": "2025-03-26T10:12:30.961451Z"
    }
   },
   "cell_type": "code",
   "source": [
    "plt.plot([1, 2, 3, 4])\n",
    "plt.ylabel('some numbers')\n",
    "plt.show()"
   ],
   "id": "4ed602deb572664d",
   "outputs": [],
   "execution_count": null
  },
  {
   "cell_type": "code",
   "source": [
    "rows, cols = 7,4\n",
    "class_id = 6\n",
    "\n",
    "fig, ax = plt.subplots(nrows=rows, ncols=cols, layout='constrained', dpi=200, figsize=(12,16))\n",
    "fig.suptitle([name for (id, name) in classes if id == class_id][0])\n",
    "for row in range(rows):\n",
    "    for col in range(cols):\n",
    "        concept_id = 1 + (row * cols)  + col\n",
    "        # Retreive the list of possible values for the concept.\n",
    "        values    = [value for value in cursor.execute(\"select value_id, value from attributes where concept_id = ?\", (concept_id,)).fetchall()]\n",
    "        value_ids   = [value[0] for value in values]\n",
    "        value_names = [value[1][:10] for value in values]\n",
    "                \n",
    "        class_probs = [record for record in \n",
    "                       cursor.execute(\"\"\"select p.probability,\n",
    "                                                p.naive_train_probability,\n",
    "                                                p.naive_test_probability\n",
    "                                     from   class_attribute_probabilities p,\n",
    "                                            attributes a\n",
    "                                     where  p.class_id = ?\n",
    "                                     and    p.attribute_id = a.attribute_id\n",
    "                                     and    a.concept_id = ?\n",
    "                                     order by a.value_id\n",
    "                                     \"\"\", (class_id, concept_id)).fetchall()]\n",
    "        \n",
    "        class_probs = [[probabilty[field] for probabilty in class_probs] for field in range(3)]\n",
    "        \n",
    "        width = 0.30  # the width of the bars\n",
    "        multiplier = 0\n",
    "\n",
    "        for dataset, probabilties in enumerate(class_probs):\n",
    "            offset = width * multiplier\n",
    "            bar_starts = [value_id + offset for value_id in value_ids]\n",
    "            rects = ax[row][col].bar(bar_starts, probabilties, width)\n",
    "            multiplier += 1\n",
    "            \n",
    "        tick_starts = [value_id + width for value_id in value_ids]\n",
    "    \n",
    "               \n",
    "        ax[row][col].set_title([concept[1] for concept in concepts if concept[0] == concept_id][0],  fontsize=8)\n",
    "        ax[row][col].set_ylabel('Probability', fontsize=6)\n",
    "        ax[row][col].set_xticks(tick_starts, value_names, rotation=90, fontsize=6)\n",
    "        ax[row][col].legend( ['Class', 'Train', 'Test'],  fontsize=6)\n",
    "\n",
    "plt.savefig('class_' + str(class_id))\n"
   ],
   "metadata": {
    "collapsed": false
   },
   "id": "d2c585daa0b294d8",
   "outputs": [],
   "execution_count": null
  },
  {
   "cell_type": "code",
   "source": [
    "rows, cols = 10,6\n",
    "concept_id = 12\n",
    "\n",
    "fig, ax = plt.subplots(nrows=rows, ncols=cols, layout='constrained', dpi=200, figsize=(12,16))\n",
    "fig.suptitle([name for (id, name) in concepts if id == concept_id][0])\n",
    "for row in range(rows):\n",
    "    for col in range(cols):\n",
    "        class_id = 1 + (row * cols)  + col\n",
    "        # Retreive the list of possible values for the concept.\n",
    "        values    = [value for value in cursor.execute(\"select value_id, value from attributes where concept_id = ?\", (concept_id,)).fetchall()]\n",
    "        value_ids   = [value[0] for value in values]\n",
    "        value_names = [value[1][:10] for value in values]\n",
    "                \n",
    "        class_probs = [record for record in \n",
    "                       cursor.execute(\"\"\"select p.probability,\n",
    "                                                p.naive_train_probability,\n",
    "                                                p.naive_test_probability\n",
    "                                     from   class_attribute_probabilities p,\n",
    "                                            attributes a\n",
    "                                     where  p.class_id = ?\n",
    "                                     and    p.attribute_id = a.attribute_id\n",
    "                                     and    a.concept_id = ?\n",
    "                                     order by a.value_id\n",
    "                                     \"\"\", (class_id, concept_id)).fetchall()]\n",
    "        \n",
    "        class_probs = [[probabilty[field] for probabilty in class_probs] for field in range(3)]\n",
    "        \n",
    "        width = 0.30  # the width of the bars\n",
    "        multiplier = 0\n",
    "\n",
    "        for dataset, probabilties in enumerate(class_probs):\n",
    "            offset = width * multiplier\n",
    "            bar_starts = [value_id + offset for value_id in value_ids]\n",
    "            rects = ax[row][col].bar(bar_starts, probabilties, width)\n",
    "            multiplier += 1\n",
    "            \n",
    "        tick_starts = [value_id + width for value_id in value_ids]\n",
    "    \n",
    "               \n",
    "        ax[row][col].set_title([cls[1] for cls in classes if cls[0] == class_id][0],  fontsize=6)\n",
    "        ax[row][col].set_ylabel('Probability', fontsize=6)\n",
    "        ax[row][col].set_xticks(tick_starts, value_names, rotation=90, fontsize=4)\n",
    "        ax[row][col].legend( ['Class', 'Train', 'Test'],  fontsize=4)\n",
    "\n",
    "plt.savefig('concept_' + str(concept_id))\n"
   ],
   "metadata": {
    "collapsed": false
   },
   "id": "700db4714392e002",
   "outputs": [],
   "execution_count": null
  },
  {
   "cell_type": "code",
   "source": [
    "concepts"
   ],
   "metadata": {
    "collapsed": false
   },
   "id": "ce2e539971d19289",
   "outputs": [],
   "execution_count": null
  },
  {
   "cell_type": "code",
   "source": [],
   "metadata": {
    "collapsed": false
   },
   "id": "ac45634bfb1b390a",
   "outputs": [],
   "execution_count": null
  }
 ],
 "metadata": {
  "kernelspec": {
   "display_name": "Python 3",
   "language": "python",
   "name": "python3"
  },
  "language_info": {
   "codemirror_mode": {
    "name": "ipython",
    "version": 2
   },
   "file_extension": ".py",
   "mimetype": "text/x-python",
   "name": "python",
   "nbconvert_exporter": "python",
   "pygments_lexer": "ipython2",
   "version": "2.7.6"
  }
 },
 "nbformat": 4,
 "nbformat_minor": 5
}
