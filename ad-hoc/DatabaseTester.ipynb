{
 "cells": [
  {
   "cell_type": "code",
   "execution_count": 1,
   "id": "initial_id",
   "metadata": {
    "collapsed": true,
    "ExecuteTime": {
     "end_time": "2025-03-10T09:59:18.273712100Z",
     "start_time": "2025-03-10T09:59:16.489672500Z"
    }
   },
   "outputs": [],
   "source": [
    "import os.path\n",
    "import sqlite3\n",
    "import socket\n",
    "\n",
    "from torch.utils.data import Dataset\n",
    "\n",
    "if socket.gethostname() == 'LTSSL-sKTPpP5Xl':\n",
    "    data_dir = 'C:\\\\Users\\\\ams90\\\\PycharmProjects\\\\ConceptsBirds\\\\data'\n",
    "elif socket.gethostname() == 'LAPTOP-NA88OLS1':\n",
    "    data_dir = 'D:\\\\data\\\\caltecBirds\\\\CUB_200_2011'\n",
    "else:\n",
    "    data_dir = '/home/bwc/ams90/datasets/caltecBirds/CUB_200_2011'\n"
   ]
  },
  {
   "cell_type": "code",
   "execution_count": 124,
   "outputs": [],
   "source": [
    "conn = sqlite3.connect(database=os.path.join(data_dir, 'birds.db'))\n"
   ],
   "metadata": {
    "collapsed": false,
    "ExecuteTime": {
     "end_time": "2025-03-10T13:05:59.922941900Z",
     "start_time": "2025-03-10T13:05:59.914924Z"
    }
   },
   "id": "f8250e7e317bd75d"
  },
  {
   "cell_type": "code",
   "execution_count": 125,
   "outputs": [],
   "source": [
    "def concept_values(image_id, concept_name):\n",
    "    cursor = conn.cursor()\n",
    "    sql = (\"\"\"select a.value,\n",
    "                     ia.certainty\n",
    "              from   images i, \n",
    "                     classes cc, \n",
    "                     image_attributes ia,\n",
    "                     attributes a,\n",
    "                     concepts d\n",
    "              where i.class_id = cc.class_id \n",
    "              and   i.image_id = ia.image_id \n",
    "              and   a.attribute_id = ia.attribute_id\n",
    "              and   d.concept_id   = a.concept_id\n",
    "              and   ia.present = 1\n",
    "              and   d.concept_name = ?\n",
    "              and   i.image_id = ?\"\"\")\n",
    "    cursor.execute(sql, (concept_name, image_id))\n",
    "    records = cursor.fetchall()\n",
    "    cursor.close()\n",
    "    return records\n"
   ],
   "metadata": {
    "collapsed": false,
    "ExecuteTime": {
     "end_time": "2025-03-10T13:06:01.772466400Z",
     "start_time": "2025-03-10T13:06:01.768458300Z"
    }
   },
   "id": "e21b9c9d9510d8de"
  },
  {
   "cell_type": "code",
   "execution_count": 126,
   "outputs": [
    {
     "name": "stdout",
     "output_type": "stream",
     "text": [
      "['brown', 'black', 'buff']\n"
     ]
    }
   ],
   "source": [
    "print([value for (value, certainty) in concept_values(3, 'has_wing_color')])\n"
   ],
   "metadata": {
    "collapsed": false,
    "ExecuteTime": {
     "end_time": "2025-03-10T13:06:04.444185100Z",
     "start_time": "2025-03-10T13:06:04.300692100Z"
    }
   },
   "id": "26303d2e43dda8be"
  },
  {
   "cell_type": "code",
   "execution_count": 143,
   "outputs": [],
   "source": [
    "cursor = conn.cursor()\n",
    "sql = (\"\"\"select i.image_id\n",
    "          from   images i \n",
    "          where i.class_id = 2\n",
    "          and   i.trainset = 1\n",
    "        \"\"\")\n",
    "cursor.execute(sql)\n",
    "records = cursor.fetchall()\n",
    "cursor.close()\n",
    "\n",
    "combinations = [''.join([value for (value, certainty) in concept_values(image_id, 'has_wing_color')]) for (image_id,) in records]\n",
    "    #print(image_id, [value for (value, certainty) in concept_values(image_id, 'has_wing_color')])\n",
    "\n"
   ],
   "metadata": {
    "collapsed": false,
    "ExecuteTime": {
     "end_time": "2025-03-10T13:25:15.019721500Z",
     "start_time": "2025-03-10T13:25:10.916024Z"
    }
   },
   "id": "a2aab3b489937b9a"
  },
  {
   "cell_type": "code",
   "execution_count": 144,
   "outputs": [
    {
     "name": "stdout",
     "output_type": "stream",
     "text": [
      "Counter({'': 9, 'black': 6, 'brown': 6, 'brownblack': 3, 'grey': 2, 'greyblackwhite': 1, 'white': 1, 'blackwhite': 1, 'brownbuff': 1})\n"
     ]
    }
   ],
   "source": [
    "from collections import Counter\n",
    "print(Counter(combinations))"
   ],
   "metadata": {
    "collapsed": false,
    "ExecuteTime": {
     "end_time": "2025-03-10T13:25:15.872485Z",
     "start_time": "2025-03-10T13:25:15.868358700Z"
    }
   },
   "id": "c7dea16987e91c78"
  },
  {
   "cell_type": "code",
   "execution_count": 123,
   "outputs": [],
   "source": [
    "\n",
    "conn.close()"
   ],
   "metadata": {
    "collapsed": false,
    "ExecuteTime": {
     "end_time": "2025-03-10T13:05:41.941375700Z",
     "start_time": "2025-03-10T13:05:41.937093300Z"
    }
   },
   "id": "f67a35f735026b15"
  },
  {
   "cell_type": "code",
   "execution_count": null,
   "outputs": [],
   "source": [
    "sql = (\"\"\"select i.filename, \n",
    "                 cc.class_name,\n",
    "                 ia.attribute_id,\n",
    "                 d.concept_name, \n",
    "                 a.value,\n",
    "                 ia.certainty\n",
    "          from   images i, \n",
    "                 classes cc, \n",
    "                 image_attributes ia,\n",
    "                 attributes a,\n",
    "                 concepts d\n",
    "          where i.class_id = cc.class_id \n",
    "          and   i.image_id = ia.image_id \n",
    "          and   a.attribute_id = ia.attribute_id\n",
    "          and   d.concept_id   = a.concept_id\n",
    "          and   ia.present = 1\n",
    "          and   d.concept_name = ?\n",
    "          and   i.image_id = ?\"\"\")"
   ],
   "metadata": {
    "collapsed": false
   },
   "id": "2c68d0df98b18dc8"
  }
 ],
 "metadata": {
  "kernelspec": {
   "display_name": "Python 3",
   "language": "python",
   "name": "python3"
  },
  "language_info": {
   "codemirror_mode": {
    "name": "ipython",
    "version": 2
   },
   "file_extension": ".py",
   "mimetype": "text/x-python",
   "name": "python",
   "nbconvert_exporter": "python",
   "pygments_lexer": "ipython2",
   "version": "2.7.6"
  }
 },
 "nbformat": 4,
 "nbformat_minor": 5
}
