{
 "cells": [
  {
   "cell_type": "code",
   "execution_count": 1,
   "id": "initial_id",
   "metadata": {
    "collapsed": true,
    "ExecuteTime": {
     "end_time": "2025-03-14T10:35:38.475636800Z",
     "start_time": "2025-03-14T10:35:38.152719Z"
    }
   },
   "outputs": [],
   "source": [
    "import os\n",
    "import math\n",
    "import pandas as pd\n",
    "import numpy as np\n",
    "np.seterr(divide='ignore')\n",
    "\n",
    "data_dir = 'D:\\\\data\\\\caltecBirds\\\\CUB_200_2011'"
   ]
  },
  {
   "cell_type": "code",
   "execution_count": 2,
   "outputs": [],
   "source": [
    "# Load class and attribute data from the supplied text files\n",
    "\n",
    "train_test_split = pd.read_csv(os.path.join(data_dir, 'train_test_split.txt'),   sep=\" \", index_col=[0], names=['image_id', 'trainset'])\n",
    "image_file_names = pd.read_csv(os.path.join(data_dir, 'images.txt'),             sep=\" \", index_col=[0], names=['image_id', 'file_name'])\n",
    "class_labels     = pd.read_csv(os.path.join(data_dir, 'image_class_labels.txt'), sep=\" \", index_col=[0], names=['image_id', 'class_id'])\n",
    "image_attribute_labels = pd.read_csv(os.path.join(data_dir, 'attributes', 'image_attribute_labels.txt'), sep=\" \", \n",
    "                                     names = ['image_id', 'attribute_id', 'present', 'certainty_id', 'time', 'd1', 'd2'])\n",
    "image_attribute_labels = image_attribute_labels.merge(train_test_split, on='image_id', how='left' )\n",
    "image_attribute_labels = image_attribute_labels.merge(class_labels, on='image_id', how='left' )\n",
    "\n",
    "expert_probabilities = pd.read_csv(os.path.join(data_dir, 'attributes', 'class_attribute_labels_continuous.txt'), sep=\" \",  names=[i for i in range(1, 313)]).transpose() / 100\n",
    "expert_probabilities.rename(columns=lambda x:x+1, inplace=True)\n",
    "\n",
    "test_attribute_labels  = image_attribute_labels.loc[image_attribute_labels['trainset']==1].copy()\n",
    "test_attribute_probabilities = test_attribute_labels.pivot_table(index='attribute_id', columns='class_id')['present']\n",
    "test_attribute_probabilities = np.log(test_attribute_probabilities)\n",
    "#test_attribute_probabilities.replace(to_replace=-np.inf, value=0, inplace=True)\n",
    "\n"
   ],
   "metadata": {
    "collapsed": false,
    "ExecuteTime": {
     "end_time": "2025-03-14T10:35:39.867729900Z",
     "start_time": "2025-03-14T10:35:38.479625Z"
    }
   },
   "id": "9acb0a5e288906ce"
  },
  {
   "cell_type": "code",
   "execution_count": 3,
   "outputs": [
    {
     "data": {
      "text/plain": "          1         2         3         4         5         6         7    \\\n1        -inf -3.120895      -inf      -inf      -inf      -inf      -inf   \n2   -3.533687 -3.120895 -3.225520 -4.226834      -inf      -inf      -inf   \n3   -4.226834 -3.526361 -3.407842 -2.280924 -3.433987      -inf -4.127134   \n4        -inf -4.219508      -inf      -inf      -inf      -inf      -inf   \n5   -0.513262 -0.555946 -0.344451      -inf -4.532599      -inf -4.127134   \n..        ...       ...       ...       ...       ...       ...       ...   \n308 -1.142097      -inf -1.821612 -3.843030 -3.091042 -3.015535      -inf   \n309 -0.624154 -0.259511 -0.342095 -0.172843 -0.122602 -1.819158 -0.449268   \n310 -2.926739 -3.267666 -4.672829 -3.737670      -inf -2.106841 -3.555348   \n311 -1.540445 -2.256065 -2.593387 -3.449988 -3.258097 -0.720546 -1.881372   \n312 -1.627456 -2.456736 -1.581786 -2.271333 -2.564949 -1.470852 -1.709521   \n\n          8         9         10   ...       191       192       193  \\\n1        -inf      -inf      -inf  ...      -inf      -inf -1.533930   \n2   -3.526361 -2.810908 -1.778336  ... -0.431782 -0.767255 -2.322388   \n3   -2.227078      -inf      -inf  ...      -inf      -inf      -inf   \n4        -inf      -inf      -inf  ...      -inf      -inf -5.030438   \n5   -2.545531      -inf      -inf  ...      -inf      -inf      -inf   \n..        ...       ...       ...  ...       ...       ...       ...   \n308      -inf -3.339322      -inf  ... -5.123964      -inf -1.803188   \n309 -0.443205 -0.282567 -1.881786  ... -2.664700      -inf -0.622831   \n310      -inf -3.768922 -4.324133  ... -3.453157 -0.261215 -3.071370   \n311 -1.621860 -2.382628 -2.619385  ... -3.270836 -1.826851 -1.188638   \n312 -1.829500 -2.034321 -0.272348  ... -0.149940 -2.674149 -2.184066   \n\n          194       195       196       197       198       199       200  \n1   -1.195239 -1.152680 -3.610918 -1.698233 -2.229382      -inf      -inf  \n2   -1.132060 -3.077970 -2.052773 -2.140066 -1.002152 -3.878121 -2.491296  \n3        -inf      -inf      -inf      -inf      -inf      -inf      -inf  \n4   -4.330733      -inf      -inf -3.421000 -2.577688 -3.878121      -inf  \n5        -inf      -inf      -inf      -inf -5.062595      -inf      -inf  \n..        ...       ...       ...       ...       ...       ...       ...  \n308 -3.084528 -2.227622 -1.217218 -1.479076 -0.870481 -1.649984 -0.966616  \n309 -3.944813 -1.173733 -1.939395 -1.784791 -1.671742 -2.086362 -0.571132  \n310 -0.418452 -2.625985 -1.475090 -1.379326 -0.814292 -1.064711 -3.488903  \n311 -1.577689 -0.733421 -0.576091 -1.134203 -1.671742 -1.105533 -2.236140  \n312 -2.153053 -1.979358 -2.727853 -1.351927 -1.708109 -1.609438 -1.211636  \n\n[312 rows x 200 columns]",
      "text/html": "<div>\n<style scoped>\n    .dataframe tbody tr th:only-of-type {\n        vertical-align: middle;\n    }\n\n    .dataframe tbody tr th {\n        vertical-align: top;\n    }\n\n    .dataframe thead th {\n        text-align: right;\n    }\n</style>\n<table border=\"1\" class=\"dataframe\">\n  <thead>\n    <tr style=\"text-align: right;\">\n      <th></th>\n      <th>1</th>\n      <th>2</th>\n      <th>3</th>\n      <th>4</th>\n      <th>5</th>\n      <th>6</th>\n      <th>7</th>\n      <th>8</th>\n      <th>9</th>\n      <th>10</th>\n      <th>...</th>\n      <th>191</th>\n      <th>192</th>\n      <th>193</th>\n      <th>194</th>\n      <th>195</th>\n      <th>196</th>\n      <th>197</th>\n      <th>198</th>\n      <th>199</th>\n      <th>200</th>\n    </tr>\n  </thead>\n  <tbody>\n    <tr>\n      <th>1</th>\n      <td>-inf</td>\n      <td>-3.120895</td>\n      <td>-inf</td>\n      <td>-inf</td>\n      <td>-inf</td>\n      <td>-inf</td>\n      <td>-inf</td>\n      <td>-inf</td>\n      <td>-inf</td>\n      <td>-inf</td>\n      <td>...</td>\n      <td>-inf</td>\n      <td>-inf</td>\n      <td>-1.533930</td>\n      <td>-1.195239</td>\n      <td>-1.152680</td>\n      <td>-3.610918</td>\n      <td>-1.698233</td>\n      <td>-2.229382</td>\n      <td>-inf</td>\n      <td>-inf</td>\n    </tr>\n    <tr>\n      <th>2</th>\n      <td>-3.533687</td>\n      <td>-3.120895</td>\n      <td>-3.225520</td>\n      <td>-4.226834</td>\n      <td>-inf</td>\n      <td>-inf</td>\n      <td>-inf</td>\n      <td>-3.526361</td>\n      <td>-2.810908</td>\n      <td>-1.778336</td>\n      <td>...</td>\n      <td>-0.431782</td>\n      <td>-0.767255</td>\n      <td>-2.322388</td>\n      <td>-1.132060</td>\n      <td>-3.077970</td>\n      <td>-2.052773</td>\n      <td>-2.140066</td>\n      <td>-1.002152</td>\n      <td>-3.878121</td>\n      <td>-2.491296</td>\n    </tr>\n    <tr>\n      <th>3</th>\n      <td>-4.226834</td>\n      <td>-3.526361</td>\n      <td>-3.407842</td>\n      <td>-2.280924</td>\n      <td>-3.433987</td>\n      <td>-inf</td>\n      <td>-4.127134</td>\n      <td>-2.227078</td>\n      <td>-inf</td>\n      <td>-inf</td>\n      <td>...</td>\n      <td>-inf</td>\n      <td>-inf</td>\n      <td>-inf</td>\n      <td>-inf</td>\n      <td>-inf</td>\n      <td>-inf</td>\n      <td>-inf</td>\n      <td>-inf</td>\n      <td>-inf</td>\n      <td>-inf</td>\n    </tr>\n    <tr>\n      <th>4</th>\n      <td>-inf</td>\n      <td>-4.219508</td>\n      <td>-inf</td>\n      <td>-inf</td>\n      <td>-inf</td>\n      <td>-inf</td>\n      <td>-inf</td>\n      <td>-inf</td>\n      <td>-inf</td>\n      <td>-inf</td>\n      <td>...</td>\n      <td>-inf</td>\n      <td>-inf</td>\n      <td>-5.030438</td>\n      <td>-4.330733</td>\n      <td>-inf</td>\n      <td>-inf</td>\n      <td>-3.421000</td>\n      <td>-2.577688</td>\n      <td>-3.878121</td>\n      <td>-inf</td>\n    </tr>\n    <tr>\n      <th>5</th>\n      <td>-0.513262</td>\n      <td>-0.555946</td>\n      <td>-0.344451</td>\n      <td>-inf</td>\n      <td>-4.532599</td>\n      <td>-inf</td>\n      <td>-4.127134</td>\n      <td>-2.545531</td>\n      <td>-inf</td>\n      <td>-inf</td>\n      <td>...</td>\n      <td>-inf</td>\n      <td>-inf</td>\n      <td>-inf</td>\n      <td>-inf</td>\n      <td>-inf</td>\n      <td>-inf</td>\n      <td>-inf</td>\n      <td>-5.062595</td>\n      <td>-inf</td>\n      <td>-inf</td>\n    </tr>\n    <tr>\n      <th>...</th>\n      <td>...</td>\n      <td>...</td>\n      <td>...</td>\n      <td>...</td>\n      <td>...</td>\n      <td>...</td>\n      <td>...</td>\n      <td>...</td>\n      <td>...</td>\n      <td>...</td>\n      <td>...</td>\n      <td>...</td>\n      <td>...</td>\n      <td>...</td>\n      <td>...</td>\n      <td>...</td>\n      <td>...</td>\n      <td>...</td>\n      <td>...</td>\n      <td>...</td>\n      <td>...</td>\n    </tr>\n    <tr>\n      <th>308</th>\n      <td>-1.142097</td>\n      <td>-inf</td>\n      <td>-1.821612</td>\n      <td>-3.843030</td>\n      <td>-3.091042</td>\n      <td>-3.015535</td>\n      <td>-inf</td>\n      <td>-inf</td>\n      <td>-3.339322</td>\n      <td>-inf</td>\n      <td>...</td>\n      <td>-5.123964</td>\n      <td>-inf</td>\n      <td>-1.803188</td>\n      <td>-3.084528</td>\n      <td>-2.227622</td>\n      <td>-1.217218</td>\n      <td>-1.479076</td>\n      <td>-0.870481</td>\n      <td>-1.649984</td>\n      <td>-0.966616</td>\n    </tr>\n    <tr>\n      <th>309</th>\n      <td>-0.624154</td>\n      <td>-0.259511</td>\n      <td>-0.342095</td>\n      <td>-0.172843</td>\n      <td>-0.122602</td>\n      <td>-1.819158</td>\n      <td>-0.449268</td>\n      <td>-0.443205</td>\n      <td>-0.282567</td>\n      <td>-1.881786</td>\n      <td>...</td>\n      <td>-2.664700</td>\n      <td>-inf</td>\n      <td>-0.622831</td>\n      <td>-3.944813</td>\n      <td>-1.173733</td>\n      <td>-1.939395</td>\n      <td>-1.784791</td>\n      <td>-1.671742</td>\n      <td>-2.086362</td>\n      <td>-0.571132</td>\n    </tr>\n    <tr>\n      <th>310</th>\n      <td>-2.926739</td>\n      <td>-3.267666</td>\n      <td>-4.672829</td>\n      <td>-3.737670</td>\n      <td>-inf</td>\n      <td>-2.106841</td>\n      <td>-3.555348</td>\n      <td>-inf</td>\n      <td>-3.768922</td>\n      <td>-4.324133</td>\n      <td>...</td>\n      <td>-3.453157</td>\n      <td>-0.261215</td>\n      <td>-3.071370</td>\n      <td>-0.418452</td>\n      <td>-2.625985</td>\n      <td>-1.475090</td>\n      <td>-1.379326</td>\n      <td>-0.814292</td>\n      <td>-1.064711</td>\n      <td>-3.488903</td>\n    </tr>\n    <tr>\n      <th>311</th>\n      <td>-1.540445</td>\n      <td>-2.256065</td>\n      <td>-2.593387</td>\n      <td>-3.449988</td>\n      <td>-3.258097</td>\n      <td>-0.720546</td>\n      <td>-1.881372</td>\n      <td>-1.621860</td>\n      <td>-2.382628</td>\n      <td>-2.619385</td>\n      <td>...</td>\n      <td>-3.270836</td>\n      <td>-1.826851</td>\n      <td>-1.188638</td>\n      <td>-1.577689</td>\n      <td>-0.733421</td>\n      <td>-0.576091</td>\n      <td>-1.134203</td>\n      <td>-1.671742</td>\n      <td>-1.105533</td>\n      <td>-2.236140</td>\n    </tr>\n    <tr>\n      <th>312</th>\n      <td>-1.627456</td>\n      <td>-2.456736</td>\n      <td>-1.581786</td>\n      <td>-2.271333</td>\n      <td>-2.564949</td>\n      <td>-1.470852</td>\n      <td>-1.709521</td>\n      <td>-1.829500</td>\n      <td>-2.034321</td>\n      <td>-0.272348</td>\n      <td>...</td>\n      <td>-0.149940</td>\n      <td>-2.674149</td>\n      <td>-2.184066</td>\n      <td>-2.153053</td>\n      <td>-1.979358</td>\n      <td>-2.727853</td>\n      <td>-1.351927</td>\n      <td>-1.708109</td>\n      <td>-1.609438</td>\n      <td>-1.211636</td>\n    </tr>\n  </tbody>\n</table>\n<p>312 rows × 200 columns</p>\n</div>"
     },
     "execution_count": 3,
     "metadata": {},
     "output_type": "execute_result"
    }
   ],
   "source": [
    "# Class attribute probabilities based on human knowledge\n",
    "\n",
    "expert_probabilities = np.log(expert_probabilities)\n",
    "expert_probabilities\n"
   ],
   "metadata": {
    "collapsed": false,
    "ExecuteTime": {
     "end_time": "2025-03-14T10:35:39.898284700Z",
     "start_time": "2025-03-14T10:35:39.869729600Z"
    }
   },
   "id": "1782410322e69b64"
  },
  {
   "cell_type": "code",
   "execution_count": 4,
   "outputs": [
    {
     "data": {
      "text/plain": "class_id           1         2         3         4         5         6    \\\nattribute_id                                                               \n1                 -inf -2.708050      -inf      -inf      -inf      -inf   \n2            -3.401197 -2.708050 -3.332205      -inf      -inf      -inf   \n3                 -inf -3.401197 -3.332205 -2.014903 -2.639057      -inf   \n4                 -inf -3.401197      -inf      -inf      -inf      -inf   \n5            -0.628609 -0.693147 -0.387766      -inf      -inf      -inf   \n...                ...       ...       ...       ...       ...       ...   \n308          -1.203973      -inf -1.722767 -3.401197      -inf      -inf   \n309          -1.003302 -0.510826 -0.693147 -0.356675 -0.693147 -2.397895   \n310          -2.708050 -3.401197 -3.332205      -inf      -inf -1.704748   \n311          -2.014903 -2.708050 -1.945910 -3.401197 -2.639057 -1.704748   \n312          -1.203973 -2.014903 -1.945910 -2.302585 -1.945910 -1.011601   \n\nclass_id           7         8         9         10   ...       191       192  \\\nattribute_id                                          ...                       \n1                 -inf      -inf      -inf      -inf  ...      -inf      -inf   \n2                 -inf      -inf -2.674149 -2.302585  ... -0.510826 -0.693147   \n3                 -inf -2.890372      -inf      -inf  ...      -inf      -inf   \n4                 -inf      -inf      -inf      -inf  ...      -inf      -inf   \n5                 -inf -1.791759      -inf      -inf  ...      -inf      -inf   \n...                ...       ...       ...       ...  ...       ...       ...   \n308               -inf      -inf -2.674149      -inf  ... -3.401197      -inf   \n309          -0.737599 -0.587787 -0.422857 -1.791759  ... -2.302585      -inf   \n310          -3.135494      -inf      -inf -3.401197  ... -2.708050 -0.223144   \n311          -2.036882 -1.791759 -2.268684 -2.302585  ... -3.401197 -2.014903   \n312          -1.749200 -1.791759 -1.981001 -0.456758  ... -0.356675 -2.708050   \n\nclass_id           193       194       195       196       197       198  \\\nattribute_id                                                               \n1            -1.791759 -1.455287 -1.455287 -3.401197 -1.321756 -2.302585   \n2            -2.708050 -1.203973 -2.708050 -2.014903 -1.609438 -1.455287   \n3                 -inf      -inf      -inf      -inf      -inf      -inf   \n4                 -inf      -inf      -inf      -inf -3.401197 -2.014903   \n5                 -inf      -inf      -inf      -inf      -inf -3.401197   \n...                ...       ...       ...       ...       ...       ...   \n308          -1.791759 -2.708050 -2.014903 -1.203973 -1.203973 -0.693147   \n309          -1.098612 -2.708050 -1.455287 -1.791759 -1.321756 -1.321756   \n310          -2.708050 -0.693147 -3.401197 -1.455287 -1.609438 -1.203973   \n311          -0.916291 -1.098612 -0.762140 -0.628609 -1.321756 -2.014903   \n312          -1.791759 -2.302585 -1.791759 -2.708050 -1.609438 -1.203973   \n\nclass_id           199       200  \nattribute_id                      \n1                 -inf      -inf  \n2            -3.401197 -2.014903  \n3                 -inf      -inf  \n4                 -inf      -inf  \n5                 -inf      -inf  \n...                ...       ...  \n308          -1.791759 -0.762140  \n309          -2.014903 -0.916291  \n310          -0.916291 -2.708050  \n311          -1.321756 -2.014903  \n312          -1.791759 -1.203973  \n\n[312 rows x 200 columns]",
      "text/html": "<div>\n<style scoped>\n    .dataframe tbody tr th:only-of-type {\n        vertical-align: middle;\n    }\n\n    .dataframe tbody tr th {\n        vertical-align: top;\n    }\n\n    .dataframe thead th {\n        text-align: right;\n    }\n</style>\n<table border=\"1\" class=\"dataframe\">\n  <thead>\n    <tr style=\"text-align: right;\">\n      <th>class_id</th>\n      <th>1</th>\n      <th>2</th>\n      <th>3</th>\n      <th>4</th>\n      <th>5</th>\n      <th>6</th>\n      <th>7</th>\n      <th>8</th>\n      <th>9</th>\n      <th>10</th>\n      <th>...</th>\n      <th>191</th>\n      <th>192</th>\n      <th>193</th>\n      <th>194</th>\n      <th>195</th>\n      <th>196</th>\n      <th>197</th>\n      <th>198</th>\n      <th>199</th>\n      <th>200</th>\n    </tr>\n    <tr>\n      <th>attribute_id</th>\n      <th></th>\n      <th></th>\n      <th></th>\n      <th></th>\n      <th></th>\n      <th></th>\n      <th></th>\n      <th></th>\n      <th></th>\n      <th></th>\n      <th></th>\n      <th></th>\n      <th></th>\n      <th></th>\n      <th></th>\n      <th></th>\n      <th></th>\n      <th></th>\n      <th></th>\n      <th></th>\n      <th></th>\n    </tr>\n  </thead>\n  <tbody>\n    <tr>\n      <th>1</th>\n      <td>-inf</td>\n      <td>-2.708050</td>\n      <td>-inf</td>\n      <td>-inf</td>\n      <td>-inf</td>\n      <td>-inf</td>\n      <td>-inf</td>\n      <td>-inf</td>\n      <td>-inf</td>\n      <td>-inf</td>\n      <td>...</td>\n      <td>-inf</td>\n      <td>-inf</td>\n      <td>-1.791759</td>\n      <td>-1.455287</td>\n      <td>-1.455287</td>\n      <td>-3.401197</td>\n      <td>-1.321756</td>\n      <td>-2.302585</td>\n      <td>-inf</td>\n      <td>-inf</td>\n    </tr>\n    <tr>\n      <th>2</th>\n      <td>-3.401197</td>\n      <td>-2.708050</td>\n      <td>-3.332205</td>\n      <td>-inf</td>\n      <td>-inf</td>\n      <td>-inf</td>\n      <td>-inf</td>\n      <td>-inf</td>\n      <td>-2.674149</td>\n      <td>-2.302585</td>\n      <td>...</td>\n      <td>-0.510826</td>\n      <td>-0.693147</td>\n      <td>-2.708050</td>\n      <td>-1.203973</td>\n      <td>-2.708050</td>\n      <td>-2.014903</td>\n      <td>-1.609438</td>\n      <td>-1.455287</td>\n      <td>-3.401197</td>\n      <td>-2.014903</td>\n    </tr>\n    <tr>\n      <th>3</th>\n      <td>-inf</td>\n      <td>-3.401197</td>\n      <td>-3.332205</td>\n      <td>-2.014903</td>\n      <td>-2.639057</td>\n      <td>-inf</td>\n      <td>-inf</td>\n      <td>-2.890372</td>\n      <td>-inf</td>\n      <td>-inf</td>\n      <td>...</td>\n      <td>-inf</td>\n      <td>-inf</td>\n      <td>-inf</td>\n      <td>-inf</td>\n      <td>-inf</td>\n      <td>-inf</td>\n      <td>-inf</td>\n      <td>-inf</td>\n      <td>-inf</td>\n      <td>-inf</td>\n    </tr>\n    <tr>\n      <th>4</th>\n      <td>-inf</td>\n      <td>-3.401197</td>\n      <td>-inf</td>\n      <td>-inf</td>\n      <td>-inf</td>\n      <td>-inf</td>\n      <td>-inf</td>\n      <td>-inf</td>\n      <td>-inf</td>\n      <td>-inf</td>\n      <td>...</td>\n      <td>-inf</td>\n      <td>-inf</td>\n      <td>-inf</td>\n      <td>-inf</td>\n      <td>-inf</td>\n      <td>-inf</td>\n      <td>-3.401197</td>\n      <td>-2.014903</td>\n      <td>-inf</td>\n      <td>-inf</td>\n    </tr>\n    <tr>\n      <th>5</th>\n      <td>-0.628609</td>\n      <td>-0.693147</td>\n      <td>-0.387766</td>\n      <td>-inf</td>\n      <td>-inf</td>\n      <td>-inf</td>\n      <td>-inf</td>\n      <td>-1.791759</td>\n      <td>-inf</td>\n      <td>-inf</td>\n      <td>...</td>\n      <td>-inf</td>\n      <td>-inf</td>\n      <td>-inf</td>\n      <td>-inf</td>\n      <td>-inf</td>\n      <td>-inf</td>\n      <td>-inf</td>\n      <td>-3.401197</td>\n      <td>-inf</td>\n      <td>-inf</td>\n    </tr>\n    <tr>\n      <th>...</th>\n      <td>...</td>\n      <td>...</td>\n      <td>...</td>\n      <td>...</td>\n      <td>...</td>\n      <td>...</td>\n      <td>...</td>\n      <td>...</td>\n      <td>...</td>\n      <td>...</td>\n      <td>...</td>\n      <td>...</td>\n      <td>...</td>\n      <td>...</td>\n      <td>...</td>\n      <td>...</td>\n      <td>...</td>\n      <td>...</td>\n      <td>...</td>\n      <td>...</td>\n      <td>...</td>\n    </tr>\n    <tr>\n      <th>308</th>\n      <td>-1.203973</td>\n      <td>-inf</td>\n      <td>-1.722767</td>\n      <td>-3.401197</td>\n      <td>-inf</td>\n      <td>-inf</td>\n      <td>-inf</td>\n      <td>-inf</td>\n      <td>-2.674149</td>\n      <td>-inf</td>\n      <td>...</td>\n      <td>-3.401197</td>\n      <td>-inf</td>\n      <td>-1.791759</td>\n      <td>-2.708050</td>\n      <td>-2.014903</td>\n      <td>-1.203973</td>\n      <td>-1.203973</td>\n      <td>-0.693147</td>\n      <td>-1.791759</td>\n      <td>-0.762140</td>\n    </tr>\n    <tr>\n      <th>309</th>\n      <td>-1.003302</td>\n      <td>-0.510826</td>\n      <td>-0.693147</td>\n      <td>-0.356675</td>\n      <td>-0.693147</td>\n      <td>-2.397895</td>\n      <td>-0.737599</td>\n      <td>-0.587787</td>\n      <td>-0.422857</td>\n      <td>-1.791759</td>\n      <td>...</td>\n      <td>-2.302585</td>\n      <td>-inf</td>\n      <td>-1.098612</td>\n      <td>-2.708050</td>\n      <td>-1.455287</td>\n      <td>-1.791759</td>\n      <td>-1.321756</td>\n      <td>-1.321756</td>\n      <td>-2.014903</td>\n      <td>-0.916291</td>\n    </tr>\n    <tr>\n      <th>310</th>\n      <td>-2.708050</td>\n      <td>-3.401197</td>\n      <td>-3.332205</td>\n      <td>-inf</td>\n      <td>-inf</td>\n      <td>-1.704748</td>\n      <td>-3.135494</td>\n      <td>-inf</td>\n      <td>-inf</td>\n      <td>-3.401197</td>\n      <td>...</td>\n      <td>-2.708050</td>\n      <td>-0.223144</td>\n      <td>-2.708050</td>\n      <td>-0.693147</td>\n      <td>-3.401197</td>\n      <td>-1.455287</td>\n      <td>-1.609438</td>\n      <td>-1.203973</td>\n      <td>-0.916291</td>\n      <td>-2.708050</td>\n    </tr>\n    <tr>\n      <th>311</th>\n      <td>-2.014903</td>\n      <td>-2.708050</td>\n      <td>-1.945910</td>\n      <td>-3.401197</td>\n      <td>-2.639057</td>\n      <td>-1.704748</td>\n      <td>-2.036882</td>\n      <td>-1.791759</td>\n      <td>-2.268684</td>\n      <td>-2.302585</td>\n      <td>...</td>\n      <td>-3.401197</td>\n      <td>-2.014903</td>\n      <td>-0.916291</td>\n      <td>-1.098612</td>\n      <td>-0.762140</td>\n      <td>-0.628609</td>\n      <td>-1.321756</td>\n      <td>-2.014903</td>\n      <td>-1.321756</td>\n      <td>-2.014903</td>\n    </tr>\n    <tr>\n      <th>312</th>\n      <td>-1.203973</td>\n      <td>-2.014903</td>\n      <td>-1.945910</td>\n      <td>-2.302585</td>\n      <td>-1.945910</td>\n      <td>-1.011601</td>\n      <td>-1.749200</td>\n      <td>-1.791759</td>\n      <td>-1.981001</td>\n      <td>-0.456758</td>\n      <td>...</td>\n      <td>-0.356675</td>\n      <td>-2.708050</td>\n      <td>-1.791759</td>\n      <td>-2.302585</td>\n      <td>-1.791759</td>\n      <td>-2.708050</td>\n      <td>-1.609438</td>\n      <td>-1.203973</td>\n      <td>-1.791759</td>\n      <td>-1.203973</td>\n    </tr>\n  </tbody>\n</table>\n<p>312 rows × 200 columns</p>\n</div>"
     },
     "execution_count": 4,
     "metadata": {},
     "output_type": "execute_result"
    }
   ],
   "source": [
    "# Train a Naive Bayes classifier based on the attributes contained in the training dataset\n",
    "\n",
    "train_attribute_labels = image_attribute_labels.loc[image_attribute_labels['trainset']==0].copy()\n",
    "class_attribute_probabilities = train_attribute_labels.pivot_table(index='attribute_id', columns='class_id')['present']\n",
    "class_attribute_probabilities = np.log(class_attribute_probabilities)\n",
    "#class_attribute_probabilities.replace(to_replace=-np.inf, value=0, inplace=True)\n",
    "class_attribute_probabilities"
   ],
   "metadata": {
    "collapsed": false,
    "ExecuteTime": {
     "end_time": "2025-03-14T10:35:40.196132800Z",
     "start_time": "2025-03-14T10:35:39.890320300Z"
    }
   },
   "id": "1bd25f4ef5f4c61f"
  },
  {
   "cell_type": "code",
   "execution_count": 5,
   "outputs": [
    {
     "data": {
      "text/plain": "class_id           1         2         3         4         5         6    \\\nattribute_id                                                               \n1                 -inf -3.401197      -inf      -inf      -inf      -inf   \n2            -3.401197 -3.401197 -2.708050 -3.401197      -inf      -inf   \n3            -3.401197 -2.302585 -3.401197 -2.708050      -inf      -inf   \n4                 -inf      -inf      -inf      -inf      -inf      -inf   \n5            -0.567984 -0.567984 -0.356675      -inf -3.401197      -inf   \n...                ...       ...       ...       ...       ...       ...   \n308          -1.203973      -inf -2.302585      -inf -2.708050 -2.708050   \n309          -1.003302 -0.628609 -0.510826 -0.356675 -0.356675 -2.302585   \n310               -inf -3.401197      -inf -3.401197      -inf -2.708050   \n311          -1.455287 -2.302585      -inf -3.401197      -inf -0.836248   \n312          -2.014903      -inf -1.609438 -2.708050 -3.401197 -2.014903   \n\nclass_id           7         8         9         10   ...       191       192  \\\nattribute_id                                          ...                       \n1                 -inf      -inf      -inf      -inf  ...      -inf      -inf   \n2                 -inf -2.708050 -3.401197 -1.321756  ... -0.405465 -0.693147   \n3            -3.401197 -2.302585      -inf      -inf  ...      -inf      -inf   \n4                 -inf      -inf      -inf      -inf  ...      -inf      -inf   \n5            -3.401197 -3.401197      -inf      -inf  ...      -inf      -inf   \n...                ...       ...       ...       ...  ...       ...       ...   \n308               -inf      -inf      -inf      -inf  ...      -inf      -inf   \n309          -0.762140 -0.916291 -0.510826 -2.014903  ... -2.708050      -inf   \n310               -inf      -inf -3.401197      -inf  ...      -inf -0.310155   \n311          -1.791759 -2.014903 -2.708050 -3.401197  ... -3.401197 -1.609438   \n312          -2.014903 -2.708050 -2.014903 -0.356675  ... -0.105361 -2.708050   \n\nclass_id           193       194       195       196       197       198  \\\nattribute_id                                                               \n1            -1.321756 -1.003302 -1.003302 -3.367296 -2.014903 -2.302585   \n2            -2.014903 -1.098612 -3.401197 -1.981001 -2.708050 -0.693147   \n3                 -inf      -inf      -inf      -inf      -inf      -inf   \n4            -3.401197 -3.401197      -inf      -inf -3.401197      -inf   \n5                 -inf      -inf      -inf      -inf      -inf      -inf   \n...                ...       ...       ...       ...       ...       ...   \n308          -1.791759 -3.401197 -2.302585 -1.170071 -1.791759 -1.098612   \n309          -0.405465      -inf -1.098612 -2.268684 -2.708050 -2.302585   \n310          -3.401197 -0.310155 -2.014903 -1.421386 -1.455287 -0.628609   \n311          -1.321756 -2.014903 -0.762140 -0.594707 -1.003302 -1.321756   \n312          -3.401197 -2.302585 -2.708050 -2.674149 -1.203973 -2.302585   \n\nclass_id           199       200  \nattribute_id                      \n1                 -inf      -inf  \n2                 -inf -2.708050  \n3                 -inf      -inf  \n4            -3.401197      -inf  \n5                 -inf      -inf  \n...                ...       ...  \n308          -1.321756 -1.203973  \n309          -2.014903 -0.510826  \n310          -1.455287      -inf  \n311          -0.836248 -2.302585  \n312          -1.609438 -1.609438  \n\n[312 rows x 200 columns]",
      "text/html": "<div>\n<style scoped>\n    .dataframe tbody tr th:only-of-type {\n        vertical-align: middle;\n    }\n\n    .dataframe tbody tr th {\n        vertical-align: top;\n    }\n\n    .dataframe thead th {\n        text-align: right;\n    }\n</style>\n<table border=\"1\" class=\"dataframe\">\n  <thead>\n    <tr style=\"text-align: right;\">\n      <th>class_id</th>\n      <th>1</th>\n      <th>2</th>\n      <th>3</th>\n      <th>4</th>\n      <th>5</th>\n      <th>6</th>\n      <th>7</th>\n      <th>8</th>\n      <th>9</th>\n      <th>10</th>\n      <th>...</th>\n      <th>191</th>\n      <th>192</th>\n      <th>193</th>\n      <th>194</th>\n      <th>195</th>\n      <th>196</th>\n      <th>197</th>\n      <th>198</th>\n      <th>199</th>\n      <th>200</th>\n    </tr>\n    <tr>\n      <th>attribute_id</th>\n      <th></th>\n      <th></th>\n      <th></th>\n      <th></th>\n      <th></th>\n      <th></th>\n      <th></th>\n      <th></th>\n      <th></th>\n      <th></th>\n      <th></th>\n      <th></th>\n      <th></th>\n      <th></th>\n      <th></th>\n      <th></th>\n      <th></th>\n      <th></th>\n      <th></th>\n      <th></th>\n      <th></th>\n    </tr>\n  </thead>\n  <tbody>\n    <tr>\n      <th>1</th>\n      <td>-inf</td>\n      <td>-3.401197</td>\n      <td>-inf</td>\n      <td>-inf</td>\n      <td>-inf</td>\n      <td>-inf</td>\n      <td>-inf</td>\n      <td>-inf</td>\n      <td>-inf</td>\n      <td>-inf</td>\n      <td>...</td>\n      <td>-inf</td>\n      <td>-inf</td>\n      <td>-1.321756</td>\n      <td>-1.003302</td>\n      <td>-1.003302</td>\n      <td>-3.367296</td>\n      <td>-2.014903</td>\n      <td>-2.302585</td>\n      <td>-inf</td>\n      <td>-inf</td>\n    </tr>\n    <tr>\n      <th>2</th>\n      <td>-3.401197</td>\n      <td>-3.401197</td>\n      <td>-2.708050</td>\n      <td>-3.401197</td>\n      <td>-inf</td>\n      <td>-inf</td>\n      <td>-inf</td>\n      <td>-2.708050</td>\n      <td>-3.401197</td>\n      <td>-1.321756</td>\n      <td>...</td>\n      <td>-0.405465</td>\n      <td>-0.693147</td>\n      <td>-2.014903</td>\n      <td>-1.098612</td>\n      <td>-3.401197</td>\n      <td>-1.981001</td>\n      <td>-2.708050</td>\n      <td>-0.693147</td>\n      <td>-inf</td>\n      <td>-2.708050</td>\n    </tr>\n    <tr>\n      <th>3</th>\n      <td>-3.401197</td>\n      <td>-2.302585</td>\n      <td>-3.401197</td>\n      <td>-2.708050</td>\n      <td>-inf</td>\n      <td>-inf</td>\n      <td>-3.401197</td>\n      <td>-2.302585</td>\n      <td>-inf</td>\n      <td>-inf</td>\n      <td>...</td>\n      <td>-inf</td>\n      <td>-inf</td>\n      <td>-inf</td>\n      <td>-inf</td>\n      <td>-inf</td>\n      <td>-inf</td>\n      <td>-inf</td>\n      <td>-inf</td>\n      <td>-inf</td>\n      <td>-inf</td>\n    </tr>\n    <tr>\n      <th>4</th>\n      <td>-inf</td>\n      <td>-inf</td>\n      <td>-inf</td>\n      <td>-inf</td>\n      <td>-inf</td>\n      <td>-inf</td>\n      <td>-inf</td>\n      <td>-inf</td>\n      <td>-inf</td>\n      <td>-inf</td>\n      <td>...</td>\n      <td>-inf</td>\n      <td>-inf</td>\n      <td>-3.401197</td>\n      <td>-3.401197</td>\n      <td>-inf</td>\n      <td>-inf</td>\n      <td>-3.401197</td>\n      <td>-inf</td>\n      <td>-3.401197</td>\n      <td>-inf</td>\n    </tr>\n    <tr>\n      <th>5</th>\n      <td>-0.567984</td>\n      <td>-0.567984</td>\n      <td>-0.356675</td>\n      <td>-inf</td>\n      <td>-3.401197</td>\n      <td>-inf</td>\n      <td>-3.401197</td>\n      <td>-3.401197</td>\n      <td>-inf</td>\n      <td>-inf</td>\n      <td>...</td>\n      <td>-inf</td>\n      <td>-inf</td>\n      <td>-inf</td>\n      <td>-inf</td>\n      <td>-inf</td>\n      <td>-inf</td>\n      <td>-inf</td>\n      <td>-inf</td>\n      <td>-inf</td>\n      <td>-inf</td>\n    </tr>\n    <tr>\n      <th>...</th>\n      <td>...</td>\n      <td>...</td>\n      <td>...</td>\n      <td>...</td>\n      <td>...</td>\n      <td>...</td>\n      <td>...</td>\n      <td>...</td>\n      <td>...</td>\n      <td>...</td>\n      <td>...</td>\n      <td>...</td>\n      <td>...</td>\n      <td>...</td>\n      <td>...</td>\n      <td>...</td>\n      <td>...</td>\n      <td>...</td>\n      <td>...</td>\n      <td>...</td>\n      <td>...</td>\n    </tr>\n    <tr>\n      <th>308</th>\n      <td>-1.203973</td>\n      <td>-inf</td>\n      <td>-2.302585</td>\n      <td>-inf</td>\n      <td>-2.708050</td>\n      <td>-2.708050</td>\n      <td>-inf</td>\n      <td>-inf</td>\n      <td>-inf</td>\n      <td>-inf</td>\n      <td>...</td>\n      <td>-inf</td>\n      <td>-inf</td>\n      <td>-1.791759</td>\n      <td>-3.401197</td>\n      <td>-2.302585</td>\n      <td>-1.170071</td>\n      <td>-1.791759</td>\n      <td>-1.098612</td>\n      <td>-1.321756</td>\n      <td>-1.203973</td>\n    </tr>\n    <tr>\n      <th>309</th>\n      <td>-1.003302</td>\n      <td>-0.628609</td>\n      <td>-0.510826</td>\n      <td>-0.356675</td>\n      <td>-0.356675</td>\n      <td>-2.302585</td>\n      <td>-0.762140</td>\n      <td>-0.916291</td>\n      <td>-0.510826</td>\n      <td>-2.014903</td>\n      <td>...</td>\n      <td>-2.708050</td>\n      <td>-inf</td>\n      <td>-0.405465</td>\n      <td>-inf</td>\n      <td>-1.098612</td>\n      <td>-2.268684</td>\n      <td>-2.708050</td>\n      <td>-2.302585</td>\n      <td>-2.014903</td>\n      <td>-0.510826</td>\n    </tr>\n    <tr>\n      <th>310</th>\n      <td>-inf</td>\n      <td>-3.401197</td>\n      <td>-inf</td>\n      <td>-3.401197</td>\n      <td>-inf</td>\n      <td>-2.708050</td>\n      <td>-inf</td>\n      <td>-inf</td>\n      <td>-3.401197</td>\n      <td>-inf</td>\n      <td>...</td>\n      <td>-inf</td>\n      <td>-0.310155</td>\n      <td>-3.401197</td>\n      <td>-0.310155</td>\n      <td>-2.014903</td>\n      <td>-1.421386</td>\n      <td>-1.455287</td>\n      <td>-0.628609</td>\n      <td>-1.455287</td>\n      <td>-inf</td>\n    </tr>\n    <tr>\n      <th>311</th>\n      <td>-1.455287</td>\n      <td>-2.302585</td>\n      <td>-inf</td>\n      <td>-3.401197</td>\n      <td>-inf</td>\n      <td>-0.836248</td>\n      <td>-1.791759</td>\n      <td>-2.014903</td>\n      <td>-2.708050</td>\n      <td>-3.401197</td>\n      <td>...</td>\n      <td>-3.401197</td>\n      <td>-1.609438</td>\n      <td>-1.321756</td>\n      <td>-2.014903</td>\n      <td>-0.762140</td>\n      <td>-0.594707</td>\n      <td>-1.003302</td>\n      <td>-1.321756</td>\n      <td>-0.836248</td>\n      <td>-2.302585</td>\n    </tr>\n    <tr>\n      <th>312</th>\n      <td>-2.014903</td>\n      <td>-inf</td>\n      <td>-1.609438</td>\n      <td>-2.708050</td>\n      <td>-3.401197</td>\n      <td>-2.014903</td>\n      <td>-2.014903</td>\n      <td>-2.708050</td>\n      <td>-2.014903</td>\n      <td>-0.356675</td>\n      <td>...</td>\n      <td>-0.105361</td>\n      <td>-2.708050</td>\n      <td>-3.401197</td>\n      <td>-2.302585</td>\n      <td>-2.708050</td>\n      <td>-2.674149</td>\n      <td>-1.203973</td>\n      <td>-2.302585</td>\n      <td>-1.609438</td>\n      <td>-1.609438</td>\n    </tr>\n  </tbody>\n</table>\n<p>312 rows × 200 columns</p>\n</div>"
     },
     "execution_count": 5,
     "metadata": {},
     "output_type": "execute_result"
    }
   ],
   "source": [
    "test_attribute_probabilities"
   ],
   "metadata": {
    "collapsed": false,
    "ExecuteTime": {
     "end_time": "2025-03-14T10:35:40.224661100Z",
     "start_time": "2025-03-14T10:35:40.197132900Z"
    }
   },
   "id": "8d225352e5fc8cd9"
  },
  {
   "cell_type": "markdown",
   "source": [],
   "metadata": {
    "collapsed": false
   },
   "id": "c19c3e0cc6d70955"
  },
  {
   "cell_type": "code",
   "execution_count": 6,
   "outputs": [
    {
     "name": "stdout",
     "output_type": "stream",
     "text": [
      "Expert 0.6339673006339673\n",
      "Trained 0.29796463129796463\n",
      "TrainedOnTest 0.7057057057057057\n"
     ]
    }
   ],
   "source": [
    "classifiers = {'Expert': expert_probabilities, 'Trained': class_attribute_probabilities, 'TrainedOnTest': test_attribute_probabilities}\n",
    "\n",
    "for name, classifier in classifiers.items():\n",
    "    count, correct = 0, 0\n",
    "    for image_id, _ in train_test_split.loc[train_test_split['trainset'] == 1].iterrows():\n",
    "        present_attribute_ids = image_attribute_labels.loc[((image_attribute_labels['image_id']==image_id) & (image_attribute_labels['present']==1))]['attribute_id']\n",
    "        class_probability_factors = classifier.loc[classifier.index.isin([attribute_id for attribute_id in present_attribute_ids]) ]\n",
    "        class_probabilities = class_probability_factors.sum()\n",
    "        \n",
    "        class_probabilities = np.exp(class_probabilities)\n",
    "        total_prob          = sum(class_probabilities)\n",
    "        if total_prob > 0:\n",
    "            norm_probabilities  = class_probabilities / total_prob\n",
    "            predicted_class = norm_probabilities.idxmax(skipna=True)\n",
    "            labelled_class  = class_labels.loc[class_labels.index == image_id]['class_id'].tolist()[0]\n",
    "            if predicted_class == labelled_class: correct +=1\n",
    "        count+=1\n",
    "      \n",
    "      \n",
    "\n",
    "    print(name, correct / count)\n",
    "    \n",
    "        \n",
    "    "
   ],
   "metadata": {
    "collapsed": false,
    "ExecuteTime": {
     "end_time": "2025-03-14T10:38:04.696449600Z",
     "start_time": "2025-03-14T10:35:40.215668900Z"
    }
   },
   "id": "bb0a6379d41c41e5"
  },
  {
   "cell_type": "code",
   "execution_count": 6,
   "outputs": [],
   "source": [],
   "metadata": {
    "collapsed": false,
    "ExecuteTime": {
     "end_time": "2025-03-14T10:38:04.696449600Z",
     "start_time": "2025-03-14T10:38:04.687574900Z"
    }
   },
   "id": "b6ab6952d876389c"
  }
 ],
 "metadata": {
  "kernelspec": {
   "display_name": "Python 3",
   "language": "python",
   "name": "python3"
  },
  "language_info": {
   "codemirror_mode": {
    "name": "ipython",
    "version": 2
   },
   "file_extension": ".py",
   "mimetype": "text/x-python",
   "name": "python",
   "nbconvert_exporter": "python",
   "pygments_lexer": "ipython2",
   "version": "2.7.6"
  }
 },
 "nbformat": 4,
 "nbformat_minor": 5
}
