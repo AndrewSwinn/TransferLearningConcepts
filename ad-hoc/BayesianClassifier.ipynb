{
 "cells": [
  {
   "cell_type": "code",
   "execution_count": 1,
   "id": "initial_id",
   "metadata": {
    "collapsed": true,
    "ExecuteTime": {
     "end_time": "2025-03-06T14:16:51.082125600Z",
     "start_time": "2025-03-06T14:16:39.993052600Z"
    }
   },
   "outputs": [],
   "source": [
    "from src.DataLoader import CaltechBirdsDataset"
   ]
  },
  {
   "cell_type": "code",
   "execution_count": 3,
   "outputs": [],
   "source": [
    "image_datasets =CaltechBirdsDataset(train=False)"
   ],
   "metadata": {
    "collapsed": false,
    "ExecuteTime": {
     "end_time": "2025-03-06T14:17:33.817271700Z",
     "start_time": "2025-03-06T14:17:33.806745700Z"
    }
   },
   "id": "9addb962dc146d43"
  },
  {
   "cell_type": "code",
   "execution_count": 4,
   "outputs": [
    {
     "data": {
      "text/plain": "<src.DataLoader.CaltechBirdsDataset at 0x23175e5a250>"
     },
     "execution_count": 4,
     "metadata": {},
     "output_type": "execute_result"
    }
   ],
   "source": [
    "image_datasets"
   ],
   "metadata": {
    "collapsed": false,
    "ExecuteTime": {
     "end_time": "2025-03-06T14:17:42.633227200Z",
     "start_time": "2025-03-06T14:17:42.622306600Z"
    }
   },
   "id": "1a52cf432c34be04"
  },
  {
   "cell_type": "code",
   "execution_count": null,
   "outputs": [],
   "source": [],
   "metadata": {
    "collapsed": false
   },
   "id": "8a1b8f2aa4fb8357"
  }
 ],
 "metadata": {
  "kernelspec": {
   "display_name": "Python 3",
   "language": "python",
   "name": "python3"
  },
  "language_info": {
   "codemirror_mode": {
    "name": "ipython",
    "version": 2
   },
   "file_extension": ".py",
   "mimetype": "text/x-python",
   "name": "python",
   "nbconvert_exporter": "python",
   "pygments_lexer": "ipython2",
   "version": "2.7.6"
  }
 },
 "nbformat": 4,
 "nbformat_minor": 5
}
