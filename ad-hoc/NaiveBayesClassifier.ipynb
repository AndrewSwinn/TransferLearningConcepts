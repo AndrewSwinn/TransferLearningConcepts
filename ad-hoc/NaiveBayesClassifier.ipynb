{
 "cells": [
  {
   "cell_type": "code",
   "execution_count": 1,
   "id": "initial_id",
   "metadata": {
    "collapsed": true,
    "ExecuteTime": {
     "end_time": "2025-03-07T12:28:37.799487300Z",
     "start_time": "2025-03-07T12:28:34.172594300Z"
    }
   },
   "outputs": [],
   "source": [
    "import math\n",
    "import pandas as pd\n",
    "import torch\n",
    "\n",
    "from src.DataLoader import CaltechBirdsDataset"
   ]
  },
  {
   "cell_type": "code",
   "execution_count": 2,
   "outputs": [],
   "source": [
    "data_dict = pd.DataFrame()\n",
    "dataset    = CaltechBirdsDataset(train=True)\n",
    "birdloader = torch.utils.data.DataLoader(dataset, batch_size=32, shuffle=True)\n",
    "for data, images in birdloader:\n",
    "    data_pd = pd.DataFrame(data)\n",
    "    data_dict = pd.concat((data_dict, data_pd))\n",
    "   "
   ],
   "metadata": {
    "collapsed": false,
    "ExecuteTime": {
     "end_time": "2025-03-07T12:29:17.970596300Z",
     "start_time": "2025-03-07T12:28:39.015207800Z"
    }
   },
   "id": "9addb962dc146d43"
  },
  {
   "cell_type": "code",
   "execution_count": 3,
   "outputs": [
    {
     "data": {
      "text/plain": "    trainset                                          file_name  class_id  \\\n0          1  049.Boat_tailed_Grackle/Boat_Tailed_Grackle_00...        49   \n1          1  082.Ringed_Kingfisher/Ringed_Kingfisher_0021_7...        82   \n2          1   014.Indigo_Bunting/Indigo_Bunting_0005_13832.jpg        14   \n3          1   014.Indigo_Bunting/Indigo_Bunting_0041_13987.jpg        14   \n4          1  020.Yellow_breasted_Chat/Yellow_Breasted_Chat_...        20   \n..       ...                                                ...       ...   \n5          1  038.Great_Crested_Flycatcher/Great_Crested_Fly...        38   \n6          1            110.Geococcyx/Geococcyx_0075_104334.jpg       110   \n7          1  171.Myrtle_Warbler/Myrtle_Warbler_0107_166917.jpg       171   \n8          1  200.Common_Yellowthroat/Common_Yellowthroat_00...       200   \n9          1      107.Common_Raven/Common_Raven_0069_101825.jpg       107   \n\n    one_hot    x    y    w    h  has_bill_shape  has_wing_color  ...  \\\n0        48   62   59  335  210               7               1  ...   \n1        81  207   95  141  203               6               6  ...   \n2        13   90   57  187  315               7               1  ...   \n3        13  218  273  189  101               8               9  ...   \n4        19  205  126  120  139               7              12  ...   \n..      ...  ...  ...  ...  ...             ...             ...  ...   \n5        37  272  138  132  130               7               2  ...   \n6       109   19   21  421  362               2              12  ...   \n7       170   67   69  181  401               7               0  ...   \n8       199  177   18  201  263               7               2  ...   \n9       106  139  104  296  181               1              12  ...   \n\n    has_size  has_shape  has_back_pattern  has_tail_pattern  \\\n0          2         14                 4                 0   \n1          2          1                 1                 1   \n2          5          9                 1                 0   \n3          2         14                 1                 3   \n4          2         14                 1                 1   \n..       ...        ...               ...               ...   \n5          2          7                 3                 4   \n6          2          7                 3                 3   \n7          2         14                 0                 0   \n8          5         14                 4                 4   \n9          2          9                 3                 3   \n\n    has_belly_pattern  has_primary_color  has_leg_color  has_bill_color  \\\n0                   4                  1              1               1   \n1                   3                  6              2              12   \n2                   0                  1              6               6   \n3                   1                  1              6               6   \n4                   1                  6             12              12   \n..                ...                ...            ...             ...   \n5                   1                  2              2               6   \n6                   1                  6              6               6   \n7                   3                  8             12               8   \n8                   4                  2             11               2   \n9                   1                 12              6              12   \n\n    has_crown_color  has_wing_pattern  \n0                 1                 4  \n1                12                 0  \n2                 1                 0  \n3                 1                 1  \n4                12                 1  \n..              ...               ...  \n5                 2                 3  \n6                12                 3  \n7                 8                 2  \n8                 7                 4  \n9                12                 3  \n\n[5994 rows x 36 columns]",
      "text/html": "<div>\n<style scoped>\n    .dataframe tbody tr th:only-of-type {\n        vertical-align: middle;\n    }\n\n    .dataframe tbody tr th {\n        vertical-align: top;\n    }\n\n    .dataframe thead th {\n        text-align: right;\n    }\n</style>\n<table border=\"1\" class=\"dataframe\">\n  <thead>\n    <tr style=\"text-align: right;\">\n      <th></th>\n      <th>trainset</th>\n      <th>file_name</th>\n      <th>class_id</th>\n      <th>one_hot</th>\n      <th>x</th>\n      <th>y</th>\n      <th>w</th>\n      <th>h</th>\n      <th>has_bill_shape</th>\n      <th>has_wing_color</th>\n      <th>...</th>\n      <th>has_size</th>\n      <th>has_shape</th>\n      <th>has_back_pattern</th>\n      <th>has_tail_pattern</th>\n      <th>has_belly_pattern</th>\n      <th>has_primary_color</th>\n      <th>has_leg_color</th>\n      <th>has_bill_color</th>\n      <th>has_crown_color</th>\n      <th>has_wing_pattern</th>\n    </tr>\n  </thead>\n  <tbody>\n    <tr>\n      <th>0</th>\n      <td>1</td>\n      <td>049.Boat_tailed_Grackle/Boat_Tailed_Grackle_00...</td>\n      <td>49</td>\n      <td>48</td>\n      <td>62</td>\n      <td>59</td>\n      <td>335</td>\n      <td>210</td>\n      <td>7</td>\n      <td>1</td>\n      <td>...</td>\n      <td>2</td>\n      <td>14</td>\n      <td>4</td>\n      <td>0</td>\n      <td>4</td>\n      <td>1</td>\n      <td>1</td>\n      <td>1</td>\n      <td>1</td>\n      <td>4</td>\n    </tr>\n    <tr>\n      <th>1</th>\n      <td>1</td>\n      <td>082.Ringed_Kingfisher/Ringed_Kingfisher_0021_7...</td>\n      <td>82</td>\n      <td>81</td>\n      <td>207</td>\n      <td>95</td>\n      <td>141</td>\n      <td>203</td>\n      <td>6</td>\n      <td>6</td>\n      <td>...</td>\n      <td>2</td>\n      <td>1</td>\n      <td>1</td>\n      <td>1</td>\n      <td>3</td>\n      <td>6</td>\n      <td>2</td>\n      <td>12</td>\n      <td>12</td>\n      <td>0</td>\n    </tr>\n    <tr>\n      <th>2</th>\n      <td>1</td>\n      <td>014.Indigo_Bunting/Indigo_Bunting_0005_13832.jpg</td>\n      <td>14</td>\n      <td>13</td>\n      <td>90</td>\n      <td>57</td>\n      <td>187</td>\n      <td>315</td>\n      <td>7</td>\n      <td>1</td>\n      <td>...</td>\n      <td>5</td>\n      <td>9</td>\n      <td>1</td>\n      <td>0</td>\n      <td>0</td>\n      <td>1</td>\n      <td>6</td>\n      <td>6</td>\n      <td>1</td>\n      <td>0</td>\n    </tr>\n    <tr>\n      <th>3</th>\n      <td>1</td>\n      <td>014.Indigo_Bunting/Indigo_Bunting_0041_13987.jpg</td>\n      <td>14</td>\n      <td>13</td>\n      <td>218</td>\n      <td>273</td>\n      <td>189</td>\n      <td>101</td>\n      <td>8</td>\n      <td>9</td>\n      <td>...</td>\n      <td>2</td>\n      <td>14</td>\n      <td>1</td>\n      <td>3</td>\n      <td>1</td>\n      <td>1</td>\n      <td>6</td>\n      <td>6</td>\n      <td>1</td>\n      <td>1</td>\n    </tr>\n    <tr>\n      <th>4</th>\n      <td>1</td>\n      <td>020.Yellow_breasted_Chat/Yellow_Breasted_Chat_...</td>\n      <td>20</td>\n      <td>19</td>\n      <td>205</td>\n      <td>126</td>\n      <td>120</td>\n      <td>139</td>\n      <td>7</td>\n      <td>12</td>\n      <td>...</td>\n      <td>2</td>\n      <td>14</td>\n      <td>1</td>\n      <td>1</td>\n      <td>1</td>\n      <td>6</td>\n      <td>12</td>\n      <td>12</td>\n      <td>12</td>\n      <td>1</td>\n    </tr>\n    <tr>\n      <th>...</th>\n      <td>...</td>\n      <td>...</td>\n      <td>...</td>\n      <td>...</td>\n      <td>...</td>\n      <td>...</td>\n      <td>...</td>\n      <td>...</td>\n      <td>...</td>\n      <td>...</td>\n      <td>...</td>\n      <td>...</td>\n      <td>...</td>\n      <td>...</td>\n      <td>...</td>\n      <td>...</td>\n      <td>...</td>\n      <td>...</td>\n      <td>...</td>\n      <td>...</td>\n      <td>...</td>\n    </tr>\n    <tr>\n      <th>5</th>\n      <td>1</td>\n      <td>038.Great_Crested_Flycatcher/Great_Crested_Fly...</td>\n      <td>38</td>\n      <td>37</td>\n      <td>272</td>\n      <td>138</td>\n      <td>132</td>\n      <td>130</td>\n      <td>7</td>\n      <td>2</td>\n      <td>...</td>\n      <td>2</td>\n      <td>7</td>\n      <td>3</td>\n      <td>4</td>\n      <td>1</td>\n      <td>2</td>\n      <td>2</td>\n      <td>6</td>\n      <td>2</td>\n      <td>3</td>\n    </tr>\n    <tr>\n      <th>6</th>\n      <td>1</td>\n      <td>110.Geococcyx/Geococcyx_0075_104334.jpg</td>\n      <td>110</td>\n      <td>109</td>\n      <td>19</td>\n      <td>21</td>\n      <td>421</td>\n      <td>362</td>\n      <td>2</td>\n      <td>12</td>\n      <td>...</td>\n      <td>2</td>\n      <td>7</td>\n      <td>3</td>\n      <td>3</td>\n      <td>1</td>\n      <td>6</td>\n      <td>6</td>\n      <td>6</td>\n      <td>12</td>\n      <td>3</td>\n    </tr>\n    <tr>\n      <th>7</th>\n      <td>1</td>\n      <td>171.Myrtle_Warbler/Myrtle_Warbler_0107_166917.jpg</td>\n      <td>171</td>\n      <td>170</td>\n      <td>67</td>\n      <td>69</td>\n      <td>181</td>\n      <td>401</td>\n      <td>7</td>\n      <td>0</td>\n      <td>...</td>\n      <td>2</td>\n      <td>14</td>\n      <td>0</td>\n      <td>0</td>\n      <td>3</td>\n      <td>8</td>\n      <td>12</td>\n      <td>8</td>\n      <td>8</td>\n      <td>2</td>\n    </tr>\n    <tr>\n      <th>8</th>\n      <td>1</td>\n      <td>200.Common_Yellowthroat/Common_Yellowthroat_00...</td>\n      <td>200</td>\n      <td>199</td>\n      <td>177</td>\n      <td>18</td>\n      <td>201</td>\n      <td>263</td>\n      <td>7</td>\n      <td>2</td>\n      <td>...</td>\n      <td>5</td>\n      <td>14</td>\n      <td>4</td>\n      <td>4</td>\n      <td>4</td>\n      <td>2</td>\n      <td>11</td>\n      <td>2</td>\n      <td>7</td>\n      <td>4</td>\n    </tr>\n    <tr>\n      <th>9</th>\n      <td>1</td>\n      <td>107.Common_Raven/Common_Raven_0069_101825.jpg</td>\n      <td>107</td>\n      <td>106</td>\n      <td>139</td>\n      <td>104</td>\n      <td>296</td>\n      <td>181</td>\n      <td>1</td>\n      <td>12</td>\n      <td>...</td>\n      <td>2</td>\n      <td>9</td>\n      <td>3</td>\n      <td>3</td>\n      <td>1</td>\n      <td>12</td>\n      <td>6</td>\n      <td>12</td>\n      <td>12</td>\n      <td>3</td>\n    </tr>\n  </tbody>\n</table>\n<p>5994 rows × 36 columns</p>\n</div>"
     },
     "execution_count": 3,
     "metadata": {},
     "output_type": "execute_result"
    }
   ],
   "source": [
    "data_dict"
   ],
   "metadata": {
    "collapsed": false,
    "ExecuteTime": {
     "end_time": "2025-03-07T12:29:19.595928600Z",
     "start_time": "2025-03-07T12:29:19.543443600Z"
    }
   },
   "id": "8a1b8f2aa4fb8357"
  },
  {
   "cell_type": "code",
   "execution_count": 4,
   "outputs": [],
   "source": [
    "def entropy(data):\n",
    "    H = [-data[i] * math.log(data[i]) for i in range(1,201) if data[i] > 0]\n",
    "    return(sum(H))\n",
    "\n",
    "probabilities = pd.DataFrame()\n",
    "for concept_name in dataset.concept_names:\n",
    "    concept_pivot = data_dict.pivot_table(index=concept_name, columns='class_id', aggfunc='size', fill_value=0)\n",
    "    concept_probs = concept_pivot.div(concept_pivot.sum(axis=1), axis=0)\n",
    "    concept_probs.insert(0, 'concept_name', concept_name)\n",
    "    concept_entropy = concept_probs.apply(func=entropy, axis=1,raw=True, result_type='reduce' )\n",
    "    #concept_probs['entropy'] = concept_entropy\n",
    "    concept_probs.insert(1, 'entropy', concept_entropy)\n",
    "    probabilities = pd.concat((probabilities, concept_probs))\n",
    "    \n",
    "    "
   ],
   "metadata": {
    "collapsed": false,
    "ExecuteTime": {
     "end_time": "2025-03-07T12:29:22.867981200Z",
     "start_time": "2025-03-07T12:29:22.670232200Z"
    }
   },
   "id": "9fa1c81beb23c9c1"
  },
  {
   "cell_type": "code",
   "execution_count": 5,
   "outputs": [
    {
     "data": {
      "text/plain": "class_id      concept_name   entropy         1         2         3         4  \\\n0           has_bill_shape  4.507321  0.012048  0.012048  0.000000  0.018072   \n1           has_bill_shape  3.659936  0.000000  0.007143  0.000000  0.000000   \n2           has_bill_shape  4.370537  0.001242  0.001242  0.002484  0.001242   \n3           has_bill_shape  3.513724  0.010753  0.032258  0.010753  0.021505   \n4           has_bill_shape  2.651041  0.000000  0.000000  0.000000  0.000000   \n..                     ...       ...       ...       ...       ...       ...   \n0         has_wing_pattern  4.991896  0.012232  0.015291  0.009174  0.007645   \n1         has_wing_pattern  4.931033  0.006459  0.009395  0.010570  0.012331   \n2         has_wing_pattern  4.259692  0.000000  0.002174  0.000000  0.002174   \n3         has_wing_pattern  4.985982  0.004781  0.002049  0.000000  0.000683   \n4         has_wing_pattern  5.073872  0.002335  0.000000  0.003503  0.001168   \n\nclass_id         5         6         7         8  ...       191       192  \\\n0         0.012048  0.018072  0.000000  0.018072  ...  0.000000  0.006024   \n1         0.000000  0.000000  0.000000  0.000000  ...  0.000000  0.000000   \n2         0.000000  0.000000  0.000000  0.002484  ...  0.024845  0.018634   \n3         0.000000  0.000000  0.010753  0.032258  ...  0.000000  0.000000   \n4         0.000000  0.000000  0.000000  0.000000  ...  0.000000  0.000000   \n..             ...       ...       ...       ...  ...       ...       ...   \n0         0.012232  0.012232  0.010703  0.018349  ...  0.000000  0.000000   \n1         0.012331  0.001762  0.008221  0.007046  ...  0.001174  0.000000   \n2         0.000000  0.004348  0.000000  0.000000  ...  0.000000  0.047826   \n3         0.000000  0.008880  0.003415  0.002732  ...  0.000683  0.004098   \n4         0.000584  0.002335  0.002335  0.001168  ...  0.015762  0.001168   \n\nclass_id       193       194       195       196       197       198  \\\n0         0.000000  0.006024  0.006024  0.000000  0.000000  0.000000   \n1         0.057143  0.078571  0.078571  0.007143  0.028571  0.021429   \n2         0.004969  0.012422  0.001242  0.004969  0.002484  0.018634   \n3         0.000000  0.000000  0.000000  0.000000  0.000000  0.000000   \n4         0.007143  0.007143  0.000000  0.000000  0.007143  0.000000   \n..             ...       ...       ...       ...       ...       ...   \n0         0.000000  0.001529  0.000000  0.001529  0.001529  0.000000   \n1         0.011744  0.000000  0.005872  0.001762  0.001174  0.001762   \n2         0.002174  0.047826  0.008696  0.015217  0.015217  0.034783   \n3         0.005464  0.002732  0.009563  0.010929  0.007514  0.005464   \n4         0.000584  0.001751  0.001168  0.001168  0.005254  0.001751   \n\nclass_id       199       200  \n0         0.000000  0.006024  \n1         0.000000  0.000000  \n2         0.000000  0.002484  \n3         0.000000  0.000000  \n4         0.007143  0.000000  \n..             ...       ...  \n0         0.000000  0.004587  \n1         0.002349  0.010570  \n2         0.015217  0.000000  \n3         0.008880  0.002049  \n4         0.003503  0.003503  \n\n[337 rows x 202 columns]",
      "text/html": "<div>\n<style scoped>\n    .dataframe tbody tr th:only-of-type {\n        vertical-align: middle;\n    }\n\n    .dataframe tbody tr th {\n        vertical-align: top;\n    }\n\n    .dataframe thead th {\n        text-align: right;\n    }\n</style>\n<table border=\"1\" class=\"dataframe\">\n  <thead>\n    <tr style=\"text-align: right;\">\n      <th>class_id</th>\n      <th>concept_name</th>\n      <th>entropy</th>\n      <th>1</th>\n      <th>2</th>\n      <th>3</th>\n      <th>4</th>\n      <th>5</th>\n      <th>6</th>\n      <th>7</th>\n      <th>8</th>\n      <th>...</th>\n      <th>191</th>\n      <th>192</th>\n      <th>193</th>\n      <th>194</th>\n      <th>195</th>\n      <th>196</th>\n      <th>197</th>\n      <th>198</th>\n      <th>199</th>\n      <th>200</th>\n    </tr>\n  </thead>\n  <tbody>\n    <tr>\n      <th>0</th>\n      <td>has_bill_shape</td>\n      <td>4.507321</td>\n      <td>0.012048</td>\n      <td>0.012048</td>\n      <td>0.000000</td>\n      <td>0.018072</td>\n      <td>0.012048</td>\n      <td>0.018072</td>\n      <td>0.000000</td>\n      <td>0.018072</td>\n      <td>...</td>\n      <td>0.000000</td>\n      <td>0.006024</td>\n      <td>0.000000</td>\n      <td>0.006024</td>\n      <td>0.006024</td>\n      <td>0.000000</td>\n      <td>0.000000</td>\n      <td>0.000000</td>\n      <td>0.000000</td>\n      <td>0.006024</td>\n    </tr>\n    <tr>\n      <th>1</th>\n      <td>has_bill_shape</td>\n      <td>3.659936</td>\n      <td>0.000000</td>\n      <td>0.007143</td>\n      <td>0.000000</td>\n      <td>0.000000</td>\n      <td>0.000000</td>\n      <td>0.000000</td>\n      <td>0.000000</td>\n      <td>0.000000</td>\n      <td>...</td>\n      <td>0.000000</td>\n      <td>0.000000</td>\n      <td>0.057143</td>\n      <td>0.078571</td>\n      <td>0.078571</td>\n      <td>0.007143</td>\n      <td>0.028571</td>\n      <td>0.021429</td>\n      <td>0.000000</td>\n      <td>0.000000</td>\n    </tr>\n    <tr>\n      <th>2</th>\n      <td>has_bill_shape</td>\n      <td>4.370537</td>\n      <td>0.001242</td>\n      <td>0.001242</td>\n      <td>0.002484</td>\n      <td>0.001242</td>\n      <td>0.000000</td>\n      <td>0.000000</td>\n      <td>0.000000</td>\n      <td>0.002484</td>\n      <td>...</td>\n      <td>0.024845</td>\n      <td>0.018634</td>\n      <td>0.004969</td>\n      <td>0.012422</td>\n      <td>0.001242</td>\n      <td>0.004969</td>\n      <td>0.002484</td>\n      <td>0.018634</td>\n      <td>0.000000</td>\n      <td>0.002484</td>\n    </tr>\n    <tr>\n      <th>3</th>\n      <td>has_bill_shape</td>\n      <td>3.513724</td>\n      <td>0.010753</td>\n      <td>0.032258</td>\n      <td>0.010753</td>\n      <td>0.021505</td>\n      <td>0.000000</td>\n      <td>0.000000</td>\n      <td>0.010753</td>\n      <td>0.032258</td>\n      <td>...</td>\n      <td>0.000000</td>\n      <td>0.000000</td>\n      <td>0.000000</td>\n      <td>0.000000</td>\n      <td>0.000000</td>\n      <td>0.000000</td>\n      <td>0.000000</td>\n      <td>0.000000</td>\n      <td>0.000000</td>\n      <td>0.000000</td>\n    </tr>\n    <tr>\n      <th>4</th>\n      <td>has_bill_shape</td>\n      <td>2.651041</td>\n      <td>0.000000</td>\n      <td>0.000000</td>\n      <td>0.000000</td>\n      <td>0.000000</td>\n      <td>0.000000</td>\n      <td>0.000000</td>\n      <td>0.000000</td>\n      <td>0.000000</td>\n      <td>...</td>\n      <td>0.000000</td>\n      <td>0.000000</td>\n      <td>0.007143</td>\n      <td>0.007143</td>\n      <td>0.000000</td>\n      <td>0.000000</td>\n      <td>0.007143</td>\n      <td>0.000000</td>\n      <td>0.007143</td>\n      <td>0.000000</td>\n    </tr>\n    <tr>\n      <th>...</th>\n      <td>...</td>\n      <td>...</td>\n      <td>...</td>\n      <td>...</td>\n      <td>...</td>\n      <td>...</td>\n      <td>...</td>\n      <td>...</td>\n      <td>...</td>\n      <td>...</td>\n      <td>...</td>\n      <td>...</td>\n      <td>...</td>\n      <td>...</td>\n      <td>...</td>\n      <td>...</td>\n      <td>...</td>\n      <td>...</td>\n      <td>...</td>\n      <td>...</td>\n      <td>...</td>\n    </tr>\n    <tr>\n      <th>0</th>\n      <td>has_wing_pattern</td>\n      <td>4.991896</td>\n      <td>0.012232</td>\n      <td>0.015291</td>\n      <td>0.009174</td>\n      <td>0.007645</td>\n      <td>0.012232</td>\n      <td>0.012232</td>\n      <td>0.010703</td>\n      <td>0.018349</td>\n      <td>...</td>\n      <td>0.000000</td>\n      <td>0.000000</td>\n      <td>0.000000</td>\n      <td>0.001529</td>\n      <td>0.000000</td>\n      <td>0.001529</td>\n      <td>0.001529</td>\n      <td>0.000000</td>\n      <td>0.000000</td>\n      <td>0.004587</td>\n    </tr>\n    <tr>\n      <th>1</th>\n      <td>has_wing_pattern</td>\n      <td>4.931033</td>\n      <td>0.006459</td>\n      <td>0.009395</td>\n      <td>0.010570</td>\n      <td>0.012331</td>\n      <td>0.012331</td>\n      <td>0.001762</td>\n      <td>0.008221</td>\n      <td>0.007046</td>\n      <td>...</td>\n      <td>0.001174</td>\n      <td>0.000000</td>\n      <td>0.011744</td>\n      <td>0.000000</td>\n      <td>0.005872</td>\n      <td>0.001762</td>\n      <td>0.001174</td>\n      <td>0.001762</td>\n      <td>0.002349</td>\n      <td>0.010570</td>\n    </tr>\n    <tr>\n      <th>2</th>\n      <td>has_wing_pattern</td>\n      <td>4.259692</td>\n      <td>0.000000</td>\n      <td>0.002174</td>\n      <td>0.000000</td>\n      <td>0.002174</td>\n      <td>0.000000</td>\n      <td>0.004348</td>\n      <td>0.000000</td>\n      <td>0.000000</td>\n      <td>...</td>\n      <td>0.000000</td>\n      <td>0.047826</td>\n      <td>0.002174</td>\n      <td>0.047826</td>\n      <td>0.008696</td>\n      <td>0.015217</td>\n      <td>0.015217</td>\n      <td>0.034783</td>\n      <td>0.015217</td>\n      <td>0.000000</td>\n    </tr>\n    <tr>\n      <th>3</th>\n      <td>has_wing_pattern</td>\n      <td>4.985982</td>\n      <td>0.004781</td>\n      <td>0.002049</td>\n      <td>0.000000</td>\n      <td>0.000683</td>\n      <td>0.000000</td>\n      <td>0.008880</td>\n      <td>0.003415</td>\n      <td>0.002732</td>\n      <td>...</td>\n      <td>0.000683</td>\n      <td>0.004098</td>\n      <td>0.005464</td>\n      <td>0.002732</td>\n      <td>0.009563</td>\n      <td>0.010929</td>\n      <td>0.007514</td>\n      <td>0.005464</td>\n      <td>0.008880</td>\n      <td>0.002049</td>\n    </tr>\n    <tr>\n      <th>4</th>\n      <td>has_wing_pattern</td>\n      <td>5.073872</td>\n      <td>0.002335</td>\n      <td>0.000000</td>\n      <td>0.003503</td>\n      <td>0.001168</td>\n      <td>0.000584</td>\n      <td>0.002335</td>\n      <td>0.002335</td>\n      <td>0.001168</td>\n      <td>...</td>\n      <td>0.015762</td>\n      <td>0.001168</td>\n      <td>0.000584</td>\n      <td>0.001751</td>\n      <td>0.001168</td>\n      <td>0.001168</td>\n      <td>0.005254</td>\n      <td>0.001751</td>\n      <td>0.003503</td>\n      <td>0.003503</td>\n    </tr>\n  </tbody>\n</table>\n<p>337 rows × 202 columns</p>\n</div>"
     },
     "execution_count": 5,
     "metadata": {},
     "output_type": "execute_result"
    }
   ],
   "source": [
    "probabilities"
   ],
   "metadata": {
    "collapsed": false,
    "ExecuteTime": {
     "end_time": "2025-03-07T12:29:24.136213800Z",
     "start_time": "2025-03-07T12:29:24.094219200Z"
    }
   },
   "id": "44dccd66b1653d"
  },
  {
   "cell_type": "code",
   "execution_count": 6,
   "outputs": [],
   "source": [
    "test_dict = pd.DataFrame()\n",
    "testset    = CaltechBirdsDataset(train=False)\n",
    "birdloader = torch.utils.data.DataLoader(testset, batch_size=32, shuffle=True)\n",
    "for data, images in birdloader:\n",
    "    data_pd = pd.DataFrame(data)\n",
    "    test_dict = pd.concat((test_dict, data_pd))"
   ],
   "metadata": {
    "collapsed": false,
    "ExecuteTime": {
     "end_time": "2025-03-07T12:30:06.116145300Z",
     "start_time": "2025-03-07T12:29:28.839856700Z"
    }
   },
   "id": "75f2102d28e91e8d"
  },
  {
   "cell_type": "code",
   "execution_count": 7,
   "outputs": [
    {
     "data": {
      "text/plain": "    trainset                                          file_name  class_id  \\\n0          0     061.Heermann_Gull/Heermann_Gull_0118_45626.jpg        61   \n1          0  156.White_eyed_Vireo/White_Eyed_Vireo_0051_159...       156   \n2          0  115.Brewer_Sparrow/Brewer_Sparrow_0005_107443.jpg       115   \n3          0  057.Rose_breasted_Grosbeak/Rose_Breasted_Grosb...        57   \n4          0  089.Hooded_Merganser/Hooded_Merganser_0007_791...        89   \n..       ...                                                ...       ...   \n29         0  095.Baltimore_Oriole/Baltimore_Oriole_0056_883...        95   \n30         0  041.Scissor_tailed_Flycatcher/Scissor_Tailed_F...        41   \n31         0  069.Rufous_Hummingbird/Rufous_Hummingbird_0074...        69   \n0          0        144.Common_Tern/Common_Tern_0105_149841.jpg       144   \n1          0  116.Chipping_Sparrow/Chipping_Sparrow_0041_108...       116   \n\n    one_hot    x    y    w    h  has_bill_shape  has_wing_color  ...  \\\n0        60  151   69  271  202               6               6  ...   \n1       155   80   62  165  377               7               7  ...   \n2       114  164  108  154  325               8               2  ...   \n3        56   44   23  334  282               8              12  ...   \n4        88  139  102  256  126               7               2  ...   \n..      ...  ...  ...  ...  ...             ...             ...  ...   \n29       94   92   95  255  360               7               7  ...   \n30       40  205   50  154  320               8               0  ...   \n31       68    0   30  428  433               4               0  ...   \n0       143  136  113  237  104               1               0  ...   \n1       115    2   39  251  204               8              14  ...   \n\n    has_size  has_shape  has_back_pattern  has_tail_pattern  \\\n0          4          4                 3                 1   \n1          2         14                 1                 4   \n2          5         14                 4                 4   \n3          2         14                 1                 1   \n4          4          1                 1                 3   \n..       ...        ...               ...               ...   \n29         2         14                 0                 1   \n30         2         13                 0                 1   \n31         5          7                 0                 0   \n0          3         11                 4                 0   \n1          2         14                 3                 3   \n\n    has_belly_pattern  has_primary_color  has_leg_color  has_bill_color  \\\n0                   1                  6             12              12   \n1                   1                  6              6              12   \n2                   4                  2              2               2   \n3                   4                 12             12              15   \n4                   4                  2              2              12   \n..                ...                ...            ...             ...   \n29                  1                  7              6              15   \n30                  4                 11             12              12   \n31                  0                  2              0              12   \n0                   1                 13              0               2   \n1                   3                  6             14               6   \n\n    has_crown_color  has_wing_pattern  \n0                13                 3  \n1                 6                 4  \n2                 2                 4  \n3                12                 4  \n4                12                 3  \n..              ...               ...  \n29               12                 4  \n30               13                 0  \n31                0                 0  \n0                12                 0  \n1                12                 2  \n\n[5794 rows x 36 columns]",
      "text/html": "<div>\n<style scoped>\n    .dataframe tbody tr th:only-of-type {\n        vertical-align: middle;\n    }\n\n    .dataframe tbody tr th {\n        vertical-align: top;\n    }\n\n    .dataframe thead th {\n        text-align: right;\n    }\n</style>\n<table border=\"1\" class=\"dataframe\">\n  <thead>\n    <tr style=\"text-align: right;\">\n      <th></th>\n      <th>trainset</th>\n      <th>file_name</th>\n      <th>class_id</th>\n      <th>one_hot</th>\n      <th>x</th>\n      <th>y</th>\n      <th>w</th>\n      <th>h</th>\n      <th>has_bill_shape</th>\n      <th>has_wing_color</th>\n      <th>...</th>\n      <th>has_size</th>\n      <th>has_shape</th>\n      <th>has_back_pattern</th>\n      <th>has_tail_pattern</th>\n      <th>has_belly_pattern</th>\n      <th>has_primary_color</th>\n      <th>has_leg_color</th>\n      <th>has_bill_color</th>\n      <th>has_crown_color</th>\n      <th>has_wing_pattern</th>\n    </tr>\n  </thead>\n  <tbody>\n    <tr>\n      <th>0</th>\n      <td>0</td>\n      <td>061.Heermann_Gull/Heermann_Gull_0118_45626.jpg</td>\n      <td>61</td>\n      <td>60</td>\n      <td>151</td>\n      <td>69</td>\n      <td>271</td>\n      <td>202</td>\n      <td>6</td>\n      <td>6</td>\n      <td>...</td>\n      <td>4</td>\n      <td>4</td>\n      <td>3</td>\n      <td>1</td>\n      <td>1</td>\n      <td>6</td>\n      <td>12</td>\n      <td>12</td>\n      <td>13</td>\n      <td>3</td>\n    </tr>\n    <tr>\n      <th>1</th>\n      <td>0</td>\n      <td>156.White_eyed_Vireo/White_Eyed_Vireo_0051_159...</td>\n      <td>156</td>\n      <td>155</td>\n      <td>80</td>\n      <td>62</td>\n      <td>165</td>\n      <td>377</td>\n      <td>7</td>\n      <td>7</td>\n      <td>...</td>\n      <td>2</td>\n      <td>14</td>\n      <td>1</td>\n      <td>4</td>\n      <td>1</td>\n      <td>6</td>\n      <td>6</td>\n      <td>12</td>\n      <td>6</td>\n      <td>4</td>\n    </tr>\n    <tr>\n      <th>2</th>\n      <td>0</td>\n      <td>115.Brewer_Sparrow/Brewer_Sparrow_0005_107443.jpg</td>\n      <td>115</td>\n      <td>114</td>\n      <td>164</td>\n      <td>108</td>\n      <td>154</td>\n      <td>325</td>\n      <td>8</td>\n      <td>2</td>\n      <td>...</td>\n      <td>5</td>\n      <td>14</td>\n      <td>4</td>\n      <td>4</td>\n      <td>4</td>\n      <td>2</td>\n      <td>2</td>\n      <td>2</td>\n      <td>2</td>\n      <td>4</td>\n    </tr>\n    <tr>\n      <th>3</th>\n      <td>0</td>\n      <td>057.Rose_breasted_Grosbeak/Rose_Breasted_Grosb...</td>\n      <td>57</td>\n      <td>56</td>\n      <td>44</td>\n      <td>23</td>\n      <td>334</td>\n      <td>282</td>\n      <td>8</td>\n      <td>12</td>\n      <td>...</td>\n      <td>2</td>\n      <td>14</td>\n      <td>1</td>\n      <td>1</td>\n      <td>4</td>\n      <td>12</td>\n      <td>12</td>\n      <td>15</td>\n      <td>12</td>\n      <td>4</td>\n    </tr>\n    <tr>\n      <th>4</th>\n      <td>0</td>\n      <td>089.Hooded_Merganser/Hooded_Merganser_0007_791...</td>\n      <td>89</td>\n      <td>88</td>\n      <td>139</td>\n      <td>102</td>\n      <td>256</td>\n      <td>126</td>\n      <td>7</td>\n      <td>2</td>\n      <td>...</td>\n      <td>4</td>\n      <td>1</td>\n      <td>1</td>\n      <td>3</td>\n      <td>4</td>\n      <td>2</td>\n      <td>2</td>\n      <td>12</td>\n      <td>12</td>\n      <td>3</td>\n    </tr>\n    <tr>\n      <th>...</th>\n      <td>...</td>\n      <td>...</td>\n      <td>...</td>\n      <td>...</td>\n      <td>...</td>\n      <td>...</td>\n      <td>...</td>\n      <td>...</td>\n      <td>...</td>\n      <td>...</td>\n      <td>...</td>\n      <td>...</td>\n      <td>...</td>\n      <td>...</td>\n      <td>...</td>\n      <td>...</td>\n      <td>...</td>\n      <td>...</td>\n      <td>...</td>\n      <td>...</td>\n      <td>...</td>\n    </tr>\n    <tr>\n      <th>29</th>\n      <td>0</td>\n      <td>095.Baltimore_Oriole/Baltimore_Oriole_0056_883...</td>\n      <td>95</td>\n      <td>94</td>\n      <td>92</td>\n      <td>95</td>\n      <td>255</td>\n      <td>360</td>\n      <td>7</td>\n      <td>7</td>\n      <td>...</td>\n      <td>2</td>\n      <td>14</td>\n      <td>0</td>\n      <td>1</td>\n      <td>1</td>\n      <td>7</td>\n      <td>6</td>\n      <td>15</td>\n      <td>12</td>\n      <td>4</td>\n    </tr>\n    <tr>\n      <th>30</th>\n      <td>0</td>\n      <td>041.Scissor_tailed_Flycatcher/Scissor_Tailed_F...</td>\n      <td>41</td>\n      <td>40</td>\n      <td>205</td>\n      <td>50</td>\n      <td>154</td>\n      <td>320</td>\n      <td>8</td>\n      <td>0</td>\n      <td>...</td>\n      <td>2</td>\n      <td>13</td>\n      <td>0</td>\n      <td>1</td>\n      <td>4</td>\n      <td>11</td>\n      <td>12</td>\n      <td>12</td>\n      <td>13</td>\n      <td>0</td>\n    </tr>\n    <tr>\n      <th>31</th>\n      <td>0</td>\n      <td>069.Rufous_Hummingbird/Rufous_Hummingbird_0074...</td>\n      <td>69</td>\n      <td>68</td>\n      <td>0</td>\n      <td>30</td>\n      <td>428</td>\n      <td>433</td>\n      <td>4</td>\n      <td>0</td>\n      <td>...</td>\n      <td>5</td>\n      <td>7</td>\n      <td>0</td>\n      <td>0</td>\n      <td>0</td>\n      <td>2</td>\n      <td>0</td>\n      <td>12</td>\n      <td>0</td>\n      <td>0</td>\n    </tr>\n    <tr>\n      <th>0</th>\n      <td>0</td>\n      <td>144.Common_Tern/Common_Tern_0105_149841.jpg</td>\n      <td>144</td>\n      <td>143</td>\n      <td>136</td>\n      <td>113</td>\n      <td>237</td>\n      <td>104</td>\n      <td>1</td>\n      <td>0</td>\n      <td>...</td>\n      <td>3</td>\n      <td>11</td>\n      <td>4</td>\n      <td>0</td>\n      <td>1</td>\n      <td>13</td>\n      <td>0</td>\n      <td>2</td>\n      <td>12</td>\n      <td>0</td>\n    </tr>\n    <tr>\n      <th>1</th>\n      <td>0</td>\n      <td>116.Chipping_Sparrow/Chipping_Sparrow_0041_108...</td>\n      <td>116</td>\n      <td>115</td>\n      <td>2</td>\n      <td>39</td>\n      <td>251</td>\n      <td>204</td>\n      <td>8</td>\n      <td>14</td>\n      <td>...</td>\n      <td>2</td>\n      <td>14</td>\n      <td>3</td>\n      <td>3</td>\n      <td>3</td>\n      <td>6</td>\n      <td>14</td>\n      <td>6</td>\n      <td>12</td>\n      <td>2</td>\n    </tr>\n  </tbody>\n</table>\n<p>5794 rows × 36 columns</p>\n</div>"
     },
     "execution_count": 7,
     "metadata": {},
     "output_type": "execute_result"
    }
   ],
   "source": [
    "test_dict"
   ],
   "metadata": {
    "collapsed": false,
    "ExecuteTime": {
     "end_time": "2025-03-07T12:30:07.424408600Z",
     "start_time": "2025-03-07T12:30:07.399918400Z"
    }
   },
   "id": "33e99a73d96d29db"
  },
  {
   "cell_type": "code",
   "execution_count": 47,
   "outputs": [],
   "source": [
    "concept_list = ['has_eye_color', 'has_bill_length','has_belly_pattern', 'has_breast_pattern']#,   'has_bill_shape', 'has_breast_pattern', 'has_crown_color', \n",
    "               # 'has_forehead_color', 'has_shape', 'has_size', 'has_throat_color']\n",
    "breaker = 2\n",
    "count, correct, ones = 0, 0, 0\n",
    "for index, record in test_dict.iterrows():\n",
    "    class_concept_probabilities = pd.DataFrame()\n",
    "    for concept_name in dataset.concept_names:\n",
    "        concept_value = record[concept_name]\n",
    "        tests = (probabilities['concept_name']==concept_name,   probabilities.index==concept_value)\n",
    "        class_concept_probabilities = pd.concat((class_concept_probabilities, probabilities[tests[0] & tests[1]]))      \n",
    "    class_probabilities = class_concept_probabilities[[class_id for class_id in range(1,201)]].prod(axis=0, numeric_only=True)\n",
    "    count += 1\n",
    "    correct += (record['class_id'] == class_probabilities.idxmax())\n",
    "    ones    += (1                  == class_probabilities.idxmax())\n",
    "    if breaker == count: break\n",
    "    "
   ],
   "metadata": {
    "collapsed": false,
    "ExecuteTime": {
     "end_time": "2025-03-07T12:53:48.423827400Z",
     "start_time": "2025-03-07T12:53:48.348863100Z"
    }
   },
   "id": "dbd3903ac05ddeb0"
  },
  {
   "cell_type": "code",
   "execution_count": 48,
   "outputs": [
    {
     "data": {
      "text/plain": "trainset                                                                0\nfile_name               156.White_eyed_Vireo/White_Eyed_Vireo_0051_159...\nclass_id                                                              156\none_hot                                                               155\nx                                                                      80\ny                                                                      62\nw                                                                     165\nh                                                                     377\nhas_bill_shape                                                          7\nhas_wing_color                                                          7\nhas_upperparts_color                                                    6\nhas_underparts_color                                                    7\nhas_breast_pattern                                                      1\nhas_back_color                                                          6\nhas_tail_shape                                                          3\nhas_upper_tail_color                                                    6\nhas_head_pattern                                                        7\nhas_breast_color                                                        7\nhas_throat_color                                                       15\nhas_eye_color                                                          11\nhas_bill_length                                                         3\nhas_forehead_color                                                      6\nhas_under_tail_color                                                    6\nhas_nape_color                                                          6\nhas_belly_color                                                         7\nhas_wing_shape                                                          1\nhas_size                                                                2\nhas_shape                                                              14\nhas_back_pattern                                                        1\nhas_tail_pattern                                                        4\nhas_belly_pattern                                                       1\nhas_primary_color                                                       6\nhas_leg_color                                                           6\nhas_bill_color                                                         12\nhas_crown_color                                                         6\nhas_wing_pattern                                                        4\nName: 1, dtype: object"
     },
     "execution_count": 48,
     "metadata": {},
     "output_type": "execute_result"
    }
   ],
   "source": [
    "record"
   ],
   "metadata": {
    "collapsed": false,
    "ExecuteTime": {
     "end_time": "2025-03-07T12:53:50.836186700Z",
     "start_time": "2025-03-07T12:53:50.821077600Z"
    }
   },
   "id": "dc0cf3e70a7742ab"
  },
  {
   "cell_type": "code",
   "execution_count": 57,
   "outputs": [
    {
     "data": {
      "text/plain": "class_id          concept_name   entropy         1         2         3  \\\n7               has_bill_shape  4.987529  0.000000  0.000000  0.000877   \n7               has_wing_color  3.639993  0.000000  0.000000  0.000000   \n6         has_upperparts_color  4.952761  0.003613  0.002168  0.007948   \n7         has_underparts_color  3.870645  0.000000  0.000000  0.000000   \n1           has_breast_pattern  5.147261  0.004835  0.006649  0.006044   \n6               has_back_color  4.926713  0.004125  0.000825  0.008251   \n3               has_tail_shape  5.162101  0.003348  0.001116  0.001116   \n6         has_upper_tail_color  4.932287  0.004141  0.002070  0.012422   \n7             has_head_pattern  4.963520  0.002404  0.000000  0.008413   \n7             has_breast_color  3.825369  0.000000  0.000000  0.000000   \n15            has_throat_color  4.439594  0.014493  0.000000  0.002415   \n11               has_eye_color  5.264201  0.004170  0.004379  0.004796   \n3              has_bill_length  5.049676  0.001203  0.000301  0.000602   \n6           has_forehead_color  4.833539  0.009276  0.000000  0.001855   \n6         has_under_tail_color  4.988320  0.005676  0.000946  0.007569   \n6               has_nape_color  4.879144  0.006415  0.000000  0.008821   \n7              has_belly_color  3.861219  0.000000  0.000000  0.000000   \n1               has_wing_shape  5.204165  0.002439  0.000610  0.000610   \n2                     has_size  5.165627  0.001628  0.000326  0.001953   \n14                   has_shape  5.036865  0.000687  0.000344  0.000000   \n1             has_back_pattern  5.080032  0.005484  0.005484  0.006856   \n4             has_tail_pattern  5.103873  0.003762  0.004515  0.002257   \n1            has_belly_pattern  5.168236  0.004653  0.005234  0.004362   \n6            has_primary_color  4.951905  0.005483  0.003427  0.008910   \n6                has_leg_color  4.960637  0.001356  0.001356  0.003390   \n12              has_bill_color  5.006222  0.001944  0.000000  0.009718   \n6              has_crown_color  4.875148  0.008749  0.000000  0.006999   \n4             has_wing_pattern  5.073872  0.002335  0.000000  0.003503   \n\nclass_id         4         5         6         7         8  ...       191  \\\n7         0.000438  0.000000  0.000877  0.000000  0.003507  ...  0.003946   \n7         0.000000  0.000000  0.000000  0.000000  0.000000  ...  0.000000   \n6         0.000000  0.003613  0.008671  0.006503  0.004335  ...  0.000723   \n7         0.000000  0.000000  0.000000  0.000000  0.000000  ...  0.000000   \n1         0.006649  0.008160  0.001209  0.002418  0.004835  ...  0.006346   \n6         0.000000  0.004125  0.005776  0.004125  0.004125  ...  0.000000   \n3         0.002790  0.001674  0.005022  0.001674  0.001674  ...  0.004464   \n6         0.001035  0.004141  0.004141  0.005176  0.004141  ...  0.000000   \n7         0.001202  0.000000  0.008413  0.002404  0.008413  ...  0.004808   \n7         0.000000  0.000000  0.000000  0.000000  0.000000  ...  0.000000   \n15        0.000000  0.000000  0.000000  0.000000  0.002415  ...  0.000000   \n11        0.005630  0.001460  0.001877  0.001877  0.002711  ...  0.005421   \n3         0.006015  0.008120  0.008421  0.008421  0.005113  ...  0.001203   \n6         0.001855  0.004638  0.012987  0.005566  0.008349  ...  0.000000   \n6         0.000000  0.004730  0.005676  0.001892  0.003784  ...  0.000000   \n6         0.000802  0.004812  0.005613  0.004812  0.004812  ...  0.000802   \n7         0.000000  0.000000  0.000000  0.000000  0.000000  ...  0.000000   \n1         0.003049  0.001220  0.003049  0.001829  0.004878  ...  0.003659   \n2         0.006185  0.001953  0.004232  0.003906  0.002930  ...  0.005208   \n14        0.003779  0.000344  0.002061  0.000344  0.000344  ...  0.001374   \n1         0.009141  0.010512  0.003199  0.009141  0.007770  ...  0.007770   \n4         0.000000  0.000752  0.004515  0.002257  0.001505  ...  0.008277   \n1         0.006979  0.006979  0.000291  0.005525  0.002908  ...  0.008433   \n6         0.000000  0.008225  0.006854  0.005483  0.005483  ...  0.000685   \n6         0.002712  0.008136  0.010169  0.008136  0.000678  ...  0.014915   \n12        0.008746  0.000972  0.003401  0.000000  0.001458  ...  0.005345   \n6         0.000000  0.004374  0.008749  0.005249  0.006124  ...  0.000000   \n4         0.001168  0.000584  0.002335  0.002335  0.001168  ...  0.015762   \n\nclass_id       192       193       194       195       196       197  \\\n7         0.006138  0.007453  0.003069  0.007453  0.009645  0.008768   \n7         0.000000  0.000000  0.000000  0.000000  0.000000  0.000000   \n6         0.000723  0.000723  0.004335  0.000000  0.000723  0.001445   \n7         0.000000  0.000000  0.000000  0.000000  0.000000  0.000000   \n1         0.007555  0.008160  0.000604  0.007555  0.006649  0.006346   \n6         0.000825  0.000825  0.002475  0.000000  0.002475  0.001650   \n3         0.003348  0.004464  0.006138  0.003906  0.004464  0.005580   \n6         0.000000  0.000000  0.003106  0.000000  0.002070  0.001035   \n7         0.002404  0.001202  0.000000  0.001202  0.010817  0.008413   \n7         0.000000  0.000000  0.000000  0.000000  0.000000  0.000000   \n15        0.004831  0.007246  0.004831  0.014493  0.021739  0.016908   \n11        0.006047  0.006047  0.004379  0.005630  0.005213  0.005838   \n3         0.005714  0.003308  0.002105  0.004511  0.003910  0.004812   \n6         0.000000  0.000000  0.002783  0.000928  0.003711  0.000928   \n6         0.000000  0.002838  0.002838  0.000000  0.000946  0.000946   \n6         0.000802  0.001604  0.003208  0.000000  0.003208  0.000802   \n7         0.000000  0.000000  0.001361  0.000000  0.000000  0.000000   \n1         0.003659  0.004878  0.004268  0.007927  0.004268  0.010976   \n2         0.008464  0.005534  0.007161  0.005208  0.004557  0.005534   \n14        0.003435  0.009275  0.007214  0.009275  0.007901  0.008588   \n1         0.001371  0.011426  0.000000  0.009141  0.005941  0.001828   \n4         0.009029  0.000752  0.002257  0.000000  0.001505  0.002257   \n1         0.007560  0.007851  0.000291  0.007560  0.006397  0.005816   \n6         0.002056  0.001371  0.002056  0.000000  0.002056  0.001371   \n6         0.011525  0.006780  0.005424  0.002034  0.004068  0.006102   \n12        0.010690  0.006317  0.004859  0.004373  0.001458  0.003401   \n6         0.000000  0.000000  0.003500  0.000875  0.003500  0.001750   \n4         0.001168  0.000584  0.001751  0.001168  0.001168  0.005254   \n\nclass_id       198       199       200  \n7         0.005261  0.012275  0.010083  \n7         0.000000  0.000000  0.014815  \n6         0.005780  0.000723  0.005780  \n7         0.000000  0.000000  0.030914  \n1         0.004835  0.003324  0.007555  \n6         0.005776  0.000825  0.007426  \n3         0.004464  0.003906  0.005022  \n6         0.008282  0.000000  0.006211  \n7         0.003606  0.002404  0.003606  \n7         0.000000  0.000000  0.039764  \n15        0.004831  0.021739  0.000000  \n11        0.005838  0.006255  0.005838  \n3         0.000902  0.006316  0.008120  \n6         0.008349  0.001855  0.000928  \n6         0.006623  0.000000  0.005676  \n6         0.010425  0.000802  0.007217  \n7         0.000000  0.000000  0.023129  \n1         0.004878  0.008537  0.004878  \n2         0.003581  0.003581  0.005208  \n14        0.008588  0.008245  0.008932  \n1         0.001371  0.004113  0.008227  \n4         0.003010  0.002257  0.005267  \n1         0.005234  0.002617  0.006397  \n6         0.006169  0.000685  0.004798  \n6         0.007458  0.000678  0.000000  \n12        0.003401  0.002915  0.006803  \n6         0.008749  0.001750  0.006124  \n4         0.001751  0.003503  0.003503  \n\n[28 rows x 202 columns]",
      "text/html": "<div>\n<style scoped>\n    .dataframe tbody tr th:only-of-type {\n        vertical-align: middle;\n    }\n\n    .dataframe tbody tr th {\n        vertical-align: top;\n    }\n\n    .dataframe thead th {\n        text-align: right;\n    }\n</style>\n<table border=\"1\" class=\"dataframe\">\n  <thead>\n    <tr style=\"text-align: right;\">\n      <th>class_id</th>\n      <th>concept_name</th>\n      <th>entropy</th>\n      <th>1</th>\n      <th>2</th>\n      <th>3</th>\n      <th>4</th>\n      <th>5</th>\n      <th>6</th>\n      <th>7</th>\n      <th>8</th>\n      <th>...</th>\n      <th>191</th>\n      <th>192</th>\n      <th>193</th>\n      <th>194</th>\n      <th>195</th>\n      <th>196</th>\n      <th>197</th>\n      <th>198</th>\n      <th>199</th>\n      <th>200</th>\n    </tr>\n  </thead>\n  <tbody>\n    <tr>\n      <th>7</th>\n      <td>has_bill_shape</td>\n      <td>4.987529</td>\n      <td>0.000000</td>\n      <td>0.000000</td>\n      <td>0.000877</td>\n      <td>0.000438</td>\n      <td>0.000000</td>\n      <td>0.000877</td>\n      <td>0.000000</td>\n      <td>0.003507</td>\n      <td>...</td>\n      <td>0.003946</td>\n      <td>0.006138</td>\n      <td>0.007453</td>\n      <td>0.003069</td>\n      <td>0.007453</td>\n      <td>0.009645</td>\n      <td>0.008768</td>\n      <td>0.005261</td>\n      <td>0.012275</td>\n      <td>0.010083</td>\n    </tr>\n    <tr>\n      <th>7</th>\n      <td>has_wing_color</td>\n      <td>3.639993</td>\n      <td>0.000000</td>\n      <td>0.000000</td>\n      <td>0.000000</td>\n      <td>0.000000</td>\n      <td>0.000000</td>\n      <td>0.000000</td>\n      <td>0.000000</td>\n      <td>0.000000</td>\n      <td>...</td>\n      <td>0.000000</td>\n      <td>0.000000</td>\n      <td>0.000000</td>\n      <td>0.000000</td>\n      <td>0.000000</td>\n      <td>0.000000</td>\n      <td>0.000000</td>\n      <td>0.000000</td>\n      <td>0.000000</td>\n      <td>0.014815</td>\n    </tr>\n    <tr>\n      <th>6</th>\n      <td>has_upperparts_color</td>\n      <td>4.952761</td>\n      <td>0.003613</td>\n      <td>0.002168</td>\n      <td>0.007948</td>\n      <td>0.000000</td>\n      <td>0.003613</td>\n      <td>0.008671</td>\n      <td>0.006503</td>\n      <td>0.004335</td>\n      <td>...</td>\n      <td>0.000723</td>\n      <td>0.000723</td>\n      <td>0.000723</td>\n      <td>0.004335</td>\n      <td>0.000000</td>\n      <td>0.000723</td>\n      <td>0.001445</td>\n      <td>0.005780</td>\n      <td>0.000723</td>\n      <td>0.005780</td>\n    </tr>\n    <tr>\n      <th>7</th>\n      <td>has_underparts_color</td>\n      <td>3.870645</td>\n      <td>0.000000</td>\n      <td>0.000000</td>\n      <td>0.000000</td>\n      <td>0.000000</td>\n      <td>0.000000</td>\n      <td>0.000000</td>\n      <td>0.000000</td>\n      <td>0.000000</td>\n      <td>...</td>\n      <td>0.000000</td>\n      <td>0.000000</td>\n      <td>0.000000</td>\n      <td>0.000000</td>\n      <td>0.000000</td>\n      <td>0.000000</td>\n      <td>0.000000</td>\n      <td>0.000000</td>\n      <td>0.000000</td>\n      <td>0.030914</td>\n    </tr>\n    <tr>\n      <th>1</th>\n      <td>has_breast_pattern</td>\n      <td>5.147261</td>\n      <td>0.004835</td>\n      <td>0.006649</td>\n      <td>0.006044</td>\n      <td>0.006649</td>\n      <td>0.008160</td>\n      <td>0.001209</td>\n      <td>0.002418</td>\n      <td>0.004835</td>\n      <td>...</td>\n      <td>0.006346</td>\n      <td>0.007555</td>\n      <td>0.008160</td>\n      <td>0.000604</td>\n      <td>0.007555</td>\n      <td>0.006649</td>\n      <td>0.006346</td>\n      <td>0.004835</td>\n      <td>0.003324</td>\n      <td>0.007555</td>\n    </tr>\n    <tr>\n      <th>6</th>\n      <td>has_back_color</td>\n      <td>4.926713</td>\n      <td>0.004125</td>\n      <td>0.000825</td>\n      <td>0.008251</td>\n      <td>0.000000</td>\n      <td>0.004125</td>\n      <td>0.005776</td>\n      <td>0.004125</td>\n      <td>0.004125</td>\n      <td>...</td>\n      <td>0.000000</td>\n      <td>0.000825</td>\n      <td>0.000825</td>\n      <td>0.002475</td>\n      <td>0.000000</td>\n      <td>0.002475</td>\n      <td>0.001650</td>\n      <td>0.005776</td>\n      <td>0.000825</td>\n      <td>0.007426</td>\n    </tr>\n    <tr>\n      <th>3</th>\n      <td>has_tail_shape</td>\n      <td>5.162101</td>\n      <td>0.003348</td>\n      <td>0.001116</td>\n      <td>0.001116</td>\n      <td>0.002790</td>\n      <td>0.001674</td>\n      <td>0.005022</td>\n      <td>0.001674</td>\n      <td>0.001674</td>\n      <td>...</td>\n      <td>0.004464</td>\n      <td>0.003348</td>\n      <td>0.004464</td>\n      <td>0.006138</td>\n      <td>0.003906</td>\n      <td>0.004464</td>\n      <td>0.005580</td>\n      <td>0.004464</td>\n      <td>0.003906</td>\n      <td>0.005022</td>\n    </tr>\n    <tr>\n      <th>6</th>\n      <td>has_upper_tail_color</td>\n      <td>4.932287</td>\n      <td>0.004141</td>\n      <td>0.002070</td>\n      <td>0.012422</td>\n      <td>0.001035</td>\n      <td>0.004141</td>\n      <td>0.004141</td>\n      <td>0.005176</td>\n      <td>0.004141</td>\n      <td>...</td>\n      <td>0.000000</td>\n      <td>0.000000</td>\n      <td>0.000000</td>\n      <td>0.003106</td>\n      <td>0.000000</td>\n      <td>0.002070</td>\n      <td>0.001035</td>\n      <td>0.008282</td>\n      <td>0.000000</td>\n      <td>0.006211</td>\n    </tr>\n    <tr>\n      <th>7</th>\n      <td>has_head_pattern</td>\n      <td>4.963520</td>\n      <td>0.002404</td>\n      <td>0.000000</td>\n      <td>0.008413</td>\n      <td>0.001202</td>\n      <td>0.000000</td>\n      <td>0.008413</td>\n      <td>0.002404</td>\n      <td>0.008413</td>\n      <td>...</td>\n      <td>0.004808</td>\n      <td>0.002404</td>\n      <td>0.001202</td>\n      <td>0.000000</td>\n      <td>0.001202</td>\n      <td>0.010817</td>\n      <td>0.008413</td>\n      <td>0.003606</td>\n      <td>0.002404</td>\n      <td>0.003606</td>\n    </tr>\n    <tr>\n      <th>7</th>\n      <td>has_breast_color</td>\n      <td>3.825369</td>\n      <td>0.000000</td>\n      <td>0.000000</td>\n      <td>0.000000</td>\n      <td>0.000000</td>\n      <td>0.000000</td>\n      <td>0.000000</td>\n      <td>0.000000</td>\n      <td>0.000000</td>\n      <td>...</td>\n      <td>0.000000</td>\n      <td>0.000000</td>\n      <td>0.000000</td>\n      <td>0.000000</td>\n      <td>0.000000</td>\n      <td>0.000000</td>\n      <td>0.000000</td>\n      <td>0.000000</td>\n      <td>0.000000</td>\n      <td>0.039764</td>\n    </tr>\n    <tr>\n      <th>15</th>\n      <td>has_throat_color</td>\n      <td>4.439594</td>\n      <td>0.014493</td>\n      <td>0.000000</td>\n      <td>0.002415</td>\n      <td>0.000000</td>\n      <td>0.000000</td>\n      <td>0.000000</td>\n      <td>0.000000</td>\n      <td>0.002415</td>\n      <td>...</td>\n      <td>0.000000</td>\n      <td>0.004831</td>\n      <td>0.007246</td>\n      <td>0.004831</td>\n      <td>0.014493</td>\n      <td>0.021739</td>\n      <td>0.016908</td>\n      <td>0.004831</td>\n      <td>0.021739</td>\n      <td>0.000000</td>\n    </tr>\n    <tr>\n      <th>11</th>\n      <td>has_eye_color</td>\n      <td>5.264201</td>\n      <td>0.004170</td>\n      <td>0.004379</td>\n      <td>0.004796</td>\n      <td>0.005630</td>\n      <td>0.001460</td>\n      <td>0.001877</td>\n      <td>0.001877</td>\n      <td>0.002711</td>\n      <td>...</td>\n      <td>0.005421</td>\n      <td>0.006047</td>\n      <td>0.006047</td>\n      <td>0.004379</td>\n      <td>0.005630</td>\n      <td>0.005213</td>\n      <td>0.005838</td>\n      <td>0.005838</td>\n      <td>0.006255</td>\n      <td>0.005838</td>\n    </tr>\n    <tr>\n      <th>3</th>\n      <td>has_bill_length</td>\n      <td>5.049676</td>\n      <td>0.001203</td>\n      <td>0.000301</td>\n      <td>0.000602</td>\n      <td>0.006015</td>\n      <td>0.008120</td>\n      <td>0.008421</td>\n      <td>0.008421</td>\n      <td>0.005113</td>\n      <td>...</td>\n      <td>0.001203</td>\n      <td>0.005714</td>\n      <td>0.003308</td>\n      <td>0.002105</td>\n      <td>0.004511</td>\n      <td>0.003910</td>\n      <td>0.004812</td>\n      <td>0.000902</td>\n      <td>0.006316</td>\n      <td>0.008120</td>\n    </tr>\n    <tr>\n      <th>6</th>\n      <td>has_forehead_color</td>\n      <td>4.833539</td>\n      <td>0.009276</td>\n      <td>0.000000</td>\n      <td>0.001855</td>\n      <td>0.001855</td>\n      <td>0.004638</td>\n      <td>0.012987</td>\n      <td>0.005566</td>\n      <td>0.008349</td>\n      <td>...</td>\n      <td>0.000000</td>\n      <td>0.000000</td>\n      <td>0.000000</td>\n      <td>0.002783</td>\n      <td>0.000928</td>\n      <td>0.003711</td>\n      <td>0.000928</td>\n      <td>0.008349</td>\n      <td>0.001855</td>\n      <td>0.000928</td>\n    </tr>\n    <tr>\n      <th>6</th>\n      <td>has_under_tail_color</td>\n      <td>4.988320</td>\n      <td>0.005676</td>\n      <td>0.000946</td>\n      <td>0.007569</td>\n      <td>0.000000</td>\n      <td>0.004730</td>\n      <td>0.005676</td>\n      <td>0.001892</td>\n      <td>0.003784</td>\n      <td>...</td>\n      <td>0.000000</td>\n      <td>0.000000</td>\n      <td>0.002838</td>\n      <td>0.002838</td>\n      <td>0.000000</td>\n      <td>0.000946</td>\n      <td>0.000946</td>\n      <td>0.006623</td>\n      <td>0.000000</td>\n      <td>0.005676</td>\n    </tr>\n    <tr>\n      <th>6</th>\n      <td>has_nape_color</td>\n      <td>4.879144</td>\n      <td>0.006415</td>\n      <td>0.000000</td>\n      <td>0.008821</td>\n      <td>0.000802</td>\n      <td>0.004812</td>\n      <td>0.005613</td>\n      <td>0.004812</td>\n      <td>0.004812</td>\n      <td>...</td>\n      <td>0.000802</td>\n      <td>0.000802</td>\n      <td>0.001604</td>\n      <td>0.003208</td>\n      <td>0.000000</td>\n      <td>0.003208</td>\n      <td>0.000802</td>\n      <td>0.010425</td>\n      <td>0.000802</td>\n      <td>0.007217</td>\n    </tr>\n    <tr>\n      <th>7</th>\n      <td>has_belly_color</td>\n      <td>3.861219</td>\n      <td>0.000000</td>\n      <td>0.000000</td>\n      <td>0.000000</td>\n      <td>0.000000</td>\n      <td>0.000000</td>\n      <td>0.000000</td>\n      <td>0.000000</td>\n      <td>0.000000</td>\n      <td>...</td>\n      <td>0.000000</td>\n      <td>0.000000</td>\n      <td>0.000000</td>\n      <td>0.001361</td>\n      <td>0.000000</td>\n      <td>0.000000</td>\n      <td>0.000000</td>\n      <td>0.000000</td>\n      <td>0.000000</td>\n      <td>0.023129</td>\n    </tr>\n    <tr>\n      <th>1</th>\n      <td>has_wing_shape</td>\n      <td>5.204165</td>\n      <td>0.002439</td>\n      <td>0.000610</td>\n      <td>0.000610</td>\n      <td>0.003049</td>\n      <td>0.001220</td>\n      <td>0.003049</td>\n      <td>0.001829</td>\n      <td>0.004878</td>\n      <td>...</td>\n      <td>0.003659</td>\n      <td>0.003659</td>\n      <td>0.004878</td>\n      <td>0.004268</td>\n      <td>0.007927</td>\n      <td>0.004268</td>\n      <td>0.010976</td>\n      <td>0.004878</td>\n      <td>0.008537</td>\n      <td>0.004878</td>\n    </tr>\n    <tr>\n      <th>2</th>\n      <td>has_size</td>\n      <td>5.165627</td>\n      <td>0.001628</td>\n      <td>0.000326</td>\n      <td>0.001953</td>\n      <td>0.006185</td>\n      <td>0.001953</td>\n      <td>0.004232</td>\n      <td>0.003906</td>\n      <td>0.002930</td>\n      <td>...</td>\n      <td>0.005208</td>\n      <td>0.008464</td>\n      <td>0.005534</td>\n      <td>0.007161</td>\n      <td>0.005208</td>\n      <td>0.004557</td>\n      <td>0.005534</td>\n      <td>0.003581</td>\n      <td>0.003581</td>\n      <td>0.005208</td>\n    </tr>\n    <tr>\n      <th>14</th>\n      <td>has_shape</td>\n      <td>5.036865</td>\n      <td>0.000687</td>\n      <td>0.000344</td>\n      <td>0.000000</td>\n      <td>0.003779</td>\n      <td>0.000344</td>\n      <td>0.002061</td>\n      <td>0.000344</td>\n      <td>0.000344</td>\n      <td>...</td>\n      <td>0.001374</td>\n      <td>0.003435</td>\n      <td>0.009275</td>\n      <td>0.007214</td>\n      <td>0.009275</td>\n      <td>0.007901</td>\n      <td>0.008588</td>\n      <td>0.008588</td>\n      <td>0.008245</td>\n      <td>0.008932</td>\n    </tr>\n    <tr>\n      <th>1</th>\n      <td>has_back_pattern</td>\n      <td>5.080032</td>\n      <td>0.005484</td>\n      <td>0.005484</td>\n      <td>0.006856</td>\n      <td>0.009141</td>\n      <td>0.010512</td>\n      <td>0.003199</td>\n      <td>0.009141</td>\n      <td>0.007770</td>\n      <td>...</td>\n      <td>0.007770</td>\n      <td>0.001371</td>\n      <td>0.011426</td>\n      <td>0.000000</td>\n      <td>0.009141</td>\n      <td>0.005941</td>\n      <td>0.001828</td>\n      <td>0.001371</td>\n      <td>0.004113</td>\n      <td>0.008227</td>\n    </tr>\n    <tr>\n      <th>4</th>\n      <td>has_tail_pattern</td>\n      <td>5.103873</td>\n      <td>0.003762</td>\n      <td>0.004515</td>\n      <td>0.002257</td>\n      <td>0.000000</td>\n      <td>0.000752</td>\n      <td>0.004515</td>\n      <td>0.002257</td>\n      <td>0.001505</td>\n      <td>...</td>\n      <td>0.008277</td>\n      <td>0.009029</td>\n      <td>0.000752</td>\n      <td>0.002257</td>\n      <td>0.000000</td>\n      <td>0.001505</td>\n      <td>0.002257</td>\n      <td>0.003010</td>\n      <td>0.002257</td>\n      <td>0.005267</td>\n    </tr>\n    <tr>\n      <th>1</th>\n      <td>has_belly_pattern</td>\n      <td>5.168236</td>\n      <td>0.004653</td>\n      <td>0.005234</td>\n      <td>0.004362</td>\n      <td>0.006979</td>\n      <td>0.006979</td>\n      <td>0.000291</td>\n      <td>0.005525</td>\n      <td>0.002908</td>\n      <td>...</td>\n      <td>0.008433</td>\n      <td>0.007560</td>\n      <td>0.007851</td>\n      <td>0.000291</td>\n      <td>0.007560</td>\n      <td>0.006397</td>\n      <td>0.005816</td>\n      <td>0.005234</td>\n      <td>0.002617</td>\n      <td>0.006397</td>\n    </tr>\n    <tr>\n      <th>6</th>\n      <td>has_primary_color</td>\n      <td>4.951905</td>\n      <td>0.005483</td>\n      <td>0.003427</td>\n      <td>0.008910</td>\n      <td>0.000000</td>\n      <td>0.008225</td>\n      <td>0.006854</td>\n      <td>0.005483</td>\n      <td>0.005483</td>\n      <td>...</td>\n      <td>0.000685</td>\n      <td>0.002056</td>\n      <td>0.001371</td>\n      <td>0.002056</td>\n      <td>0.000000</td>\n      <td>0.002056</td>\n      <td>0.001371</td>\n      <td>0.006169</td>\n      <td>0.000685</td>\n      <td>0.004798</td>\n    </tr>\n    <tr>\n      <th>6</th>\n      <td>has_leg_color</td>\n      <td>4.960637</td>\n      <td>0.001356</td>\n      <td>0.001356</td>\n      <td>0.003390</td>\n      <td>0.002712</td>\n      <td>0.008136</td>\n      <td>0.010169</td>\n      <td>0.008136</td>\n      <td>0.000678</td>\n      <td>...</td>\n      <td>0.014915</td>\n      <td>0.011525</td>\n      <td>0.006780</td>\n      <td>0.005424</td>\n      <td>0.002034</td>\n      <td>0.004068</td>\n      <td>0.006102</td>\n      <td>0.007458</td>\n      <td>0.000678</td>\n      <td>0.000000</td>\n    </tr>\n    <tr>\n      <th>12</th>\n      <td>has_bill_color</td>\n      <td>5.006222</td>\n      <td>0.001944</td>\n      <td>0.000000</td>\n      <td>0.009718</td>\n      <td>0.008746</td>\n      <td>0.000972</td>\n      <td>0.003401</td>\n      <td>0.000000</td>\n      <td>0.001458</td>\n      <td>...</td>\n      <td>0.005345</td>\n      <td>0.010690</td>\n      <td>0.006317</td>\n      <td>0.004859</td>\n      <td>0.004373</td>\n      <td>0.001458</td>\n      <td>0.003401</td>\n      <td>0.003401</td>\n      <td>0.002915</td>\n      <td>0.006803</td>\n    </tr>\n    <tr>\n      <th>6</th>\n      <td>has_crown_color</td>\n      <td>4.875148</td>\n      <td>0.008749</td>\n      <td>0.000000</td>\n      <td>0.006999</td>\n      <td>0.000000</td>\n      <td>0.004374</td>\n      <td>0.008749</td>\n      <td>0.005249</td>\n      <td>0.006124</td>\n      <td>...</td>\n      <td>0.000000</td>\n      <td>0.000000</td>\n      <td>0.000000</td>\n      <td>0.003500</td>\n      <td>0.000875</td>\n      <td>0.003500</td>\n      <td>0.001750</td>\n      <td>0.008749</td>\n      <td>0.001750</td>\n      <td>0.006124</td>\n    </tr>\n    <tr>\n      <th>4</th>\n      <td>has_wing_pattern</td>\n      <td>5.073872</td>\n      <td>0.002335</td>\n      <td>0.000000</td>\n      <td>0.003503</td>\n      <td>0.001168</td>\n      <td>0.000584</td>\n      <td>0.002335</td>\n      <td>0.002335</td>\n      <td>0.001168</td>\n      <td>...</td>\n      <td>0.015762</td>\n      <td>0.001168</td>\n      <td>0.000584</td>\n      <td>0.001751</td>\n      <td>0.001168</td>\n      <td>0.001168</td>\n      <td>0.005254</td>\n      <td>0.001751</td>\n      <td>0.003503</td>\n      <td>0.003503</td>\n    </tr>\n  </tbody>\n</table>\n<p>28 rows × 202 columns</p>\n</div>"
     },
     "execution_count": 57,
     "metadata": {},
     "output_type": "execute_result"
    }
   ],
   "source": [
    "class_concept_probabilities"
   ],
   "metadata": {
    "collapsed": false,
    "ExecuteTime": {
     "end_time": "2025-03-07T14:32:53.627269300Z",
     "start_time": "2025-03-07T14:32:53.623075700Z"
    }
   },
   "id": "1a7a1dd46b49aea1"
  },
  {
   "cell_type": "code",
   "execution_count": 51,
   "outputs": [
    {
     "data": {
      "text/plain": "class_id\n1      0.0\n2      0.0\n3      0.0\n4      0.0\n5      0.0\n      ... \n196    0.0\n197    0.0\n198    0.0\n199    0.0\n200    0.0\nLength: 200, dtype: float64"
     },
     "execution_count": 51,
     "metadata": {},
     "output_type": "execute_result"
    }
   ],
   "source": [
    "round(class_probabilities / sum(class_probabilities),2)"
   ],
   "metadata": {
    "collapsed": false,
    "ExecuteTime": {
     "end_time": "2025-03-07T14:28:59.317275400Z",
     "start_time": "2025-03-07T14:28:59.288458700Z"
    }
   },
   "id": "8ae608a2f845e156"
  },
  {
   "cell_type": "code",
   "execution_count": 28,
   "outputs": [
    {
     "data": {
      "text/plain": "0.00017259233690024162"
     },
     "execution_count": 28,
     "metadata": {},
     "output_type": "execute_result"
    }
   ],
   "source": [
    "ones / count"
   ],
   "metadata": {
    "collapsed": false,
    "ExecuteTime": {
     "end_time": "2025-03-07T12:40:33.029686700Z",
     "start_time": "2025-03-07T12:40:32.987474700Z"
    }
   },
   "id": "b94ec0749890f655"
  },
  {
   "cell_type": "code",
   "execution_count": null,
   "outputs": [],
   "source": [],
   "metadata": {
    "collapsed": false
   },
   "id": "ce12e5d5437e7557"
  }
 ],
 "metadata": {
  "kernelspec": {
   "display_name": "Python 3",
   "language": "python",
   "name": "python3"
  },
  "language_info": {
   "codemirror_mode": {
    "name": "ipython",
    "version": 2
   },
   "file_extension": ".py",
   "mimetype": "text/x-python",
   "name": "python",
   "nbconvert_exporter": "python",
   "pygments_lexer": "ipython2",
   "version": "2.7.6"
  }
 },
 "nbformat": 4,
 "nbformat_minor": 5
}
