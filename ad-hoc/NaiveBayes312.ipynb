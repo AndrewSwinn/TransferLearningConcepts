{
 "cells": [
  {
   "cell_type": "code",
   "execution_count": 1,
   "id": "initial_id",
   "metadata": {
    "collapsed": true,
    "ExecuteTime": {
     "end_time": "2025-03-08T17:52:43.051104800Z",
     "start_time": "2025-03-08T17:52:42.685997600Z"
    }
   },
   "outputs": [],
   "source": [
    "import os\n",
    "import math\n",
    "import pandas as pd\n",
    "\n",
    "data_dir = 'D:\\\\data\\\\caltecBirds\\\\CUB_200_2011'"
   ]
  },
  {
   "cell_type": "code",
   "execution_count": 2,
   "outputs": [],
   "source": [
    "# Load class and attribute data from the supplied text files\n",
    "\n",
    "train_test_split = pd.read_csv(os.path.join(data_dir, 'train_test_split.txt'),   sep=\" \", index_col=[0], names=['image_id', 'trainset'])\n",
    "image_file_names = pd.read_csv(os.path.join(data_dir, 'images.txt'),             sep=\" \", index_col=[0], names=['image_id', 'file_name'])\n",
    "class_labels     = pd.read_csv(os.path.join(data_dir, 'image_class_labels.txt'), sep=\" \", index_col=[0], names=['image_id', 'class_id'])\n",
    "image_attribute_labels = pd.read_csv(os.path.join(data_dir, 'attributes', 'image_attribute_labels.txt'), sep=\" \", \n",
    "                                     names = ['image_id', 'attribute_id', 'present', 'certainty_id', 'time', 'd1', 'd2'])\n",
    "image_attribute_labels = image_attribute_labels.merge(train_test_split, on='image_id', how='left' )\n",
    "image_attribute_labels = image_attribute_labels.merge(class_labels, on='image_id', how='left' )\n",
    "\n",
    "expert_probabilities = pd.read_csv(os.path.join(data_dir, 'attributes', 'class_attribute_labels_continuous.txt'), sep=\" \",  names=[i for i in range(1, 313)]).transpose() / 100\n",
    "\n",
    "test_attribute_labels  = image_attribute_labels.loc[image_attribute_labels['trainset']==1].copy()\n",
    "test_attribute_probabilities = test_attribute_labels.pivot_table(index='attribute_id', columns='class_id')['present']\n",
    "\n"
   ],
   "metadata": {
    "collapsed": false,
    "ExecuteTime": {
     "end_time": "2025-03-08T17:52:44.350775600Z",
     "start_time": "2025-03-08T17:52:43.052105100Z"
    }
   },
   "id": "9acb0a5e288906ce"
  },
  {
   "cell_type": "code",
   "execution_count": 3,
   "outputs": [
    {
     "data": {
      "text/plain": "          0         1         2         3         4         5         6    \\\n1    0.000000  0.044118  0.000000  0.000000  0.000000  0.000000  0.000000   \n2    0.029197  0.044118  0.039735  0.014599  0.000000  0.000000  0.000000   \n3    0.014599  0.029412  0.033113  0.102190  0.032258  0.000000  0.016129   \n4    0.000000  0.014706  0.000000  0.000000  0.000000  0.000000  0.000000   \n5    0.598540  0.573529  0.708609  0.000000  0.010753  0.000000  0.016129   \n..        ...       ...       ...       ...       ...       ...       ...   \n308  0.319149  0.000000  0.161765  0.021429  0.045455  0.049020  0.000000   \n309  0.535714  0.771429  0.710280  0.841270  0.884615  0.162162  0.638095   \n310  0.053571  0.038095  0.009346  0.023810  0.000000  0.121622  0.028571   \n311  0.214286  0.104762  0.074766  0.031746  0.038462  0.486486  0.152381   \n312  0.196429  0.085714  0.205607  0.103175  0.076923  0.229730  0.180952   \n\n          7         8         9    ...       190       191       192  \\\n1    0.000000  0.000000  0.000000  ...  0.000000  0.000000  0.215686   \n2    0.029412  0.060150  0.168919  ...  0.649351  0.464286  0.098039   \n3    0.107843  0.000000  0.000000  ...  0.000000  0.000000  0.000000   \n4    0.000000  0.000000  0.000000  ...  0.000000  0.000000  0.006536   \n5    0.078431  0.000000  0.000000  ...  0.000000  0.000000  0.000000   \n..        ...       ...       ...  ...       ...       ...       ...   \n308  0.000000  0.035461  0.000000  ...  0.005952  0.000000  0.164773   \n309  0.641975  0.753846  0.152318  ...  0.069620  0.000000  0.536424   \n310  0.000000  0.023077  0.013245  ...  0.031646  0.770115  0.046358   \n311  0.197531  0.092308  0.072848  ...  0.037975  0.160920  0.304636   \n312  0.160494  0.130769  0.761589  ...  0.860759  0.068966  0.112583   \n\n          193       194       195       196       197       198       199  \n1    0.302632  0.315789  0.027027  0.183007  0.107595  0.000000  0.000000  \n2    0.322368  0.046053  0.128378  0.117647  0.367089  0.020690  0.082803  \n3    0.000000  0.000000  0.000000  0.000000  0.000000  0.000000  0.000000  \n4    0.013158  0.000000  0.000000  0.032680  0.075949  0.020690  0.000000  \n5    0.000000  0.000000  0.000000  0.000000  0.006329  0.000000  0.000000  \n..        ...       ...       ...       ...       ...       ...       ...  \n308  0.045752  0.107784  0.296053  0.227848  0.418750  0.192053  0.380368  \n309  0.019355  0.309211  0.143791  0.167832  0.187919  0.124138  0.564885  \n310  0.658065  0.072368  0.228758  0.251748  0.442953  0.344828  0.030534  \n311  0.206452  0.480263  0.562092  0.321678  0.187919  0.331034  0.106870  \n312  0.116129  0.138158  0.065359  0.258741  0.181208  0.200000  0.297710  \n\n[312 rows x 200 columns]",
      "text/html": "<div>\n<style scoped>\n    .dataframe tbody tr th:only-of-type {\n        vertical-align: middle;\n    }\n\n    .dataframe tbody tr th {\n        vertical-align: top;\n    }\n\n    .dataframe thead th {\n        text-align: right;\n    }\n</style>\n<table border=\"1\" class=\"dataframe\">\n  <thead>\n    <tr style=\"text-align: right;\">\n      <th></th>\n      <th>0</th>\n      <th>1</th>\n      <th>2</th>\n      <th>3</th>\n      <th>4</th>\n      <th>5</th>\n      <th>6</th>\n      <th>7</th>\n      <th>8</th>\n      <th>9</th>\n      <th>...</th>\n      <th>190</th>\n      <th>191</th>\n      <th>192</th>\n      <th>193</th>\n      <th>194</th>\n      <th>195</th>\n      <th>196</th>\n      <th>197</th>\n      <th>198</th>\n      <th>199</th>\n    </tr>\n  </thead>\n  <tbody>\n    <tr>\n      <th>1</th>\n      <td>0.000000</td>\n      <td>0.044118</td>\n      <td>0.000000</td>\n      <td>0.000000</td>\n      <td>0.000000</td>\n      <td>0.000000</td>\n      <td>0.000000</td>\n      <td>0.000000</td>\n      <td>0.000000</td>\n      <td>0.000000</td>\n      <td>...</td>\n      <td>0.000000</td>\n      <td>0.000000</td>\n      <td>0.215686</td>\n      <td>0.302632</td>\n      <td>0.315789</td>\n      <td>0.027027</td>\n      <td>0.183007</td>\n      <td>0.107595</td>\n      <td>0.000000</td>\n      <td>0.000000</td>\n    </tr>\n    <tr>\n      <th>2</th>\n      <td>0.029197</td>\n      <td>0.044118</td>\n      <td>0.039735</td>\n      <td>0.014599</td>\n      <td>0.000000</td>\n      <td>0.000000</td>\n      <td>0.000000</td>\n      <td>0.029412</td>\n      <td>0.060150</td>\n      <td>0.168919</td>\n      <td>...</td>\n      <td>0.649351</td>\n      <td>0.464286</td>\n      <td>0.098039</td>\n      <td>0.322368</td>\n      <td>0.046053</td>\n      <td>0.128378</td>\n      <td>0.117647</td>\n      <td>0.367089</td>\n      <td>0.020690</td>\n      <td>0.082803</td>\n    </tr>\n    <tr>\n      <th>3</th>\n      <td>0.014599</td>\n      <td>0.029412</td>\n      <td>0.033113</td>\n      <td>0.102190</td>\n      <td>0.032258</td>\n      <td>0.000000</td>\n      <td>0.016129</td>\n      <td>0.107843</td>\n      <td>0.000000</td>\n      <td>0.000000</td>\n      <td>...</td>\n      <td>0.000000</td>\n      <td>0.000000</td>\n      <td>0.000000</td>\n      <td>0.000000</td>\n      <td>0.000000</td>\n      <td>0.000000</td>\n      <td>0.000000</td>\n      <td>0.000000</td>\n      <td>0.000000</td>\n      <td>0.000000</td>\n    </tr>\n    <tr>\n      <th>4</th>\n      <td>0.000000</td>\n      <td>0.014706</td>\n      <td>0.000000</td>\n      <td>0.000000</td>\n      <td>0.000000</td>\n      <td>0.000000</td>\n      <td>0.000000</td>\n      <td>0.000000</td>\n      <td>0.000000</td>\n      <td>0.000000</td>\n      <td>...</td>\n      <td>0.000000</td>\n      <td>0.000000</td>\n      <td>0.006536</td>\n      <td>0.013158</td>\n      <td>0.000000</td>\n      <td>0.000000</td>\n      <td>0.032680</td>\n      <td>0.075949</td>\n      <td>0.020690</td>\n      <td>0.000000</td>\n    </tr>\n    <tr>\n      <th>5</th>\n      <td>0.598540</td>\n      <td>0.573529</td>\n      <td>0.708609</td>\n      <td>0.000000</td>\n      <td>0.010753</td>\n      <td>0.000000</td>\n      <td>0.016129</td>\n      <td>0.078431</td>\n      <td>0.000000</td>\n      <td>0.000000</td>\n      <td>...</td>\n      <td>0.000000</td>\n      <td>0.000000</td>\n      <td>0.000000</td>\n      <td>0.000000</td>\n      <td>0.000000</td>\n      <td>0.000000</td>\n      <td>0.000000</td>\n      <td>0.006329</td>\n      <td>0.000000</td>\n      <td>0.000000</td>\n    </tr>\n    <tr>\n      <th>...</th>\n      <td>...</td>\n      <td>...</td>\n      <td>...</td>\n      <td>...</td>\n      <td>...</td>\n      <td>...</td>\n      <td>...</td>\n      <td>...</td>\n      <td>...</td>\n      <td>...</td>\n      <td>...</td>\n      <td>...</td>\n      <td>...</td>\n      <td>...</td>\n      <td>...</td>\n      <td>...</td>\n      <td>...</td>\n      <td>...</td>\n      <td>...</td>\n      <td>...</td>\n      <td>...</td>\n    </tr>\n    <tr>\n      <th>308</th>\n      <td>0.319149</td>\n      <td>0.000000</td>\n      <td>0.161765</td>\n      <td>0.021429</td>\n      <td>0.045455</td>\n      <td>0.049020</td>\n      <td>0.000000</td>\n      <td>0.000000</td>\n      <td>0.035461</td>\n      <td>0.000000</td>\n      <td>...</td>\n      <td>0.005952</td>\n      <td>0.000000</td>\n      <td>0.164773</td>\n      <td>0.045752</td>\n      <td>0.107784</td>\n      <td>0.296053</td>\n      <td>0.227848</td>\n      <td>0.418750</td>\n      <td>0.192053</td>\n      <td>0.380368</td>\n    </tr>\n    <tr>\n      <th>309</th>\n      <td>0.535714</td>\n      <td>0.771429</td>\n      <td>0.710280</td>\n      <td>0.841270</td>\n      <td>0.884615</td>\n      <td>0.162162</td>\n      <td>0.638095</td>\n      <td>0.641975</td>\n      <td>0.753846</td>\n      <td>0.152318</td>\n      <td>...</td>\n      <td>0.069620</td>\n      <td>0.000000</td>\n      <td>0.536424</td>\n      <td>0.019355</td>\n      <td>0.309211</td>\n      <td>0.143791</td>\n      <td>0.167832</td>\n      <td>0.187919</td>\n      <td>0.124138</td>\n      <td>0.564885</td>\n    </tr>\n    <tr>\n      <th>310</th>\n      <td>0.053571</td>\n      <td>0.038095</td>\n      <td>0.009346</td>\n      <td>0.023810</td>\n      <td>0.000000</td>\n      <td>0.121622</td>\n      <td>0.028571</td>\n      <td>0.000000</td>\n      <td>0.023077</td>\n      <td>0.013245</td>\n      <td>...</td>\n      <td>0.031646</td>\n      <td>0.770115</td>\n      <td>0.046358</td>\n      <td>0.658065</td>\n      <td>0.072368</td>\n      <td>0.228758</td>\n      <td>0.251748</td>\n      <td>0.442953</td>\n      <td>0.344828</td>\n      <td>0.030534</td>\n    </tr>\n    <tr>\n      <th>311</th>\n      <td>0.214286</td>\n      <td>0.104762</td>\n      <td>0.074766</td>\n      <td>0.031746</td>\n      <td>0.038462</td>\n      <td>0.486486</td>\n      <td>0.152381</td>\n      <td>0.197531</td>\n      <td>0.092308</td>\n      <td>0.072848</td>\n      <td>...</td>\n      <td>0.037975</td>\n      <td>0.160920</td>\n      <td>0.304636</td>\n      <td>0.206452</td>\n      <td>0.480263</td>\n      <td>0.562092</td>\n      <td>0.321678</td>\n      <td>0.187919</td>\n      <td>0.331034</td>\n      <td>0.106870</td>\n    </tr>\n    <tr>\n      <th>312</th>\n      <td>0.196429</td>\n      <td>0.085714</td>\n      <td>0.205607</td>\n      <td>0.103175</td>\n      <td>0.076923</td>\n      <td>0.229730</td>\n      <td>0.180952</td>\n      <td>0.160494</td>\n      <td>0.130769</td>\n      <td>0.761589</td>\n      <td>...</td>\n      <td>0.860759</td>\n      <td>0.068966</td>\n      <td>0.112583</td>\n      <td>0.116129</td>\n      <td>0.138158</td>\n      <td>0.065359</td>\n      <td>0.258741</td>\n      <td>0.181208</td>\n      <td>0.200000</td>\n      <td>0.297710</td>\n    </tr>\n  </tbody>\n</table>\n<p>312 rows × 200 columns</p>\n</div>"
     },
     "execution_count": 3,
     "metadata": {},
     "output_type": "execute_result"
    }
   ],
   "source": [
    "# Class attribute probabilities based on human knowledge\n",
    "\n",
    "expert_probabilities"
   ],
   "metadata": {
    "collapsed": false,
    "ExecuteTime": {
     "end_time": "2025-03-08T17:52:44.384008900Z",
     "start_time": "2025-03-08T17:52:44.352776100Z"
    }
   },
   "id": "1782410322e69b64"
  },
  {
   "cell_type": "code",
   "execution_count": 4,
   "outputs": [
    {
     "data": {
      "text/plain": "class_id       1     2     3     4     5     6     7     8     9     10   ...  \\\nattribute_id                                                              ...   \n1             0.00  0.07  0.00  0.00  0.00  0.00  0.00  0.00  0.00  0.00  ...   \n2             0.03  0.07  0.04  0.00  0.00  0.00  0.00  0.00  0.07  0.10  ...   \n3             0.00  0.03  0.04  0.13  0.07  0.00  0.00  0.06  0.00  0.00  ...   \n4             0.00  0.03  0.00  0.00  0.00  0.00  0.00  0.00  0.00  0.00  ...   \n5             0.53  0.50  0.68  0.00  0.00  0.00  0.00  0.17  0.00  0.00  ...   \n...            ...   ...   ...   ...   ...   ...   ...   ...   ...   ...  ...   \n308           0.30  0.00  0.18  0.03  0.00  0.00  0.00  0.00  0.07  0.00  ...   \n309           0.37  0.60  0.50  0.70  0.50  0.09  0.48  0.56  0.66  0.17  ...   \n310           0.07  0.03  0.04  0.00  0.00  0.18  0.04  0.00  0.00  0.03  ...   \n311           0.13  0.07  0.14  0.03  0.07  0.18  0.13  0.17  0.10  0.10  ...   \n312           0.30  0.13  0.14  0.10  0.14  0.36  0.17  0.17  0.14  0.63  ...   \n\nclass_id       191   192   193   194   195   196   197   198   199   200  \nattribute_id                                                              \n1             0.00  0.00  0.17  0.23  0.23  0.03  0.27  0.10  0.00  0.00  \n2             0.60  0.50  0.07  0.30  0.07  0.13  0.20  0.23  0.03  0.13  \n3             0.00  0.00  0.00  0.00  0.00  0.00  0.00  0.00  0.00  0.00  \n4             0.00  0.00  0.00  0.00  0.00  0.00  0.03  0.13  0.00  0.00  \n5             0.00  0.00  0.00  0.00  0.00  0.00  0.00  0.03  0.00  0.00  \n...            ...   ...   ...   ...   ...   ...   ...   ...   ...   ...  \n308           0.03  0.00  0.17  0.07  0.13  0.30  0.30  0.50  0.17  0.47  \n309           0.10  0.00  0.33  0.07  0.23  0.17  0.27  0.27  0.13  0.40  \n310           0.07  0.80  0.07  0.50  0.03  0.23  0.20  0.30  0.40  0.07  \n311           0.03  0.13  0.40  0.33  0.47  0.53  0.27  0.13  0.27  0.13  \n312           0.70  0.07  0.17  0.10  0.17  0.07  0.20  0.30  0.17  0.30  \n\n[312 rows x 200 columns]",
      "text/html": "<div>\n<style scoped>\n    .dataframe tbody tr th:only-of-type {\n        vertical-align: middle;\n    }\n\n    .dataframe tbody tr th {\n        vertical-align: top;\n    }\n\n    .dataframe thead th {\n        text-align: right;\n    }\n</style>\n<table border=\"1\" class=\"dataframe\">\n  <thead>\n    <tr style=\"text-align: right;\">\n      <th>class_id</th>\n      <th>1</th>\n      <th>2</th>\n      <th>3</th>\n      <th>4</th>\n      <th>5</th>\n      <th>6</th>\n      <th>7</th>\n      <th>8</th>\n      <th>9</th>\n      <th>10</th>\n      <th>...</th>\n      <th>191</th>\n      <th>192</th>\n      <th>193</th>\n      <th>194</th>\n      <th>195</th>\n      <th>196</th>\n      <th>197</th>\n      <th>198</th>\n      <th>199</th>\n      <th>200</th>\n    </tr>\n    <tr>\n      <th>attribute_id</th>\n      <th></th>\n      <th></th>\n      <th></th>\n      <th></th>\n      <th></th>\n      <th></th>\n      <th></th>\n      <th></th>\n      <th></th>\n      <th></th>\n      <th></th>\n      <th></th>\n      <th></th>\n      <th></th>\n      <th></th>\n      <th></th>\n      <th></th>\n      <th></th>\n      <th></th>\n      <th></th>\n      <th></th>\n    </tr>\n  </thead>\n  <tbody>\n    <tr>\n      <th>1</th>\n      <td>0.00</td>\n      <td>0.07</td>\n      <td>0.00</td>\n      <td>0.00</td>\n      <td>0.00</td>\n      <td>0.00</td>\n      <td>0.00</td>\n      <td>0.00</td>\n      <td>0.00</td>\n      <td>0.00</td>\n      <td>...</td>\n      <td>0.00</td>\n      <td>0.00</td>\n      <td>0.17</td>\n      <td>0.23</td>\n      <td>0.23</td>\n      <td>0.03</td>\n      <td>0.27</td>\n      <td>0.10</td>\n      <td>0.00</td>\n      <td>0.00</td>\n    </tr>\n    <tr>\n      <th>2</th>\n      <td>0.03</td>\n      <td>0.07</td>\n      <td>0.04</td>\n      <td>0.00</td>\n      <td>0.00</td>\n      <td>0.00</td>\n      <td>0.00</td>\n      <td>0.00</td>\n      <td>0.07</td>\n      <td>0.10</td>\n      <td>...</td>\n      <td>0.60</td>\n      <td>0.50</td>\n      <td>0.07</td>\n      <td>0.30</td>\n      <td>0.07</td>\n      <td>0.13</td>\n      <td>0.20</td>\n      <td>0.23</td>\n      <td>0.03</td>\n      <td>0.13</td>\n    </tr>\n    <tr>\n      <th>3</th>\n      <td>0.00</td>\n      <td>0.03</td>\n      <td>0.04</td>\n      <td>0.13</td>\n      <td>0.07</td>\n      <td>0.00</td>\n      <td>0.00</td>\n      <td>0.06</td>\n      <td>0.00</td>\n      <td>0.00</td>\n      <td>...</td>\n      <td>0.00</td>\n      <td>0.00</td>\n      <td>0.00</td>\n      <td>0.00</td>\n      <td>0.00</td>\n      <td>0.00</td>\n      <td>0.00</td>\n      <td>0.00</td>\n      <td>0.00</td>\n      <td>0.00</td>\n    </tr>\n    <tr>\n      <th>4</th>\n      <td>0.00</td>\n      <td>0.03</td>\n      <td>0.00</td>\n      <td>0.00</td>\n      <td>0.00</td>\n      <td>0.00</td>\n      <td>0.00</td>\n      <td>0.00</td>\n      <td>0.00</td>\n      <td>0.00</td>\n      <td>...</td>\n      <td>0.00</td>\n      <td>0.00</td>\n      <td>0.00</td>\n      <td>0.00</td>\n      <td>0.00</td>\n      <td>0.00</td>\n      <td>0.03</td>\n      <td>0.13</td>\n      <td>0.00</td>\n      <td>0.00</td>\n    </tr>\n    <tr>\n      <th>5</th>\n      <td>0.53</td>\n      <td>0.50</td>\n      <td>0.68</td>\n      <td>0.00</td>\n      <td>0.00</td>\n      <td>0.00</td>\n      <td>0.00</td>\n      <td>0.17</td>\n      <td>0.00</td>\n      <td>0.00</td>\n      <td>...</td>\n      <td>0.00</td>\n      <td>0.00</td>\n      <td>0.00</td>\n      <td>0.00</td>\n      <td>0.00</td>\n      <td>0.00</td>\n      <td>0.00</td>\n      <td>0.03</td>\n      <td>0.00</td>\n      <td>0.00</td>\n    </tr>\n    <tr>\n      <th>...</th>\n      <td>...</td>\n      <td>...</td>\n      <td>...</td>\n      <td>...</td>\n      <td>...</td>\n      <td>...</td>\n      <td>...</td>\n      <td>...</td>\n      <td>...</td>\n      <td>...</td>\n      <td>...</td>\n      <td>...</td>\n      <td>...</td>\n      <td>...</td>\n      <td>...</td>\n      <td>...</td>\n      <td>...</td>\n      <td>...</td>\n      <td>...</td>\n      <td>...</td>\n      <td>...</td>\n    </tr>\n    <tr>\n      <th>308</th>\n      <td>0.30</td>\n      <td>0.00</td>\n      <td>0.18</td>\n      <td>0.03</td>\n      <td>0.00</td>\n      <td>0.00</td>\n      <td>0.00</td>\n      <td>0.00</td>\n      <td>0.07</td>\n      <td>0.00</td>\n      <td>...</td>\n      <td>0.03</td>\n      <td>0.00</td>\n      <td>0.17</td>\n      <td>0.07</td>\n      <td>0.13</td>\n      <td>0.30</td>\n      <td>0.30</td>\n      <td>0.50</td>\n      <td>0.17</td>\n      <td>0.47</td>\n    </tr>\n    <tr>\n      <th>309</th>\n      <td>0.37</td>\n      <td>0.60</td>\n      <td>0.50</td>\n      <td>0.70</td>\n      <td>0.50</td>\n      <td>0.09</td>\n      <td>0.48</td>\n      <td>0.56</td>\n      <td>0.66</td>\n      <td>0.17</td>\n      <td>...</td>\n      <td>0.10</td>\n      <td>0.00</td>\n      <td>0.33</td>\n      <td>0.07</td>\n      <td>0.23</td>\n      <td>0.17</td>\n      <td>0.27</td>\n      <td>0.27</td>\n      <td>0.13</td>\n      <td>0.40</td>\n    </tr>\n    <tr>\n      <th>310</th>\n      <td>0.07</td>\n      <td>0.03</td>\n      <td>0.04</td>\n      <td>0.00</td>\n      <td>0.00</td>\n      <td>0.18</td>\n      <td>0.04</td>\n      <td>0.00</td>\n      <td>0.00</td>\n      <td>0.03</td>\n      <td>...</td>\n      <td>0.07</td>\n      <td>0.80</td>\n      <td>0.07</td>\n      <td>0.50</td>\n      <td>0.03</td>\n      <td>0.23</td>\n      <td>0.20</td>\n      <td>0.30</td>\n      <td>0.40</td>\n      <td>0.07</td>\n    </tr>\n    <tr>\n      <th>311</th>\n      <td>0.13</td>\n      <td>0.07</td>\n      <td>0.14</td>\n      <td>0.03</td>\n      <td>0.07</td>\n      <td>0.18</td>\n      <td>0.13</td>\n      <td>0.17</td>\n      <td>0.10</td>\n      <td>0.10</td>\n      <td>...</td>\n      <td>0.03</td>\n      <td>0.13</td>\n      <td>0.40</td>\n      <td>0.33</td>\n      <td>0.47</td>\n      <td>0.53</td>\n      <td>0.27</td>\n      <td>0.13</td>\n      <td>0.27</td>\n      <td>0.13</td>\n    </tr>\n    <tr>\n      <th>312</th>\n      <td>0.30</td>\n      <td>0.13</td>\n      <td>0.14</td>\n      <td>0.10</td>\n      <td>0.14</td>\n      <td>0.36</td>\n      <td>0.17</td>\n      <td>0.17</td>\n      <td>0.14</td>\n      <td>0.63</td>\n      <td>...</td>\n      <td>0.70</td>\n      <td>0.07</td>\n      <td>0.17</td>\n      <td>0.10</td>\n      <td>0.17</td>\n      <td>0.07</td>\n      <td>0.20</td>\n      <td>0.30</td>\n      <td>0.17</td>\n      <td>0.30</td>\n    </tr>\n  </tbody>\n</table>\n<p>312 rows × 200 columns</p>\n</div>"
     },
     "execution_count": 4,
     "metadata": {},
     "output_type": "execute_result"
    }
   ],
   "source": [
    "# Train a Naive Bayes classifier based on the attributes contained in the training dataset\n",
    "\n",
    "train_attribute_labels = image_attribute_labels.loc[image_attribute_labels['trainset']==0].copy()\n",
    "class_attribute_probabilities = train_attribute_labels.pivot_table(index='attribute_id', columns='class_id')['present']\n",
    "round(class_attribute_probabilities,2)"
   ],
   "metadata": {
    "collapsed": false,
    "ExecuteTime": {
     "end_time": "2025-03-08T17:52:44.685959100Z",
     "start_time": "2025-03-08T17:52:44.374009Z"
    }
   },
   "id": "1bd25f4ef5f4c61f"
  },
  {
   "cell_type": "code",
   "execution_count": 6,
   "outputs": [
    {
     "name": "stdout",
     "output_type": "stream",
     "text": [
      "Expert 0.016016016016016016\n",
      "Trained 0.29796463129796463\n",
      "TrainedOnTest 0.7055388722055389\n"
     ]
    }
   ],
   "source": [
    "classifiers = {'Expert': expert_probabilities, 'Trained': class_attribute_probabilities, 'TrainedOnTest': test_attribute_probabilities}\n",
    "for name, classifier in classifiers.items():\n",
    "    count, correct = 0, 0\n",
    "    for image_id, _ in train_test_split.loc[train_test_split['trainset'] == 1].iterrows():\n",
    "        present_attribute_ids = image_attribute_labels.loc[((image_attribute_labels['image_id']==image_id) & (image_attribute_labels['present']==1))]['attribute_id']\n",
    "        class_probability_factors = classifier.loc[classifier.index.isin([attribute_id for attribute_id in present_attribute_ids]) ]\n",
    "        class_probabilities = class_probability_factors.prod()\n",
    "        total_prob          = sum(class_probabilities)\n",
    "        if total_prob > 0:\n",
    "            norm_probabilities  = class_probabilities / total_prob\n",
    "            predicted_class = norm_probabilities.idxmax(skipna=True)\n",
    "            labelled_class  = class_labels.loc[class_labels.index == image_id]['class_id'].tolist()[0]\n",
    "            if predicted_class == labelled_class: correct +=1\n",
    "        count+=1\n",
    "    print(name, correct / count)\n",
    "    \n",
    "        \n",
    "    "
   ],
   "metadata": {
    "collapsed": false,
    "ExecuteTime": {
     "end_time": "2025-03-08T17:55:46.471080800Z",
     "start_time": "2025-03-08T17:53:30.617767600Z"
    }
   },
   "id": "bb0a6379d41c41e5"
  },
  {
   "cell_type": "code",
   "execution_count": null,
   "outputs": [],
   "source": [],
   "metadata": {
    "collapsed": false
   },
   "id": "faeb08d0f702bad8"
  }
 ],
 "metadata": {
  "kernelspec": {
   "display_name": "Python 3",
   "language": "python",
   "name": "python3"
  },
  "language_info": {
   "codemirror_mode": {
    "name": "ipython",
    "version": 2
   },
   "file_extension": ".py",
   "mimetype": "text/x-python",
   "name": "python",
   "nbconvert_exporter": "python",
   "pygments_lexer": "ipython2",
   "version": "2.7.6"
  }
 },
 "nbformat": 4,
 "nbformat_minor": 5
}
