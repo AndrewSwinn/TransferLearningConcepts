{
 "cells": [
  {
   "cell_type": "code",
   "id": "initial_id",
   "metadata": {
    "collapsed": true,
    "ExecuteTime": {
     "end_time": "2025-05-27T11:15:31.703563Z",
     "start_time": "2025-05-27T11:15:31.465799Z"
    }
   },
   "source": "import numpy as np\n",
   "outputs": [],
   "execution_count": 1
  },
  {
   "metadata": {
    "ExecuteTime": {
     "end_time": "2025-05-27T13:19:22.268381Z",
     "start_time": "2025-05-27T13:19:22.238592Z"
    }
   },
   "cell_type": "code",
   "source": [
    "D, N = 5, 10000\n",
    "noise_weight = 10\n",
    "noise = np.random.normal(loc=0, scale=1, size=N)"
   ],
   "id": "e87adae38ebd4e6f",
   "outputs": [],
   "execution_count": 119
  },
  {
   "metadata": {
    "ExecuteTime": {
     "end_time": "2025-05-27T13:49:24.570352Z",
     "start_time": "2025-05-27T13:49:24.554215Z"
    }
   },
   "cell_type": "code",
   "source": [
    "a = np.random.randint(low = 1, high = 20, size=D)\n",
    "X = np.array([np.random.normal(loc=0, scale=1, size=N) for _ in range(D)]).transpose()\n",
    "y = np.random.normal(loc=0, scale=1, size=N)"
   ],
   "id": "24e42d49653b6de3",
   "outputs": [],
   "execution_count": 122
  },
  {
   "metadata": {
    "ExecuteTime": {
     "end_time": "2025-05-27T13:54:00.160501Z",
     "start_time": "2025-05-27T13:54:00.144717Z"
    }
   },
   "cell_type": "code",
   "source": [
    "Cov    = np.matmul(X.T, X) / N\n",
    "invCov = np.linalg.inv(Cov)\n",
    "a = np.matmul(np.matmul(invCov, X.T),y)"
   ],
   "id": "6b2c6010b9332c48",
   "outputs": [],
   "execution_count": 132
  },
  {
   "metadata": {
    "ExecuteTime": {
     "end_time": "2025-05-27T13:54:11.452851Z",
     "start_time": "2025-05-27T13:54:11.435364Z"
    }
   },
   "cell_type": "code",
   "source": "a",
   "id": "dc013a20f3990a4a",
   "outputs": [
    {
     "data": {
      "text/plain": [
       "array([-105.49126458, -192.92530937,   20.99149425,  -40.5455246 ,\n",
       "       -149.4766284 ])"
      ]
     },
     "execution_count": 133,
     "metadata": {},
     "output_type": "execute_result"
    }
   ],
   "execution_count": 133
  },
  {
   "metadata": {
    "ExecuteTime": {
     "end_time": "2025-05-27T13:57:05.591846Z",
     "start_time": "2025-05-27T13:57:05.569457Z"
    }
   },
   "cell_type": "code",
   "source": [
    "S  = y - np.matmul(X, a)\n",
    "S2 = np.matmul(S.T, S) / np.matmul(y.T, y)\n",
    "\n",
    "S"
   ],
   "id": "2e8871b75125b847",
   "outputs": [
    {
     "data": {
      "text/plain": [
       "array([ 168.8651776 , -157.33772522,  447.93381423, ..., -176.85308171,\n",
       "       -339.91472207, -303.8984753 ])"
      ]
     },
     "execution_count": 139,
     "metadata": {},
     "output_type": "execute_result"
    }
   ],
   "execution_count": 139
  },
  {
   "metadata": {
    "ExecuteTime": {
     "end_time": "2025-05-27T14:02:01.542406Z",
     "start_time": "2025-05-27T14:02:01.518385Z"
    }
   },
   "cell_type": "code",
   "source": "a = np.array(a, size=(5,1))",
   "id": "fb87403a3f1f1a5",
   "outputs": [
    {
     "ename": "TypeError",
     "evalue": "array() got an unexpected keyword argument 'size'",
     "output_type": "error",
     "traceback": [
      "\u001B[1;31m---------------------------------------------------------------------------\u001B[0m",
      "\u001B[1;31mTypeError\u001B[0m                                 Traceback (most recent call last)",
      "Cell \u001B[1;32mIn[153], line 1\u001B[0m\n\u001B[1;32m----> 1\u001B[0m a \u001B[38;5;241m=\u001B[39m np\u001B[38;5;241m.\u001B[39marray(a, size\u001B[38;5;241m=\u001B[39m(\u001B[38;5;241m5\u001B[39m,\u001B[38;5;241m1\u001B[39m))\n",
      "\u001B[1;31mTypeError\u001B[0m: array() got an unexpected keyword argument 'size'"
     ]
    }
   ],
   "execution_count": 153
  },
  {
   "metadata": {
    "ExecuteTime": {
     "end_time": "2025-05-27T12:35:44.721002Z",
     "start_time": "2025-05-27T12:35:44.710513Z"
    }
   },
   "cell_type": "code",
   "source": [
    "r  = np.matmul(X.T, y)\n",
    "invCov = np.linalg.inv(Cov)\n",
    "ap = np.matmul(invCov, r) /N\n"
   ],
   "id": "898ce3f2849af5a5",
   "outputs": [],
   "execution_count": 113
  },
  {
   "metadata": {
    "ExecuteTime": {
     "end_time": "2025-05-27T12:35:45.661246Z",
     "start_time": "2025-05-27T12:35:45.644778Z"
    }
   },
   "cell_type": "code",
   "source": "ap\n",
   "id": "a26c2bc1730e206c",
   "outputs": [
    {
     "data": {
      "text/plain": [
       "array([6.13479722, 5.39586888, 5.08664011, 0.85018929, 9.65818887])"
      ]
     },
     "execution_count": 114,
     "metadata": {},
     "output_type": "execute_result"
    }
   ],
   "execution_count": 114
  },
  {
   "metadata": {
    "ExecuteTime": {
     "end_time": "2025-05-27T13:19:26.812952Z",
     "start_time": "2025-05-27T13:19:26.800972Z"
    }
   },
   "cell_type": "code",
   "source": "z = np.random.normal(loc=0, scale=1, size=N)",
   "id": "506dbf4bb3162714",
   "outputs": [],
   "execution_count": 120
  },
  {
   "metadata": {
    "ExecuteTime": {
     "end_time": "2025-05-27T13:19:27.017066Z",
     "start_time": "2025-05-27T13:19:27.005769Z"
    }
   },
   "cell_type": "code",
   "source": "np.matmul(z.T, z) / N",
   "id": "b8dcf39b4002151b",
   "outputs": [
    {
     "data": {
      "text/plain": [
       "1.0072977979298212"
      ]
     },
     "execution_count": 121,
     "metadata": {},
     "output_type": "execute_result"
    }
   ],
   "execution_count": 121
  },
  {
   "metadata": {},
   "cell_type": "code",
   "outputs": [],
   "execution_count": null,
   "source": "",
   "id": "77137d2e0f13a83f"
  }
 ],
 "metadata": {
  "kernelspec": {
   "display_name": "Python 3",
   "language": "python",
   "name": "python3"
  },
  "language_info": {
   "codemirror_mode": {
    "name": "ipython",
    "version": 2
   },
   "file_extension": ".py",
   "mimetype": "text/x-python",
   "name": "python",
   "nbconvert_exporter": "python",
   "pygments_lexer": "ipython2",
   "version": "2.7.6"
  }
 },
 "nbformat": 4,
 "nbformat_minor": 5
}
